{
 "cells": [
  {
   "cell_type": "code",
   "execution_count": 95,
   "metadata": {},
   "outputs": [],
   "source": [
    "import plotly.graph_objects as go\n",
    "\n",
    "import pandas as pd\n",
    "\n",
    "df_logs = {\n",
    "    'amzn': pd.read_csv('../logs_amzn.csv'),\n",
    "    'msft': pd.read_csv('../logs_msft.csv'),\n",
    "    'binance': pd.read_csv('../logs_binance.csv'),\n",
    "    'icm': pd.read_csv('../logs_icm.csv')\n",
    "}\n",
    "\n",
    "df_candlestick = {\n",
    "    'amzn': pd.read_csv('../logs_amzn_candlestick.csv'),\n",
    "    'msft': pd.read_csv('../logs_msft_candlestick.csv'),\n",
    "    'binance': pd.read_csv('../logs_binance_candlestick.csv'),\n",
    "    'icm': pd.read_csv('../logs_icm_candlestick.csv'),\n",
    "}\n",
    "\n",
    "df_ma = {\n",
    "    'amzn': pd.read_csv('../logs_amzn_ma.csv'),\n",
    "    'msft': pd.read_csv('../logs_msft_ma.csv'),\n",
    "    'binance': pd.read_csv('../logs_binance_ma.csv'),\n",
    "    'icm': pd.read_csv('../logs_icm_ma.csv'),\n",
    "}"
   ]
  },
  {
   "cell_type": "code",
   "execution_count": 96,
   "metadata": {},
   "outputs": [
    {
     "data": {
      "application/vnd.plotly.v1+json": {
       "config": {
        "plotlyServerURL": "https://plot.ly"
       },
       "data": [
        {
         "close": [
          187.47,
          187.36,
          187.4151,
          187.39,
          187.4099,
          187.41,
          187.46,
          187.43,
          187.45,
          187.54,
          187.5099,
          187.48,
          187.555,
          187.58,
          187.57,
          187.575,
          187.59,
          187.555,
          187.5,
          187.47,
          187.5,
          187.459,
          187.46,
          187.54,
          187.52
         ],
         "high": [
          187.5024,
          187.41,
          187.4151,
          187.44,
          187.42,
          187.47,
          187.5,
          187.4479,
          187.49,
          187.5788,
          187.535,
          187.5064,
          187.555,
          187.58,
          187.62,
          187.6588,
          187.61,
          187.6,
          187.55,
          187.52,
          187.5037,
          187.52,
          187.51,
          187.54,
          187.5597
         ],
         "low": [
          187.3567,
          187.36,
          187.36,
          187.36,
          187.3677,
          187.38,
          187.36,
          187.36,
          187.395,
          187.4354,
          187.44,
          187.4312,
          187.4853,
          187.515,
          187.56,
          187.5219,
          187.55,
          187.555,
          187.4957,
          187.45,
          187.43,
          187.455,
          187.4512,
          187.47,
          187.4756
         ],
         "open": [
          187.407,
          187.38,
          187.36,
          187.43,
          187.38,
          187.38,
          187.41,
          187.44,
          187.425,
          187.53,
          187.53,
          187.49,
          187.51,
          187.53,
          187.5764,
          187.5443,
          187.61,
          187.59,
          187.55,
          187.5,
          187.445,
          187.52,
          187.465,
          187.49,
          187.54
         ],
         "type": "candlestick",
         "x": [
          "2024-06-25T18:50:36.390000",
          "2024-06-25T18:51:37.495000",
          "2024-06-25T18:52:42.531000",
          "2024-06-25T18:53:46.621000",
          "2024-06-25T18:54:52.787000",
          "2024-06-25T18:55:54.903000",
          "2024-06-25T18:57:05.142000",
          "2024-06-25T18:58:05.226000",
          "2024-06-25T18:59:11.290000",
          "2024-06-25T19:00:17.830000",
          "2024-06-25T19:01:18.309000",
          "2024-06-25T19:02:21.900000",
          "2024-06-25T19:03:22.434000",
          "2024-06-25T19:04:29.019000",
          "2024-06-25T19:05:30.682000",
          "2024-06-25T19:06:34.828000",
          "2024-06-25T19:07:37.099000",
          "2024-06-25T19:08:41.259000",
          "2024-06-25T19:09:42.430000",
          "2024-06-25T19:11:05.832000",
          "2024-06-25T19:12:10.082000",
          "2024-06-25T19:13:12.244000",
          "2024-06-25T19:14:14.326000",
          "2024-06-25T19:15:15.555000",
          "2024-06-25T19:16:15.555000"
         ]
        }
       ],
       "layout": {
        "template": {
         "data": {
          "bar": [
           {
            "error_x": {
             "color": "#2a3f5f"
            },
            "error_y": {
             "color": "#2a3f5f"
            },
            "marker": {
             "line": {
              "color": "#E5ECF6",
              "width": 0.5
             },
             "pattern": {
              "fillmode": "overlay",
              "size": 10,
              "solidity": 0.2
             }
            },
            "type": "bar"
           }
          ],
          "barpolar": [
           {
            "marker": {
             "line": {
              "color": "#E5ECF6",
              "width": 0.5
             },
             "pattern": {
              "fillmode": "overlay",
              "size": 10,
              "solidity": 0.2
             }
            },
            "type": "barpolar"
           }
          ],
          "carpet": [
           {
            "aaxis": {
             "endlinecolor": "#2a3f5f",
             "gridcolor": "white",
             "linecolor": "white",
             "minorgridcolor": "white",
             "startlinecolor": "#2a3f5f"
            },
            "baxis": {
             "endlinecolor": "#2a3f5f",
             "gridcolor": "white",
             "linecolor": "white",
             "minorgridcolor": "white",
             "startlinecolor": "#2a3f5f"
            },
            "type": "carpet"
           }
          ],
          "choropleth": [
           {
            "colorbar": {
             "outlinewidth": 0,
             "ticks": ""
            },
            "type": "choropleth"
           }
          ],
          "contour": [
           {
            "colorbar": {
             "outlinewidth": 0,
             "ticks": ""
            },
            "colorscale": [
             [
              0,
              "#0d0887"
             ],
             [
              0.1111111111111111,
              "#46039f"
             ],
             [
              0.2222222222222222,
              "#7201a8"
             ],
             [
              0.3333333333333333,
              "#9c179e"
             ],
             [
              0.4444444444444444,
              "#bd3786"
             ],
             [
              0.5555555555555556,
              "#d8576b"
             ],
             [
              0.6666666666666666,
              "#ed7953"
             ],
             [
              0.7777777777777778,
              "#fb9f3a"
             ],
             [
              0.8888888888888888,
              "#fdca26"
             ],
             [
              1,
              "#f0f921"
             ]
            ],
            "type": "contour"
           }
          ],
          "contourcarpet": [
           {
            "colorbar": {
             "outlinewidth": 0,
             "ticks": ""
            },
            "type": "contourcarpet"
           }
          ],
          "heatmap": [
           {
            "colorbar": {
             "outlinewidth": 0,
             "ticks": ""
            },
            "colorscale": [
             [
              0,
              "#0d0887"
             ],
             [
              0.1111111111111111,
              "#46039f"
             ],
             [
              0.2222222222222222,
              "#7201a8"
             ],
             [
              0.3333333333333333,
              "#9c179e"
             ],
             [
              0.4444444444444444,
              "#bd3786"
             ],
             [
              0.5555555555555556,
              "#d8576b"
             ],
             [
              0.6666666666666666,
              "#ed7953"
             ],
             [
              0.7777777777777778,
              "#fb9f3a"
             ],
             [
              0.8888888888888888,
              "#fdca26"
             ],
             [
              1,
              "#f0f921"
             ]
            ],
            "type": "heatmap"
           }
          ],
          "heatmapgl": [
           {
            "colorbar": {
             "outlinewidth": 0,
             "ticks": ""
            },
            "colorscale": [
             [
              0,
              "#0d0887"
             ],
             [
              0.1111111111111111,
              "#46039f"
             ],
             [
              0.2222222222222222,
              "#7201a8"
             ],
             [
              0.3333333333333333,
              "#9c179e"
             ],
             [
              0.4444444444444444,
              "#bd3786"
             ],
             [
              0.5555555555555556,
              "#d8576b"
             ],
             [
              0.6666666666666666,
              "#ed7953"
             ],
             [
              0.7777777777777778,
              "#fb9f3a"
             ],
             [
              0.8888888888888888,
              "#fdca26"
             ],
             [
              1,
              "#f0f921"
             ]
            ],
            "type": "heatmapgl"
           }
          ],
          "histogram": [
           {
            "marker": {
             "pattern": {
              "fillmode": "overlay",
              "size": 10,
              "solidity": 0.2
             }
            },
            "type": "histogram"
           }
          ],
          "histogram2d": [
           {
            "colorbar": {
             "outlinewidth": 0,
             "ticks": ""
            },
            "colorscale": [
             [
              0,
              "#0d0887"
             ],
             [
              0.1111111111111111,
              "#46039f"
             ],
             [
              0.2222222222222222,
              "#7201a8"
             ],
             [
              0.3333333333333333,
              "#9c179e"
             ],
             [
              0.4444444444444444,
              "#bd3786"
             ],
             [
              0.5555555555555556,
              "#d8576b"
             ],
             [
              0.6666666666666666,
              "#ed7953"
             ],
             [
              0.7777777777777778,
              "#fb9f3a"
             ],
             [
              0.8888888888888888,
              "#fdca26"
             ],
             [
              1,
              "#f0f921"
             ]
            ],
            "type": "histogram2d"
           }
          ],
          "histogram2dcontour": [
           {
            "colorbar": {
             "outlinewidth": 0,
             "ticks": ""
            },
            "colorscale": [
             [
              0,
              "#0d0887"
             ],
             [
              0.1111111111111111,
              "#46039f"
             ],
             [
              0.2222222222222222,
              "#7201a8"
             ],
             [
              0.3333333333333333,
              "#9c179e"
             ],
             [
              0.4444444444444444,
              "#bd3786"
             ],
             [
              0.5555555555555556,
              "#d8576b"
             ],
             [
              0.6666666666666666,
              "#ed7953"
             ],
             [
              0.7777777777777778,
              "#fb9f3a"
             ],
             [
              0.8888888888888888,
              "#fdca26"
             ],
             [
              1,
              "#f0f921"
             ]
            ],
            "type": "histogram2dcontour"
           }
          ],
          "mesh3d": [
           {
            "colorbar": {
             "outlinewidth": 0,
             "ticks": ""
            },
            "type": "mesh3d"
           }
          ],
          "parcoords": [
           {
            "line": {
             "colorbar": {
              "outlinewidth": 0,
              "ticks": ""
             }
            },
            "type": "parcoords"
           }
          ],
          "pie": [
           {
            "automargin": true,
            "type": "pie"
           }
          ],
          "scatter": [
           {
            "fillpattern": {
             "fillmode": "overlay",
             "size": 10,
             "solidity": 0.2
            },
            "type": "scatter"
           }
          ],
          "scatter3d": [
           {
            "line": {
             "colorbar": {
              "outlinewidth": 0,
              "ticks": ""
             }
            },
            "marker": {
             "colorbar": {
              "outlinewidth": 0,
              "ticks": ""
             }
            },
            "type": "scatter3d"
           }
          ],
          "scattercarpet": [
           {
            "marker": {
             "colorbar": {
              "outlinewidth": 0,
              "ticks": ""
             }
            },
            "type": "scattercarpet"
           }
          ],
          "scattergeo": [
           {
            "marker": {
             "colorbar": {
              "outlinewidth": 0,
              "ticks": ""
             }
            },
            "type": "scattergeo"
           }
          ],
          "scattergl": [
           {
            "marker": {
             "colorbar": {
              "outlinewidth": 0,
              "ticks": ""
             }
            },
            "type": "scattergl"
           }
          ],
          "scattermapbox": [
           {
            "marker": {
             "colorbar": {
              "outlinewidth": 0,
              "ticks": ""
             }
            },
            "type": "scattermapbox"
           }
          ],
          "scatterpolar": [
           {
            "marker": {
             "colorbar": {
              "outlinewidth": 0,
              "ticks": ""
             }
            },
            "type": "scatterpolar"
           }
          ],
          "scatterpolargl": [
           {
            "marker": {
             "colorbar": {
              "outlinewidth": 0,
              "ticks": ""
             }
            },
            "type": "scatterpolargl"
           }
          ],
          "scatterternary": [
           {
            "marker": {
             "colorbar": {
              "outlinewidth": 0,
              "ticks": ""
             }
            },
            "type": "scatterternary"
           }
          ],
          "surface": [
           {
            "colorbar": {
             "outlinewidth": 0,
             "ticks": ""
            },
            "colorscale": [
             [
              0,
              "#0d0887"
             ],
             [
              0.1111111111111111,
              "#46039f"
             ],
             [
              0.2222222222222222,
              "#7201a8"
             ],
             [
              0.3333333333333333,
              "#9c179e"
             ],
             [
              0.4444444444444444,
              "#bd3786"
             ],
             [
              0.5555555555555556,
              "#d8576b"
             ],
             [
              0.6666666666666666,
              "#ed7953"
             ],
             [
              0.7777777777777778,
              "#fb9f3a"
             ],
             [
              0.8888888888888888,
              "#fdca26"
             ],
             [
              1,
              "#f0f921"
             ]
            ],
            "type": "surface"
           }
          ],
          "table": [
           {
            "cells": {
             "fill": {
              "color": "#EBF0F8"
             },
             "line": {
              "color": "white"
             }
            },
            "header": {
             "fill": {
              "color": "#C8D4E3"
             },
             "line": {
              "color": "white"
             }
            },
            "type": "table"
           }
          ]
         },
         "layout": {
          "annotationdefaults": {
           "arrowcolor": "#2a3f5f",
           "arrowhead": 0,
           "arrowwidth": 1
          },
          "autotypenumbers": "strict",
          "coloraxis": {
           "colorbar": {
            "outlinewidth": 0,
            "ticks": ""
           }
          },
          "colorscale": {
           "diverging": [
            [
             0,
             "#8e0152"
            ],
            [
             0.1,
             "#c51b7d"
            ],
            [
             0.2,
             "#de77ae"
            ],
            [
             0.3,
             "#f1b6da"
            ],
            [
             0.4,
             "#fde0ef"
            ],
            [
             0.5,
             "#f7f7f7"
            ],
            [
             0.6,
             "#e6f5d0"
            ],
            [
             0.7,
             "#b8e186"
            ],
            [
             0.8,
             "#7fbc41"
            ],
            [
             0.9,
             "#4d9221"
            ],
            [
             1,
             "#276419"
            ]
           ],
           "sequential": [
            [
             0,
             "#0d0887"
            ],
            [
             0.1111111111111111,
             "#46039f"
            ],
            [
             0.2222222222222222,
             "#7201a8"
            ],
            [
             0.3333333333333333,
             "#9c179e"
            ],
            [
             0.4444444444444444,
             "#bd3786"
            ],
            [
             0.5555555555555556,
             "#d8576b"
            ],
            [
             0.6666666666666666,
             "#ed7953"
            ],
            [
             0.7777777777777778,
             "#fb9f3a"
            ],
            [
             0.8888888888888888,
             "#fdca26"
            ],
            [
             1,
             "#f0f921"
            ]
           ],
           "sequentialminus": [
            [
             0,
             "#0d0887"
            ],
            [
             0.1111111111111111,
             "#46039f"
            ],
            [
             0.2222222222222222,
             "#7201a8"
            ],
            [
             0.3333333333333333,
             "#9c179e"
            ],
            [
             0.4444444444444444,
             "#bd3786"
            ],
            [
             0.5555555555555556,
             "#d8576b"
            ],
            [
             0.6666666666666666,
             "#ed7953"
            ],
            [
             0.7777777777777778,
             "#fb9f3a"
            ],
            [
             0.8888888888888888,
             "#fdca26"
            ],
            [
             1,
             "#f0f921"
            ]
           ]
          },
          "colorway": [
           "#636efa",
           "#EF553B",
           "#00cc96",
           "#ab63fa",
           "#FFA15A",
           "#19d3f3",
           "#FF6692",
           "#B6E880",
           "#FF97FF",
           "#FECB52"
          ],
          "font": {
           "color": "#2a3f5f"
          },
          "geo": {
           "bgcolor": "white",
           "lakecolor": "white",
           "landcolor": "#E5ECF6",
           "showlakes": true,
           "showland": true,
           "subunitcolor": "white"
          },
          "hoverlabel": {
           "align": "left"
          },
          "hovermode": "closest",
          "mapbox": {
           "style": "light"
          },
          "paper_bgcolor": "white",
          "plot_bgcolor": "#E5ECF6",
          "polar": {
           "angularaxis": {
            "gridcolor": "white",
            "linecolor": "white",
            "ticks": ""
           },
           "bgcolor": "#E5ECF6",
           "radialaxis": {
            "gridcolor": "white",
            "linecolor": "white",
            "ticks": ""
           }
          },
          "scene": {
           "xaxis": {
            "backgroundcolor": "#E5ECF6",
            "gridcolor": "white",
            "gridwidth": 2,
            "linecolor": "white",
            "showbackground": true,
            "ticks": "",
            "zerolinecolor": "white"
           },
           "yaxis": {
            "backgroundcolor": "#E5ECF6",
            "gridcolor": "white",
            "gridwidth": 2,
            "linecolor": "white",
            "showbackground": true,
            "ticks": "",
            "zerolinecolor": "white"
           },
           "zaxis": {
            "backgroundcolor": "#E5ECF6",
            "gridcolor": "white",
            "gridwidth": 2,
            "linecolor": "white",
            "showbackground": true,
            "ticks": "",
            "zerolinecolor": "white"
           }
          },
          "shapedefaults": {
           "line": {
            "color": "#2a3f5f"
           }
          },
          "ternary": {
           "aaxis": {
            "gridcolor": "white",
            "linecolor": "white",
            "ticks": ""
           },
           "baxis": {
            "gridcolor": "white",
            "linecolor": "white",
            "ticks": ""
           },
           "bgcolor": "#E5ECF6",
           "caxis": {
            "gridcolor": "white",
            "linecolor": "white",
            "ticks": ""
           }
          },
          "title": {
           "x": 0.05
          },
          "xaxis": {
           "automargin": true,
           "gridcolor": "white",
           "linecolor": "white",
           "ticks": "",
           "title": {
            "standoff": 15
           },
           "zerolinecolor": "white",
           "zerolinewidth": 2
          },
          "yaxis": {
           "automargin": true,
           "gridcolor": "white",
           "linecolor": "white",
           "ticks": "",
           "title": {
            "standoff": 15
           },
           "zerolinecolor": "white",
           "zerolinewidth": 2
          }
         }
        }
       }
      }
     },
     "metadata": {},
     "output_type": "display_data"
    },
    {
     "data": {
      "application/vnd.plotly.v1+json": {
       "config": {
        "plotlyServerURL": "https://plot.ly"
       },
       "data": [
        {
         "close": [
          450.0701,
          450.12,
          450.1101,
          450.1,
          450.1,
          450.0538,
          450.23,
          450.13,
          450.17,
          450.17,
          450.242,
          450.17,
          450.22,
          450.12,
          450.16,
          450.17,
          450.075,
          450.135,
          450.185,
          450.22,
          450.2,
          450.2913,
          450.21,
          450.27,
          450.3799
         ],
         "high": [
          450.11,
          450.17,
          450.1799,
          450.145,
          450.2,
          450.22,
          450.24,
          450.18,
          450.2,
          450.2499,
          450.2488,
          450.24,
          450.22,
          450.23,
          450.1789,
          450.22,
          450.2,
          450.175,
          450.185,
          450.23,
          450.23,
          450.36,
          450.305,
          450.27,
          450.38
         ],
         "low": [
          449.8285,
          449.9178,
          450.03,
          449.988,
          450.0919,
          450.03,
          449.895,
          450.0734,
          450.12,
          450.14,
          450.1,
          450.17,
          450.1612,
          450.112,
          450.0401,
          450.09,
          450.0607,
          450.06,
          450.1,
          450.1,
          450.1312,
          450.2,
          450.21,
          450.16,
          450.2164
         ],
         "open": [
          449.94,
          450.08,
          450.11,
          450.124,
          450.1388,
          450.12,
          449.99,
          450.1799,
          450.15,
          450.22,
          450.19,
          450.24,
          450.188,
          450.23,
          450.14,
          450.1348,
          450.1799,
          450.06,
          450.17,
          450.16,
          450.22,
          450.2,
          450.305,
          450.245,
          450.28
         ],
         "type": "candlestick",
         "x": [
          "2024-06-25T18:50:36.390000",
          "2024-06-25T18:51:37.495000",
          "2024-06-25T18:52:42.531000",
          "2024-06-25T18:53:46.621000",
          "2024-06-25T18:54:52.787000",
          "2024-06-25T18:55:54.903000",
          "2024-06-25T18:57:05.142000",
          "2024-06-25T18:58:05.226000",
          "2024-06-25T18:59:11.290000",
          "2024-06-25T19:00:17.830000",
          "2024-06-25T19:01:18.309000",
          "2024-06-25T19:02:21.900000",
          "2024-06-25T19:03:22.434000",
          "2024-06-25T19:04:29.019000",
          "2024-06-25T19:05:30.682000",
          "2024-06-25T19:06:34.828000",
          "2024-06-25T19:07:37.099000",
          "2024-06-25T19:08:41.259000",
          "2024-06-25T19:09:42.430000",
          "2024-06-25T19:11:05.832000",
          "2024-06-25T19:12:10.082000",
          "2024-06-25T19:13:12.244000",
          "2024-06-25T19:14:14.326000",
          "2024-06-25T19:15:15.555000",
          "2024-06-25T19:16:15.555000"
         ]
        }
       ],
       "layout": {
        "template": {
         "data": {
          "bar": [
           {
            "error_x": {
             "color": "#2a3f5f"
            },
            "error_y": {
             "color": "#2a3f5f"
            },
            "marker": {
             "line": {
              "color": "#E5ECF6",
              "width": 0.5
             },
             "pattern": {
              "fillmode": "overlay",
              "size": 10,
              "solidity": 0.2
             }
            },
            "type": "bar"
           }
          ],
          "barpolar": [
           {
            "marker": {
             "line": {
              "color": "#E5ECF6",
              "width": 0.5
             },
             "pattern": {
              "fillmode": "overlay",
              "size": 10,
              "solidity": 0.2
             }
            },
            "type": "barpolar"
           }
          ],
          "carpet": [
           {
            "aaxis": {
             "endlinecolor": "#2a3f5f",
             "gridcolor": "white",
             "linecolor": "white",
             "minorgridcolor": "white",
             "startlinecolor": "#2a3f5f"
            },
            "baxis": {
             "endlinecolor": "#2a3f5f",
             "gridcolor": "white",
             "linecolor": "white",
             "minorgridcolor": "white",
             "startlinecolor": "#2a3f5f"
            },
            "type": "carpet"
           }
          ],
          "choropleth": [
           {
            "colorbar": {
             "outlinewidth": 0,
             "ticks": ""
            },
            "type": "choropleth"
           }
          ],
          "contour": [
           {
            "colorbar": {
             "outlinewidth": 0,
             "ticks": ""
            },
            "colorscale": [
             [
              0,
              "#0d0887"
             ],
             [
              0.1111111111111111,
              "#46039f"
             ],
             [
              0.2222222222222222,
              "#7201a8"
             ],
             [
              0.3333333333333333,
              "#9c179e"
             ],
             [
              0.4444444444444444,
              "#bd3786"
             ],
             [
              0.5555555555555556,
              "#d8576b"
             ],
             [
              0.6666666666666666,
              "#ed7953"
             ],
             [
              0.7777777777777778,
              "#fb9f3a"
             ],
             [
              0.8888888888888888,
              "#fdca26"
             ],
             [
              1,
              "#f0f921"
             ]
            ],
            "type": "contour"
           }
          ],
          "contourcarpet": [
           {
            "colorbar": {
             "outlinewidth": 0,
             "ticks": ""
            },
            "type": "contourcarpet"
           }
          ],
          "heatmap": [
           {
            "colorbar": {
             "outlinewidth": 0,
             "ticks": ""
            },
            "colorscale": [
             [
              0,
              "#0d0887"
             ],
             [
              0.1111111111111111,
              "#46039f"
             ],
             [
              0.2222222222222222,
              "#7201a8"
             ],
             [
              0.3333333333333333,
              "#9c179e"
             ],
             [
              0.4444444444444444,
              "#bd3786"
             ],
             [
              0.5555555555555556,
              "#d8576b"
             ],
             [
              0.6666666666666666,
              "#ed7953"
             ],
             [
              0.7777777777777778,
              "#fb9f3a"
             ],
             [
              0.8888888888888888,
              "#fdca26"
             ],
             [
              1,
              "#f0f921"
             ]
            ],
            "type": "heatmap"
           }
          ],
          "heatmapgl": [
           {
            "colorbar": {
             "outlinewidth": 0,
             "ticks": ""
            },
            "colorscale": [
             [
              0,
              "#0d0887"
             ],
             [
              0.1111111111111111,
              "#46039f"
             ],
             [
              0.2222222222222222,
              "#7201a8"
             ],
             [
              0.3333333333333333,
              "#9c179e"
             ],
             [
              0.4444444444444444,
              "#bd3786"
             ],
             [
              0.5555555555555556,
              "#d8576b"
             ],
             [
              0.6666666666666666,
              "#ed7953"
             ],
             [
              0.7777777777777778,
              "#fb9f3a"
             ],
             [
              0.8888888888888888,
              "#fdca26"
             ],
             [
              1,
              "#f0f921"
             ]
            ],
            "type": "heatmapgl"
           }
          ],
          "histogram": [
           {
            "marker": {
             "pattern": {
              "fillmode": "overlay",
              "size": 10,
              "solidity": 0.2
             }
            },
            "type": "histogram"
           }
          ],
          "histogram2d": [
           {
            "colorbar": {
             "outlinewidth": 0,
             "ticks": ""
            },
            "colorscale": [
             [
              0,
              "#0d0887"
             ],
             [
              0.1111111111111111,
              "#46039f"
             ],
             [
              0.2222222222222222,
              "#7201a8"
             ],
             [
              0.3333333333333333,
              "#9c179e"
             ],
             [
              0.4444444444444444,
              "#bd3786"
             ],
             [
              0.5555555555555556,
              "#d8576b"
             ],
             [
              0.6666666666666666,
              "#ed7953"
             ],
             [
              0.7777777777777778,
              "#fb9f3a"
             ],
             [
              0.8888888888888888,
              "#fdca26"
             ],
             [
              1,
              "#f0f921"
             ]
            ],
            "type": "histogram2d"
           }
          ],
          "histogram2dcontour": [
           {
            "colorbar": {
             "outlinewidth": 0,
             "ticks": ""
            },
            "colorscale": [
             [
              0,
              "#0d0887"
             ],
             [
              0.1111111111111111,
              "#46039f"
             ],
             [
              0.2222222222222222,
              "#7201a8"
             ],
             [
              0.3333333333333333,
              "#9c179e"
             ],
             [
              0.4444444444444444,
              "#bd3786"
             ],
             [
              0.5555555555555556,
              "#d8576b"
             ],
             [
              0.6666666666666666,
              "#ed7953"
             ],
             [
              0.7777777777777778,
              "#fb9f3a"
             ],
             [
              0.8888888888888888,
              "#fdca26"
             ],
             [
              1,
              "#f0f921"
             ]
            ],
            "type": "histogram2dcontour"
           }
          ],
          "mesh3d": [
           {
            "colorbar": {
             "outlinewidth": 0,
             "ticks": ""
            },
            "type": "mesh3d"
           }
          ],
          "parcoords": [
           {
            "line": {
             "colorbar": {
              "outlinewidth": 0,
              "ticks": ""
             }
            },
            "type": "parcoords"
           }
          ],
          "pie": [
           {
            "automargin": true,
            "type": "pie"
           }
          ],
          "scatter": [
           {
            "fillpattern": {
             "fillmode": "overlay",
             "size": 10,
             "solidity": 0.2
            },
            "type": "scatter"
           }
          ],
          "scatter3d": [
           {
            "line": {
             "colorbar": {
              "outlinewidth": 0,
              "ticks": ""
             }
            },
            "marker": {
             "colorbar": {
              "outlinewidth": 0,
              "ticks": ""
             }
            },
            "type": "scatter3d"
           }
          ],
          "scattercarpet": [
           {
            "marker": {
             "colorbar": {
              "outlinewidth": 0,
              "ticks": ""
             }
            },
            "type": "scattercarpet"
           }
          ],
          "scattergeo": [
           {
            "marker": {
             "colorbar": {
              "outlinewidth": 0,
              "ticks": ""
             }
            },
            "type": "scattergeo"
           }
          ],
          "scattergl": [
           {
            "marker": {
             "colorbar": {
              "outlinewidth": 0,
              "ticks": ""
             }
            },
            "type": "scattergl"
           }
          ],
          "scattermapbox": [
           {
            "marker": {
             "colorbar": {
              "outlinewidth": 0,
              "ticks": ""
             }
            },
            "type": "scattermapbox"
           }
          ],
          "scatterpolar": [
           {
            "marker": {
             "colorbar": {
              "outlinewidth": 0,
              "ticks": ""
             }
            },
            "type": "scatterpolar"
           }
          ],
          "scatterpolargl": [
           {
            "marker": {
             "colorbar": {
              "outlinewidth": 0,
              "ticks": ""
             }
            },
            "type": "scatterpolargl"
           }
          ],
          "scatterternary": [
           {
            "marker": {
             "colorbar": {
              "outlinewidth": 0,
              "ticks": ""
             }
            },
            "type": "scatterternary"
           }
          ],
          "surface": [
           {
            "colorbar": {
             "outlinewidth": 0,
             "ticks": ""
            },
            "colorscale": [
             [
              0,
              "#0d0887"
             ],
             [
              0.1111111111111111,
              "#46039f"
             ],
             [
              0.2222222222222222,
              "#7201a8"
             ],
             [
              0.3333333333333333,
              "#9c179e"
             ],
             [
              0.4444444444444444,
              "#bd3786"
             ],
             [
              0.5555555555555556,
              "#d8576b"
             ],
             [
              0.6666666666666666,
              "#ed7953"
             ],
             [
              0.7777777777777778,
              "#fb9f3a"
             ],
             [
              0.8888888888888888,
              "#fdca26"
             ],
             [
              1,
              "#f0f921"
             ]
            ],
            "type": "surface"
           }
          ],
          "table": [
           {
            "cells": {
             "fill": {
              "color": "#EBF0F8"
             },
             "line": {
              "color": "white"
             }
            },
            "header": {
             "fill": {
              "color": "#C8D4E3"
             },
             "line": {
              "color": "white"
             }
            },
            "type": "table"
           }
          ]
         },
         "layout": {
          "annotationdefaults": {
           "arrowcolor": "#2a3f5f",
           "arrowhead": 0,
           "arrowwidth": 1
          },
          "autotypenumbers": "strict",
          "coloraxis": {
           "colorbar": {
            "outlinewidth": 0,
            "ticks": ""
           }
          },
          "colorscale": {
           "diverging": [
            [
             0,
             "#8e0152"
            ],
            [
             0.1,
             "#c51b7d"
            ],
            [
             0.2,
             "#de77ae"
            ],
            [
             0.3,
             "#f1b6da"
            ],
            [
             0.4,
             "#fde0ef"
            ],
            [
             0.5,
             "#f7f7f7"
            ],
            [
             0.6,
             "#e6f5d0"
            ],
            [
             0.7,
             "#b8e186"
            ],
            [
             0.8,
             "#7fbc41"
            ],
            [
             0.9,
             "#4d9221"
            ],
            [
             1,
             "#276419"
            ]
           ],
           "sequential": [
            [
             0,
             "#0d0887"
            ],
            [
             0.1111111111111111,
             "#46039f"
            ],
            [
             0.2222222222222222,
             "#7201a8"
            ],
            [
             0.3333333333333333,
             "#9c179e"
            ],
            [
             0.4444444444444444,
             "#bd3786"
            ],
            [
             0.5555555555555556,
             "#d8576b"
            ],
            [
             0.6666666666666666,
             "#ed7953"
            ],
            [
             0.7777777777777778,
             "#fb9f3a"
            ],
            [
             0.8888888888888888,
             "#fdca26"
            ],
            [
             1,
             "#f0f921"
            ]
           ],
           "sequentialminus": [
            [
             0,
             "#0d0887"
            ],
            [
             0.1111111111111111,
             "#46039f"
            ],
            [
             0.2222222222222222,
             "#7201a8"
            ],
            [
             0.3333333333333333,
             "#9c179e"
            ],
            [
             0.4444444444444444,
             "#bd3786"
            ],
            [
             0.5555555555555556,
             "#d8576b"
            ],
            [
             0.6666666666666666,
             "#ed7953"
            ],
            [
             0.7777777777777778,
             "#fb9f3a"
            ],
            [
             0.8888888888888888,
             "#fdca26"
            ],
            [
             1,
             "#f0f921"
            ]
           ]
          },
          "colorway": [
           "#636efa",
           "#EF553B",
           "#00cc96",
           "#ab63fa",
           "#FFA15A",
           "#19d3f3",
           "#FF6692",
           "#B6E880",
           "#FF97FF",
           "#FECB52"
          ],
          "font": {
           "color": "#2a3f5f"
          },
          "geo": {
           "bgcolor": "white",
           "lakecolor": "white",
           "landcolor": "#E5ECF6",
           "showlakes": true,
           "showland": true,
           "subunitcolor": "white"
          },
          "hoverlabel": {
           "align": "left"
          },
          "hovermode": "closest",
          "mapbox": {
           "style": "light"
          },
          "paper_bgcolor": "white",
          "plot_bgcolor": "#E5ECF6",
          "polar": {
           "angularaxis": {
            "gridcolor": "white",
            "linecolor": "white",
            "ticks": ""
           },
           "bgcolor": "#E5ECF6",
           "radialaxis": {
            "gridcolor": "white",
            "linecolor": "white",
            "ticks": ""
           }
          },
          "scene": {
           "xaxis": {
            "backgroundcolor": "#E5ECF6",
            "gridcolor": "white",
            "gridwidth": 2,
            "linecolor": "white",
            "showbackground": true,
            "ticks": "",
            "zerolinecolor": "white"
           },
           "yaxis": {
            "backgroundcolor": "#E5ECF6",
            "gridcolor": "white",
            "gridwidth": 2,
            "linecolor": "white",
            "showbackground": true,
            "ticks": "",
            "zerolinecolor": "white"
           },
           "zaxis": {
            "backgroundcolor": "#E5ECF6",
            "gridcolor": "white",
            "gridwidth": 2,
            "linecolor": "white",
            "showbackground": true,
            "ticks": "",
            "zerolinecolor": "white"
           }
          },
          "shapedefaults": {
           "line": {
            "color": "#2a3f5f"
           }
          },
          "ternary": {
           "aaxis": {
            "gridcolor": "white",
            "linecolor": "white",
            "ticks": ""
           },
           "baxis": {
            "gridcolor": "white",
            "linecolor": "white",
            "ticks": ""
           },
           "bgcolor": "#E5ECF6",
           "caxis": {
            "gridcolor": "white",
            "linecolor": "white",
            "ticks": ""
           }
          },
          "title": {
           "x": 0.05
          },
          "xaxis": {
           "automargin": true,
           "gridcolor": "white",
           "linecolor": "white",
           "ticks": "",
           "title": {
            "standoff": 15
           },
           "zerolinecolor": "white",
           "zerolinewidth": 2
          },
          "yaxis": {
           "automargin": true,
           "gridcolor": "white",
           "linecolor": "white",
           "ticks": "",
           "title": {
            "standoff": 15
           },
           "zerolinecolor": "white",
           "zerolinewidth": 2
          }
         }
        }
       }
      }
     },
     "metadata": {},
     "output_type": "display_data"
    },
    {
     "data": {
      "application/vnd.plotly.v1+json": {
       "config": {
        "plotlyServerURL": "https://plot.ly"
       },
       "data": [
        {
         "close": [
          61997.57,
          62020.32,
          62140.01,
          62156.7,
          62161.24,
          62163.99,
          62182.01,
          62209.4,
          62166.02,
          62153.79,
          62193.86,
          62212.01,
          62325,
          62281.47,
          62157.43,
          62198.43,
          62141.63,
          62104.02,
          62020,
          61971.15,
          61984,
          61914.45,
          61948,
          61924,
          61904.11
         ],
         "high": [
          62038.01,
          62020.32,
          62166,
          62156.7,
          62203.99,
          62173.99,
          62191.99,
          62230,
          62209.39,
          62191.99,
          62193.86,
          62217.72,
          62325,
          62416.45,
          62266.19,
          62250,
          62182.03,
          62144.02,
          62104.02,
          62033.6,
          61984,
          61986.85,
          61948,
          61949.99,
          61916
         ],
         "low": [
          61938.85,
          61959.98,
          62005.71,
          62092,
          62153.8,
          62140.2,
          62116.01,
          62189.28,
          62158.37,
          62150.49,
          62106,
          62151.58,
          62202.01,
          62198,
          62157.43,
          62140.01,
          62141.63,
          62086.54,
          62000,
          61961.99,
          61933.77,
          61911.84,
          61909.99,
          61922.07,
          61890
         ],
         "open": [
          62038.01,
          61997.57,
          62008,
          62121.68,
          62160,
          62153.05,
          62116.01,
          62189.28,
          62209.39,
          62169.44,
          62140.61,
          62193.34,
          62202.01,
          62333.33,
          62266.19,
          62149.85,
          62182.03,
          62144.02,
          62104.02,
          62028.67,
          61971.15,
          61986.85,
          61914.45,
          61949.99,
          61912.42
         ],
         "type": "candlestick",
         "x": [
          "2024-06-25T18:50:36.391000",
          "2024-06-25T18:51:37.495000",
          "2024-06-25T18:52:42.531000",
          "2024-06-25T18:53:46.621000",
          "2024-06-25T18:54:52.787000",
          "2024-06-25T18:55:54.903000",
          "2024-06-25T18:57:05.142000",
          "2024-06-25T18:58:05.226000",
          "2024-06-25T18:59:11.290000",
          "2024-06-25T19:00:17.830000",
          "2024-06-25T19:01:18.309000",
          "2024-06-25T19:02:21.900000",
          "2024-06-25T19:03:22.434000",
          "2024-06-25T19:04:29.019000",
          "2024-06-25T19:05:30.682000",
          "2024-06-25T19:06:34.828000",
          "2024-06-25T19:07:37.099000",
          "2024-06-25T19:08:41.259000",
          "2024-06-25T19:09:42.430000",
          "2024-06-25T19:11:05.832000",
          "2024-06-25T19:12:10.082000",
          "2024-06-25T19:13:12.244000",
          "2024-06-25T19:14:14.326000",
          "2024-06-25T19:15:15.555000",
          "2024-06-25T19:16:15.555000"
         ]
        }
       ],
       "layout": {
        "template": {
         "data": {
          "bar": [
           {
            "error_x": {
             "color": "#2a3f5f"
            },
            "error_y": {
             "color": "#2a3f5f"
            },
            "marker": {
             "line": {
              "color": "#E5ECF6",
              "width": 0.5
             },
             "pattern": {
              "fillmode": "overlay",
              "size": 10,
              "solidity": 0.2
             }
            },
            "type": "bar"
           }
          ],
          "barpolar": [
           {
            "marker": {
             "line": {
              "color": "#E5ECF6",
              "width": 0.5
             },
             "pattern": {
              "fillmode": "overlay",
              "size": 10,
              "solidity": 0.2
             }
            },
            "type": "barpolar"
           }
          ],
          "carpet": [
           {
            "aaxis": {
             "endlinecolor": "#2a3f5f",
             "gridcolor": "white",
             "linecolor": "white",
             "minorgridcolor": "white",
             "startlinecolor": "#2a3f5f"
            },
            "baxis": {
             "endlinecolor": "#2a3f5f",
             "gridcolor": "white",
             "linecolor": "white",
             "minorgridcolor": "white",
             "startlinecolor": "#2a3f5f"
            },
            "type": "carpet"
           }
          ],
          "choropleth": [
           {
            "colorbar": {
             "outlinewidth": 0,
             "ticks": ""
            },
            "type": "choropleth"
           }
          ],
          "contour": [
           {
            "colorbar": {
             "outlinewidth": 0,
             "ticks": ""
            },
            "colorscale": [
             [
              0,
              "#0d0887"
             ],
             [
              0.1111111111111111,
              "#46039f"
             ],
             [
              0.2222222222222222,
              "#7201a8"
             ],
             [
              0.3333333333333333,
              "#9c179e"
             ],
             [
              0.4444444444444444,
              "#bd3786"
             ],
             [
              0.5555555555555556,
              "#d8576b"
             ],
             [
              0.6666666666666666,
              "#ed7953"
             ],
             [
              0.7777777777777778,
              "#fb9f3a"
             ],
             [
              0.8888888888888888,
              "#fdca26"
             ],
             [
              1,
              "#f0f921"
             ]
            ],
            "type": "contour"
           }
          ],
          "contourcarpet": [
           {
            "colorbar": {
             "outlinewidth": 0,
             "ticks": ""
            },
            "type": "contourcarpet"
           }
          ],
          "heatmap": [
           {
            "colorbar": {
             "outlinewidth": 0,
             "ticks": ""
            },
            "colorscale": [
             [
              0,
              "#0d0887"
             ],
             [
              0.1111111111111111,
              "#46039f"
             ],
             [
              0.2222222222222222,
              "#7201a8"
             ],
             [
              0.3333333333333333,
              "#9c179e"
             ],
             [
              0.4444444444444444,
              "#bd3786"
             ],
             [
              0.5555555555555556,
              "#d8576b"
             ],
             [
              0.6666666666666666,
              "#ed7953"
             ],
             [
              0.7777777777777778,
              "#fb9f3a"
             ],
             [
              0.8888888888888888,
              "#fdca26"
             ],
             [
              1,
              "#f0f921"
             ]
            ],
            "type": "heatmap"
           }
          ],
          "heatmapgl": [
           {
            "colorbar": {
             "outlinewidth": 0,
             "ticks": ""
            },
            "colorscale": [
             [
              0,
              "#0d0887"
             ],
             [
              0.1111111111111111,
              "#46039f"
             ],
             [
              0.2222222222222222,
              "#7201a8"
             ],
             [
              0.3333333333333333,
              "#9c179e"
             ],
             [
              0.4444444444444444,
              "#bd3786"
             ],
             [
              0.5555555555555556,
              "#d8576b"
             ],
             [
              0.6666666666666666,
              "#ed7953"
             ],
             [
              0.7777777777777778,
              "#fb9f3a"
             ],
             [
              0.8888888888888888,
              "#fdca26"
             ],
             [
              1,
              "#f0f921"
             ]
            ],
            "type": "heatmapgl"
           }
          ],
          "histogram": [
           {
            "marker": {
             "pattern": {
              "fillmode": "overlay",
              "size": 10,
              "solidity": 0.2
             }
            },
            "type": "histogram"
           }
          ],
          "histogram2d": [
           {
            "colorbar": {
             "outlinewidth": 0,
             "ticks": ""
            },
            "colorscale": [
             [
              0,
              "#0d0887"
             ],
             [
              0.1111111111111111,
              "#46039f"
             ],
             [
              0.2222222222222222,
              "#7201a8"
             ],
             [
              0.3333333333333333,
              "#9c179e"
             ],
             [
              0.4444444444444444,
              "#bd3786"
             ],
             [
              0.5555555555555556,
              "#d8576b"
             ],
             [
              0.6666666666666666,
              "#ed7953"
             ],
             [
              0.7777777777777778,
              "#fb9f3a"
             ],
             [
              0.8888888888888888,
              "#fdca26"
             ],
             [
              1,
              "#f0f921"
             ]
            ],
            "type": "histogram2d"
           }
          ],
          "histogram2dcontour": [
           {
            "colorbar": {
             "outlinewidth": 0,
             "ticks": ""
            },
            "colorscale": [
             [
              0,
              "#0d0887"
             ],
             [
              0.1111111111111111,
              "#46039f"
             ],
             [
              0.2222222222222222,
              "#7201a8"
             ],
             [
              0.3333333333333333,
              "#9c179e"
             ],
             [
              0.4444444444444444,
              "#bd3786"
             ],
             [
              0.5555555555555556,
              "#d8576b"
             ],
             [
              0.6666666666666666,
              "#ed7953"
             ],
             [
              0.7777777777777778,
              "#fb9f3a"
             ],
             [
              0.8888888888888888,
              "#fdca26"
             ],
             [
              1,
              "#f0f921"
             ]
            ],
            "type": "histogram2dcontour"
           }
          ],
          "mesh3d": [
           {
            "colorbar": {
             "outlinewidth": 0,
             "ticks": ""
            },
            "type": "mesh3d"
           }
          ],
          "parcoords": [
           {
            "line": {
             "colorbar": {
              "outlinewidth": 0,
              "ticks": ""
             }
            },
            "type": "parcoords"
           }
          ],
          "pie": [
           {
            "automargin": true,
            "type": "pie"
           }
          ],
          "scatter": [
           {
            "fillpattern": {
             "fillmode": "overlay",
             "size": 10,
             "solidity": 0.2
            },
            "type": "scatter"
           }
          ],
          "scatter3d": [
           {
            "line": {
             "colorbar": {
              "outlinewidth": 0,
              "ticks": ""
             }
            },
            "marker": {
             "colorbar": {
              "outlinewidth": 0,
              "ticks": ""
             }
            },
            "type": "scatter3d"
           }
          ],
          "scattercarpet": [
           {
            "marker": {
             "colorbar": {
              "outlinewidth": 0,
              "ticks": ""
             }
            },
            "type": "scattercarpet"
           }
          ],
          "scattergeo": [
           {
            "marker": {
             "colorbar": {
              "outlinewidth": 0,
              "ticks": ""
             }
            },
            "type": "scattergeo"
           }
          ],
          "scattergl": [
           {
            "marker": {
             "colorbar": {
              "outlinewidth": 0,
              "ticks": ""
             }
            },
            "type": "scattergl"
           }
          ],
          "scattermapbox": [
           {
            "marker": {
             "colorbar": {
              "outlinewidth": 0,
              "ticks": ""
             }
            },
            "type": "scattermapbox"
           }
          ],
          "scatterpolar": [
           {
            "marker": {
             "colorbar": {
              "outlinewidth": 0,
              "ticks": ""
             }
            },
            "type": "scatterpolar"
           }
          ],
          "scatterpolargl": [
           {
            "marker": {
             "colorbar": {
              "outlinewidth": 0,
              "ticks": ""
             }
            },
            "type": "scatterpolargl"
           }
          ],
          "scatterternary": [
           {
            "marker": {
             "colorbar": {
              "outlinewidth": 0,
              "ticks": ""
             }
            },
            "type": "scatterternary"
           }
          ],
          "surface": [
           {
            "colorbar": {
             "outlinewidth": 0,
             "ticks": ""
            },
            "colorscale": [
             [
              0,
              "#0d0887"
             ],
             [
              0.1111111111111111,
              "#46039f"
             ],
             [
              0.2222222222222222,
              "#7201a8"
             ],
             [
              0.3333333333333333,
              "#9c179e"
             ],
             [
              0.4444444444444444,
              "#bd3786"
             ],
             [
              0.5555555555555556,
              "#d8576b"
             ],
             [
              0.6666666666666666,
              "#ed7953"
             ],
             [
              0.7777777777777778,
              "#fb9f3a"
             ],
             [
              0.8888888888888888,
              "#fdca26"
             ],
             [
              1,
              "#f0f921"
             ]
            ],
            "type": "surface"
           }
          ],
          "table": [
           {
            "cells": {
             "fill": {
              "color": "#EBF0F8"
             },
             "line": {
              "color": "white"
             }
            },
            "header": {
             "fill": {
              "color": "#C8D4E3"
             },
             "line": {
              "color": "white"
             }
            },
            "type": "table"
           }
          ]
         },
         "layout": {
          "annotationdefaults": {
           "arrowcolor": "#2a3f5f",
           "arrowhead": 0,
           "arrowwidth": 1
          },
          "autotypenumbers": "strict",
          "coloraxis": {
           "colorbar": {
            "outlinewidth": 0,
            "ticks": ""
           }
          },
          "colorscale": {
           "diverging": [
            [
             0,
             "#8e0152"
            ],
            [
             0.1,
             "#c51b7d"
            ],
            [
             0.2,
             "#de77ae"
            ],
            [
             0.3,
             "#f1b6da"
            ],
            [
             0.4,
             "#fde0ef"
            ],
            [
             0.5,
             "#f7f7f7"
            ],
            [
             0.6,
             "#e6f5d0"
            ],
            [
             0.7,
             "#b8e186"
            ],
            [
             0.8,
             "#7fbc41"
            ],
            [
             0.9,
             "#4d9221"
            ],
            [
             1,
             "#276419"
            ]
           ],
           "sequential": [
            [
             0,
             "#0d0887"
            ],
            [
             0.1111111111111111,
             "#46039f"
            ],
            [
             0.2222222222222222,
             "#7201a8"
            ],
            [
             0.3333333333333333,
             "#9c179e"
            ],
            [
             0.4444444444444444,
             "#bd3786"
            ],
            [
             0.5555555555555556,
             "#d8576b"
            ],
            [
             0.6666666666666666,
             "#ed7953"
            ],
            [
             0.7777777777777778,
             "#fb9f3a"
            ],
            [
             0.8888888888888888,
             "#fdca26"
            ],
            [
             1,
             "#f0f921"
            ]
           ],
           "sequentialminus": [
            [
             0,
             "#0d0887"
            ],
            [
             0.1111111111111111,
             "#46039f"
            ],
            [
             0.2222222222222222,
             "#7201a8"
            ],
            [
             0.3333333333333333,
             "#9c179e"
            ],
            [
             0.4444444444444444,
             "#bd3786"
            ],
            [
             0.5555555555555556,
             "#d8576b"
            ],
            [
             0.6666666666666666,
             "#ed7953"
            ],
            [
             0.7777777777777778,
             "#fb9f3a"
            ],
            [
             0.8888888888888888,
             "#fdca26"
            ],
            [
             1,
             "#f0f921"
            ]
           ]
          },
          "colorway": [
           "#636efa",
           "#EF553B",
           "#00cc96",
           "#ab63fa",
           "#FFA15A",
           "#19d3f3",
           "#FF6692",
           "#B6E880",
           "#FF97FF",
           "#FECB52"
          ],
          "font": {
           "color": "#2a3f5f"
          },
          "geo": {
           "bgcolor": "white",
           "lakecolor": "white",
           "landcolor": "#E5ECF6",
           "showlakes": true,
           "showland": true,
           "subunitcolor": "white"
          },
          "hoverlabel": {
           "align": "left"
          },
          "hovermode": "closest",
          "mapbox": {
           "style": "light"
          },
          "paper_bgcolor": "white",
          "plot_bgcolor": "#E5ECF6",
          "polar": {
           "angularaxis": {
            "gridcolor": "white",
            "linecolor": "white",
            "ticks": ""
           },
           "bgcolor": "#E5ECF6",
           "radialaxis": {
            "gridcolor": "white",
            "linecolor": "white",
            "ticks": ""
           }
          },
          "scene": {
           "xaxis": {
            "backgroundcolor": "#E5ECF6",
            "gridcolor": "white",
            "gridwidth": 2,
            "linecolor": "white",
            "showbackground": true,
            "ticks": "",
            "zerolinecolor": "white"
           },
           "yaxis": {
            "backgroundcolor": "#E5ECF6",
            "gridcolor": "white",
            "gridwidth": 2,
            "linecolor": "white",
            "showbackground": true,
            "ticks": "",
            "zerolinecolor": "white"
           },
           "zaxis": {
            "backgroundcolor": "#E5ECF6",
            "gridcolor": "white",
            "gridwidth": 2,
            "linecolor": "white",
            "showbackground": true,
            "ticks": "",
            "zerolinecolor": "white"
           }
          },
          "shapedefaults": {
           "line": {
            "color": "#2a3f5f"
           }
          },
          "ternary": {
           "aaxis": {
            "gridcolor": "white",
            "linecolor": "white",
            "ticks": ""
           },
           "baxis": {
            "gridcolor": "white",
            "linecolor": "white",
            "ticks": ""
           },
           "bgcolor": "#E5ECF6",
           "caxis": {
            "gridcolor": "white",
            "linecolor": "white",
            "ticks": ""
           }
          },
          "title": {
           "x": 0.05
          },
          "xaxis": {
           "automargin": true,
           "gridcolor": "white",
           "linecolor": "white",
           "ticks": "",
           "title": {
            "standoff": 15
           },
           "zerolinecolor": "white",
           "zerolinewidth": 2
          },
          "yaxis": {
           "automargin": true,
           "gridcolor": "white",
           "linecolor": "white",
           "ticks": "",
           "title": {
            "standoff": 15
           },
           "zerolinecolor": "white",
           "zerolinewidth": 2
          }
         }
        }
       }
      }
     },
     "metadata": {},
     "output_type": "display_data"
    },
    {
     "name": "stderr",
     "output_type": "stream",
     "text": [
      "/tmp/ipykernel_1567386/3913893862.py:3: SettingWithCopyWarning:\n",
      "\n",
      "\n",
      "A value is trying to be set on a copy of a slice from a DataFrame.\n",
      "Try using .loc[row_indexer,col_indexer] = value instead\n",
      "\n",
      "See the caveats in the documentation: https://pandas.pydata.org/pandas-docs/stable/user_guide/indexing.html#returning-a-view-versus-a-copy\n",
      "\n"
     ]
    },
    {
     "data": {
      "application/vnd.plotly.v1+json": {
       "config": {
        "plotlyServerURL": "https://plot.ly"
       },
       "data": [
        {
         "close": [
          1.07162,
          1.07154,
          1.07156,
          1.07149,
          1.07151,
          1.07158,
          1.07158,
          1.0716,
          1.07154,
          1.0716,
          1.07156,
          1.0716,
          1.07154,
          1.07156,
          1.07152,
          1.07151,
          1.07148,
          1.07144,
          1.0715,
          1.07149
         ],
         "high": [
          1.07162,
          1.07154,
          1.07156,
          1.0715,
          1.07152,
          1.07158,
          1.07158,
          1.0716,
          1.07155,
          1.0716,
          1.0716,
          1.0716,
          1.07158,
          1.07156,
          1.07153,
          1.07154,
          1.0715,
          1.07144,
          1.0715,
          1.0715
         ],
         "low": [
          1.07159,
          1.07154,
          1.07155,
          1.07149,
          1.07151,
          1.07158,
          1.07157,
          1.07159,
          1.07154,
          1.07154,
          1.07156,
          1.0716,
          1.07154,
          1.07155,
          1.07152,
          1.07151,
          1.07148,
          1.07143,
          1.0715,
          1.07149
         ],
         "open": [
          1.07159,
          1.07154,
          1.07155,
          1.0715,
          1.07152,
          1.07158,
          1.07157,
          1.07159,
          1.07155,
          1.07154,
          1.0716,
          1.0716,
          1.07154,
          1.07156,
          1.07152,
          1.07153,
          1.07149,
          1.07143,
          1.0715,
          1.07149
         ],
         "type": "candlestick",
         "x": [
          "2024-06-25T18:50:36.391000",
          "2024-06-25T18:51:37.495000",
          "2024-06-25T18:52:42.531000",
          "2024-06-25T18:53:46.622000",
          "2024-06-25T18:57:05.142000",
          "2024-06-25T18:58:05.226000",
          "2024-06-25T18:59:11.290000",
          "2024-06-25T19:00:17.830000",
          "2024-06-25T19:01:18.309000",
          "2024-06-25T19:02:21.900000",
          "2024-06-25T19:03:22.434000",
          "2024-06-25T19:04:29.019000",
          "2024-06-25T19:06:34.828000",
          "2024-06-25T19:07:37.099000",
          "2024-06-25T19:08:41.259000",
          "2024-06-25T19:09:42.430000",
          "2024-06-25T19:11:05.832000",
          "2024-06-25T19:12:10.082000",
          "2024-06-25T19:13:12.244000",
          "2024-06-25T19:15:15.555000"
         ]
        }
       ],
       "layout": {
        "template": {
         "data": {
          "bar": [
           {
            "error_x": {
             "color": "#2a3f5f"
            },
            "error_y": {
             "color": "#2a3f5f"
            },
            "marker": {
             "line": {
              "color": "#E5ECF6",
              "width": 0.5
             },
             "pattern": {
              "fillmode": "overlay",
              "size": 10,
              "solidity": 0.2
             }
            },
            "type": "bar"
           }
          ],
          "barpolar": [
           {
            "marker": {
             "line": {
              "color": "#E5ECF6",
              "width": 0.5
             },
             "pattern": {
              "fillmode": "overlay",
              "size": 10,
              "solidity": 0.2
             }
            },
            "type": "barpolar"
           }
          ],
          "carpet": [
           {
            "aaxis": {
             "endlinecolor": "#2a3f5f",
             "gridcolor": "white",
             "linecolor": "white",
             "minorgridcolor": "white",
             "startlinecolor": "#2a3f5f"
            },
            "baxis": {
             "endlinecolor": "#2a3f5f",
             "gridcolor": "white",
             "linecolor": "white",
             "minorgridcolor": "white",
             "startlinecolor": "#2a3f5f"
            },
            "type": "carpet"
           }
          ],
          "choropleth": [
           {
            "colorbar": {
             "outlinewidth": 0,
             "ticks": ""
            },
            "type": "choropleth"
           }
          ],
          "contour": [
           {
            "colorbar": {
             "outlinewidth": 0,
             "ticks": ""
            },
            "colorscale": [
             [
              0,
              "#0d0887"
             ],
             [
              0.1111111111111111,
              "#46039f"
             ],
             [
              0.2222222222222222,
              "#7201a8"
             ],
             [
              0.3333333333333333,
              "#9c179e"
             ],
             [
              0.4444444444444444,
              "#bd3786"
             ],
             [
              0.5555555555555556,
              "#d8576b"
             ],
             [
              0.6666666666666666,
              "#ed7953"
             ],
             [
              0.7777777777777778,
              "#fb9f3a"
             ],
             [
              0.8888888888888888,
              "#fdca26"
             ],
             [
              1,
              "#f0f921"
             ]
            ],
            "type": "contour"
           }
          ],
          "contourcarpet": [
           {
            "colorbar": {
             "outlinewidth": 0,
             "ticks": ""
            },
            "type": "contourcarpet"
           }
          ],
          "heatmap": [
           {
            "colorbar": {
             "outlinewidth": 0,
             "ticks": ""
            },
            "colorscale": [
             [
              0,
              "#0d0887"
             ],
             [
              0.1111111111111111,
              "#46039f"
             ],
             [
              0.2222222222222222,
              "#7201a8"
             ],
             [
              0.3333333333333333,
              "#9c179e"
             ],
             [
              0.4444444444444444,
              "#bd3786"
             ],
             [
              0.5555555555555556,
              "#d8576b"
             ],
             [
              0.6666666666666666,
              "#ed7953"
             ],
             [
              0.7777777777777778,
              "#fb9f3a"
             ],
             [
              0.8888888888888888,
              "#fdca26"
             ],
             [
              1,
              "#f0f921"
             ]
            ],
            "type": "heatmap"
           }
          ],
          "heatmapgl": [
           {
            "colorbar": {
             "outlinewidth": 0,
             "ticks": ""
            },
            "colorscale": [
             [
              0,
              "#0d0887"
             ],
             [
              0.1111111111111111,
              "#46039f"
             ],
             [
              0.2222222222222222,
              "#7201a8"
             ],
             [
              0.3333333333333333,
              "#9c179e"
             ],
             [
              0.4444444444444444,
              "#bd3786"
             ],
             [
              0.5555555555555556,
              "#d8576b"
             ],
             [
              0.6666666666666666,
              "#ed7953"
             ],
             [
              0.7777777777777778,
              "#fb9f3a"
             ],
             [
              0.8888888888888888,
              "#fdca26"
             ],
             [
              1,
              "#f0f921"
             ]
            ],
            "type": "heatmapgl"
           }
          ],
          "histogram": [
           {
            "marker": {
             "pattern": {
              "fillmode": "overlay",
              "size": 10,
              "solidity": 0.2
             }
            },
            "type": "histogram"
           }
          ],
          "histogram2d": [
           {
            "colorbar": {
             "outlinewidth": 0,
             "ticks": ""
            },
            "colorscale": [
             [
              0,
              "#0d0887"
             ],
             [
              0.1111111111111111,
              "#46039f"
             ],
             [
              0.2222222222222222,
              "#7201a8"
             ],
             [
              0.3333333333333333,
              "#9c179e"
             ],
             [
              0.4444444444444444,
              "#bd3786"
             ],
             [
              0.5555555555555556,
              "#d8576b"
             ],
             [
              0.6666666666666666,
              "#ed7953"
             ],
             [
              0.7777777777777778,
              "#fb9f3a"
             ],
             [
              0.8888888888888888,
              "#fdca26"
             ],
             [
              1,
              "#f0f921"
             ]
            ],
            "type": "histogram2d"
           }
          ],
          "histogram2dcontour": [
           {
            "colorbar": {
             "outlinewidth": 0,
             "ticks": ""
            },
            "colorscale": [
             [
              0,
              "#0d0887"
             ],
             [
              0.1111111111111111,
              "#46039f"
             ],
             [
              0.2222222222222222,
              "#7201a8"
             ],
             [
              0.3333333333333333,
              "#9c179e"
             ],
             [
              0.4444444444444444,
              "#bd3786"
             ],
             [
              0.5555555555555556,
              "#d8576b"
             ],
             [
              0.6666666666666666,
              "#ed7953"
             ],
             [
              0.7777777777777778,
              "#fb9f3a"
             ],
             [
              0.8888888888888888,
              "#fdca26"
             ],
             [
              1,
              "#f0f921"
             ]
            ],
            "type": "histogram2dcontour"
           }
          ],
          "mesh3d": [
           {
            "colorbar": {
             "outlinewidth": 0,
             "ticks": ""
            },
            "type": "mesh3d"
           }
          ],
          "parcoords": [
           {
            "line": {
             "colorbar": {
              "outlinewidth": 0,
              "ticks": ""
             }
            },
            "type": "parcoords"
           }
          ],
          "pie": [
           {
            "automargin": true,
            "type": "pie"
           }
          ],
          "scatter": [
           {
            "fillpattern": {
             "fillmode": "overlay",
             "size": 10,
             "solidity": 0.2
            },
            "type": "scatter"
           }
          ],
          "scatter3d": [
           {
            "line": {
             "colorbar": {
              "outlinewidth": 0,
              "ticks": ""
             }
            },
            "marker": {
             "colorbar": {
              "outlinewidth": 0,
              "ticks": ""
             }
            },
            "type": "scatter3d"
           }
          ],
          "scattercarpet": [
           {
            "marker": {
             "colorbar": {
              "outlinewidth": 0,
              "ticks": ""
             }
            },
            "type": "scattercarpet"
           }
          ],
          "scattergeo": [
           {
            "marker": {
             "colorbar": {
              "outlinewidth": 0,
              "ticks": ""
             }
            },
            "type": "scattergeo"
           }
          ],
          "scattergl": [
           {
            "marker": {
             "colorbar": {
              "outlinewidth": 0,
              "ticks": ""
             }
            },
            "type": "scattergl"
           }
          ],
          "scattermapbox": [
           {
            "marker": {
             "colorbar": {
              "outlinewidth": 0,
              "ticks": ""
             }
            },
            "type": "scattermapbox"
           }
          ],
          "scatterpolar": [
           {
            "marker": {
             "colorbar": {
              "outlinewidth": 0,
              "ticks": ""
             }
            },
            "type": "scatterpolar"
           }
          ],
          "scatterpolargl": [
           {
            "marker": {
             "colorbar": {
              "outlinewidth": 0,
              "ticks": ""
             }
            },
            "type": "scatterpolargl"
           }
          ],
          "scatterternary": [
           {
            "marker": {
             "colorbar": {
              "outlinewidth": 0,
              "ticks": ""
             }
            },
            "type": "scatterternary"
           }
          ],
          "surface": [
           {
            "colorbar": {
             "outlinewidth": 0,
             "ticks": ""
            },
            "colorscale": [
             [
              0,
              "#0d0887"
             ],
             [
              0.1111111111111111,
              "#46039f"
             ],
             [
              0.2222222222222222,
              "#7201a8"
             ],
             [
              0.3333333333333333,
              "#9c179e"
             ],
             [
              0.4444444444444444,
              "#bd3786"
             ],
             [
              0.5555555555555556,
              "#d8576b"
             ],
             [
              0.6666666666666666,
              "#ed7953"
             ],
             [
              0.7777777777777778,
              "#fb9f3a"
             ],
             [
              0.8888888888888888,
              "#fdca26"
             ],
             [
              1,
              "#f0f921"
             ]
            ],
            "type": "surface"
           }
          ],
          "table": [
           {
            "cells": {
             "fill": {
              "color": "#EBF0F8"
             },
             "line": {
              "color": "white"
             }
            },
            "header": {
             "fill": {
              "color": "#C8D4E3"
             },
             "line": {
              "color": "white"
             }
            },
            "type": "table"
           }
          ]
         },
         "layout": {
          "annotationdefaults": {
           "arrowcolor": "#2a3f5f",
           "arrowhead": 0,
           "arrowwidth": 1
          },
          "autotypenumbers": "strict",
          "coloraxis": {
           "colorbar": {
            "outlinewidth": 0,
            "ticks": ""
           }
          },
          "colorscale": {
           "diverging": [
            [
             0,
             "#8e0152"
            ],
            [
             0.1,
             "#c51b7d"
            ],
            [
             0.2,
             "#de77ae"
            ],
            [
             0.3,
             "#f1b6da"
            ],
            [
             0.4,
             "#fde0ef"
            ],
            [
             0.5,
             "#f7f7f7"
            ],
            [
             0.6,
             "#e6f5d0"
            ],
            [
             0.7,
             "#b8e186"
            ],
            [
             0.8,
             "#7fbc41"
            ],
            [
             0.9,
             "#4d9221"
            ],
            [
             1,
             "#276419"
            ]
           ],
           "sequential": [
            [
             0,
             "#0d0887"
            ],
            [
             0.1111111111111111,
             "#46039f"
            ],
            [
             0.2222222222222222,
             "#7201a8"
            ],
            [
             0.3333333333333333,
             "#9c179e"
            ],
            [
             0.4444444444444444,
             "#bd3786"
            ],
            [
             0.5555555555555556,
             "#d8576b"
            ],
            [
             0.6666666666666666,
             "#ed7953"
            ],
            [
             0.7777777777777778,
             "#fb9f3a"
            ],
            [
             0.8888888888888888,
             "#fdca26"
            ],
            [
             1,
             "#f0f921"
            ]
           ],
           "sequentialminus": [
            [
             0,
             "#0d0887"
            ],
            [
             0.1111111111111111,
             "#46039f"
            ],
            [
             0.2222222222222222,
             "#7201a8"
            ],
            [
             0.3333333333333333,
             "#9c179e"
            ],
            [
             0.4444444444444444,
             "#bd3786"
            ],
            [
             0.5555555555555556,
             "#d8576b"
            ],
            [
             0.6666666666666666,
             "#ed7953"
            ],
            [
             0.7777777777777778,
             "#fb9f3a"
            ],
            [
             0.8888888888888888,
             "#fdca26"
            ],
            [
             1,
             "#f0f921"
            ]
           ]
          },
          "colorway": [
           "#636efa",
           "#EF553B",
           "#00cc96",
           "#ab63fa",
           "#FFA15A",
           "#19d3f3",
           "#FF6692",
           "#B6E880",
           "#FF97FF",
           "#FECB52"
          ],
          "font": {
           "color": "#2a3f5f"
          },
          "geo": {
           "bgcolor": "white",
           "lakecolor": "white",
           "landcolor": "#E5ECF6",
           "showlakes": true,
           "showland": true,
           "subunitcolor": "white"
          },
          "hoverlabel": {
           "align": "left"
          },
          "hovermode": "closest",
          "mapbox": {
           "style": "light"
          },
          "paper_bgcolor": "white",
          "plot_bgcolor": "#E5ECF6",
          "polar": {
           "angularaxis": {
            "gridcolor": "white",
            "linecolor": "white",
            "ticks": ""
           },
           "bgcolor": "#E5ECF6",
           "radialaxis": {
            "gridcolor": "white",
            "linecolor": "white",
            "ticks": ""
           }
          },
          "scene": {
           "xaxis": {
            "backgroundcolor": "#E5ECF6",
            "gridcolor": "white",
            "gridwidth": 2,
            "linecolor": "white",
            "showbackground": true,
            "ticks": "",
            "zerolinecolor": "white"
           },
           "yaxis": {
            "backgroundcolor": "#E5ECF6",
            "gridcolor": "white",
            "gridwidth": 2,
            "linecolor": "white",
            "showbackground": true,
            "ticks": "",
            "zerolinecolor": "white"
           },
           "zaxis": {
            "backgroundcolor": "#E5ECF6",
            "gridcolor": "white",
            "gridwidth": 2,
            "linecolor": "white",
            "showbackground": true,
            "ticks": "",
            "zerolinecolor": "white"
           }
          },
          "shapedefaults": {
           "line": {
            "color": "#2a3f5f"
           }
          },
          "ternary": {
           "aaxis": {
            "gridcolor": "white",
            "linecolor": "white",
            "ticks": ""
           },
           "baxis": {
            "gridcolor": "white",
            "linecolor": "white",
            "ticks": ""
           },
           "bgcolor": "#E5ECF6",
           "caxis": {
            "gridcolor": "white",
            "linecolor": "white",
            "ticks": ""
           }
          },
          "title": {
           "x": 0.05
          },
          "xaxis": {
           "automargin": true,
           "gridcolor": "white",
           "linecolor": "white",
           "ticks": "",
           "title": {
            "standoff": 15
           },
           "zerolinecolor": "white",
           "zerolinewidth": 2
          },
          "yaxis": {
           "automargin": true,
           "gridcolor": "white",
           "linecolor": "white",
           "ticks": "",
           "title": {
            "standoff": 15
           },
           "zerolinecolor": "white",
           "zerolinewidth": 2
          }
         }
        }
       }
      }
     },
     "metadata": {},
     "output_type": "display_data"
    }
   ],
   "source": [
    "def candlestickPlot(df):\n",
    "    df = df[df['NumTransactions'] != 0]\n",
    "    df['Date'] = pd.to_datetime(df['Timestamp'], unit='ms')\n",
    "\n",
    "    fig = go.Figure(data=[go.Candlestick(x=df['Date'],\n",
    "                    open=df['Open'],\n",
    "                    high=df['High'],\n",
    "                    low=df['Low'],\n",
    "                    close=df['Close'])])\n",
    "\n",
    "    fig.show()\n",
    "\n",
    "\n",
    "candlestickPlot(df_candlestick['amzn'])\n",
    "candlestickPlot(df_candlestick['msft'])\n",
    "candlestickPlot(df_candlestick['binance'])\n",
    "candlestickPlot(df_candlestick['icm'])"
   ]
  },
  {
   "cell_type": "code",
   "execution_count": 97,
   "metadata": {},
   "outputs": [
    {
     "data": {
      "image/png": "[encoded data removed]",
      "text/plain": [
       "<Figure size 800x575 with 4 Axes>"
      ]
     },
     "metadata": {},
     "output_type": "display_data"
    },
    {
     "data": {
      "image/png": "[encoded data removed]",
      "text/plain": [
       "<Figure size 800x575 with 4 Axes>"
      ]
     },
     "metadata": {},
     "output_type": "display_data"
    },
    {
     "data": {
      "image/png": "[encoded data removed]",
      "text/plain": [
       "<Figure size 800x575 with 4 Axes>"
      ]
     },
     "metadata": {},
     "output_type": "display_data"
    },
    {
     "name": "stderr",
     "output_type": "stream",
     "text": [
      "/tmp/ipykernel_1567386/4042899394.py:5: SettingWithCopyWarning:\n",
      "\n",
      "\n",
      "A value is trying to be set on a copy of a slice from a DataFrame.\n",
      "Try using .loc[row_indexer,col_indexer] = value instead\n",
      "\n",
      "See the caveats in the documentation: https://pandas.pydata.org/pandas-docs/stable/user_guide/indexing.html#returning-a-view-versus-a-copy\n",
      "\n",
      "/home/thodkatz/repos/personal/embedded-rtos/finhub/.venv/lib/python3.12/site-packages/mplfinance/plotting.py:707: UserWarning:\n",
      "\n",
      "Attempting to set identical low and high ylims makes transformation singular; automatically expanding.\n",
      "\n"
     ]
    },
    {
     "data": {
      "image/png": "[encoded data removed]",
      "text/plain": [
       "<Figure size 800x575 with 4 Axes>"
      ]
     },
     "metadata": {},
     "output_type": "display_data"
    }
   ],
   "source": [
    "import mplfinance as mpf\n",
    "\n",
    "def candlestickPlot(df):\n",
    "    df = df[df['NumTransactions'] != 0]\n",
    "    df['Date'] = pd.to_datetime(df['Timestamp'], unit='ms')\n",
    "    df.set_index('Date', inplace=True)\n",
    "    mpf.plot(df, type='candle', mav=15, volume=True, style='binance', title='')\n",
    "\n",
    "candlestickPlot(df_candlestick['amzn'])\n",
    "candlestickPlot(df_candlestick['msft'])\n",
    "candlestickPlot(df_candlestick['binance'])\n",
    "candlestickPlot(df_candlestick['icm'])"
   ]
  },
  {
   "cell_type": "code",
   "execution_count": 98,
   "metadata": {},
   "outputs": [
    {
     "ename": "KeyError",
     "evalue": "'timestamp'",
     "output_type": "error",
     "traceback": [
      "\u001b[0;31m---------------------------------------------------------------------------\u001b[0m",
      "\u001b[0;31mKeyError\u001b[0m                                  Traceback (most recent call last)",
      "File \u001b[0;32m~/repos/personal/embedded-rtos/finhub/.venv/lib/python3.12/site-packages/pandas/core/indexes/base.py:3805\u001b[0m, in \u001b[0;36mIndex.get_loc\u001b[0;34m(self, key)\u001b[0m\n\u001b[1;32m   3804\u001b[0m \u001b[38;5;28;01mtry\u001b[39;00m:\n\u001b[0;32m-> 3805\u001b[0m     \u001b[38;5;28;01mreturn\u001b[39;00m \u001b[38;5;28;43mself\u001b[39;49m\u001b[38;5;241;43m.\u001b[39;49m\u001b[43m_engine\u001b[49m\u001b[38;5;241;43m.\u001b[39;49m\u001b[43mget_loc\u001b[49m\u001b[43m(\u001b[49m\u001b[43mcasted_key\u001b[49m\u001b[43m)\u001b[49m\n\u001b[1;32m   3806\u001b[0m \u001b[38;5;28;01mexcept\u001b[39;00m \u001b[38;5;167;01mKeyError\u001b[39;00m \u001b[38;5;28;01mas\u001b[39;00m err:\n",
      "File \u001b[0;32mindex.pyx:167\u001b[0m, in \u001b[0;36mpandas._libs.index.IndexEngine.get_loc\u001b[0;34m()\u001b[0m\n",
      "File \u001b[0;32mindex.pyx:196\u001b[0m, in \u001b[0;36mpandas._libs.index.IndexEngine.get_loc\u001b[0;34m()\u001b[0m\n",
      "File \u001b[0;32mpandas/_libs/hashtable_class_helper.pxi:7081\u001b[0m, in \u001b[0;36mpandas._libs.hashtable.PyObjectHashTable.get_item\u001b[0;34m()\u001b[0m\n",
      "File \u001b[0;32mpandas/_libs/hashtable_class_helper.pxi:7089\u001b[0m, in \u001b[0;36mpandas._libs.hashtable.PyObjectHashTable.get_item\u001b[0;34m()\u001b[0m\n",
      "\u001b[0;31mKeyError\u001b[0m: 'timestamp'",
      "\nThe above exception was the direct cause of the following exception:\n",
      "\u001b[0;31mKeyError\u001b[0m                                  Traceback (most recent call last)",
      "Cell \u001b[0;32mIn[98], line 11\u001b[0m\n\u001b[1;32m      7\u001b[0m     plt\u001b[38;5;241m.\u001b[39mplot(df[\u001b[38;5;124m'\u001b[39m\u001b[38;5;124mdate\u001b[39m\u001b[38;5;124m'\u001b[39m],df[\u001b[38;5;124m'\u001b[39m\u001b[38;5;124mprice\u001b[39m\u001b[38;5;124m'\u001b[39m],\u001b[38;5;124m'\u001b[39m\u001b[38;5;124m--o\u001b[39m\u001b[38;5;124m'\u001b[39m)\n\u001b[1;32m      8\u001b[0m     plt\u001b[38;5;241m.\u001b[39mshow()\n\u001b[0;32m---> 11\u001b[0m \u001b[43mmovingAverage\u001b[49m\u001b[43m(\u001b[49m\u001b[43mdf_ma\u001b[49m\u001b[43m[\u001b[49m\u001b[38;5;124;43m'\u001b[39;49m\u001b[38;5;124;43mamzn\u001b[39;49m\u001b[38;5;124;43m'\u001b[39;49m\u001b[43m]\u001b[49m\u001b[43m)\u001b[49m\n\u001b[1;32m     12\u001b[0m movingAverage(df_ma[\u001b[38;5;124m'\u001b[39m\u001b[38;5;124mmsft\u001b[39m\u001b[38;5;124m'\u001b[39m])\n\u001b[1;32m     13\u001b[0m movingAverage(df_ma[\u001b[38;5;124m'\u001b[39m\u001b[38;5;124mbinance\u001b[39m\u001b[38;5;124m'\u001b[39m])\n",
      "Cell \u001b[0;32mIn[98], line 6\u001b[0m, in \u001b[0;36mmovingAverage\u001b[0;34m(df)\u001b[0m\n\u001b[1;32m      5\u001b[0m \u001b[38;5;28;01mdef\u001b[39;00m \u001b[38;5;21mmovingAverage\u001b[39m(df):\n\u001b[0;32m----> 6\u001b[0m     df[\u001b[38;5;124m'\u001b[39m\u001b[38;5;124mdate\u001b[39m\u001b[38;5;124m'\u001b[39m] \u001b[38;5;241m=\u001b[39m pd\u001b[38;5;241m.\u001b[39mto_datetime(\u001b[43mdf\u001b[49m\u001b[43m[\u001b[49m\u001b[38;5;124;43m'\u001b[39;49m\u001b[38;5;124;43mtimestamp\u001b[39;49m\u001b[38;5;124;43m'\u001b[39;49m\u001b[43m]\u001b[49m, unit\u001b[38;5;241m=\u001b[39m\u001b[38;5;124m'\u001b[39m\u001b[38;5;124mms\u001b[39m\u001b[38;5;124m'\u001b[39m)\n\u001b[1;32m      7\u001b[0m     plt\u001b[38;5;241m.\u001b[39mplot(df[\u001b[38;5;124m'\u001b[39m\u001b[38;5;124mdate\u001b[39m\u001b[38;5;124m'\u001b[39m],df[\u001b[38;5;124m'\u001b[39m\u001b[38;5;124mprice\u001b[39m\u001b[38;5;124m'\u001b[39m],\u001b[38;5;124m'\u001b[39m\u001b[38;5;124m--o\u001b[39m\u001b[38;5;124m'\u001b[39m)\n\u001b[1;32m      8\u001b[0m     plt\u001b[38;5;241m.\u001b[39mshow()\n",
      "File \u001b[0;32m~/repos/personal/embedded-rtos/finhub/.venv/lib/python3.12/site-packages/pandas/core/frame.py:4102\u001b[0m, in \u001b[0;36mDataFrame.__getitem__\u001b[0;34m(self, key)\u001b[0m\n\u001b[1;32m   4100\u001b[0m \u001b[38;5;28;01mif\u001b[39;00m \u001b[38;5;28mself\u001b[39m\u001b[38;5;241m.\u001b[39mcolumns\u001b[38;5;241m.\u001b[39mnlevels \u001b[38;5;241m>\u001b[39m \u001b[38;5;241m1\u001b[39m:\n\u001b[1;32m   4101\u001b[0m     \u001b[38;5;28;01mreturn\u001b[39;00m \u001b[38;5;28mself\u001b[39m\u001b[38;5;241m.\u001b[39m_getitem_multilevel(key)\n\u001b[0;32m-> 4102\u001b[0m indexer \u001b[38;5;241m=\u001b[39m \u001b[38;5;28;43mself\u001b[39;49m\u001b[38;5;241;43m.\u001b[39;49m\u001b[43mcolumns\u001b[49m\u001b[38;5;241;43m.\u001b[39;49m\u001b[43mget_loc\u001b[49m\u001b[43m(\u001b[49m\u001b[43mkey\u001b[49m\u001b[43m)\u001b[49m\n\u001b[1;32m   4103\u001b[0m \u001b[38;5;28;01mif\u001b[39;00m is_integer(indexer):\n\u001b[1;32m   4104\u001b[0m     indexer \u001b[38;5;241m=\u001b[39m [indexer]\n",
      "File \u001b[0;32m~/repos/personal/embedded-rtos/finhub/.venv/lib/python3.12/site-packages/pandas/core/indexes/base.py:3812\u001b[0m, in \u001b[0;36mIndex.get_loc\u001b[0;34m(self, key)\u001b[0m\n\u001b[1;32m   3807\u001b[0m     \u001b[38;5;28;01mif\u001b[39;00m \u001b[38;5;28misinstance\u001b[39m(casted_key, \u001b[38;5;28mslice\u001b[39m) \u001b[38;5;129;01mor\u001b[39;00m (\n\u001b[1;32m   3808\u001b[0m         \u001b[38;5;28misinstance\u001b[39m(casted_key, abc\u001b[38;5;241m.\u001b[39mIterable)\n\u001b[1;32m   3809\u001b[0m         \u001b[38;5;129;01mand\u001b[39;00m \u001b[38;5;28many\u001b[39m(\u001b[38;5;28misinstance\u001b[39m(x, \u001b[38;5;28mslice\u001b[39m) \u001b[38;5;28;01mfor\u001b[39;00m x \u001b[38;5;129;01min\u001b[39;00m casted_key)\n\u001b[1;32m   3810\u001b[0m     ):\n\u001b[1;32m   3811\u001b[0m         \u001b[38;5;28;01mraise\u001b[39;00m InvalidIndexError(key)\n\u001b[0;32m-> 3812\u001b[0m     \u001b[38;5;28;01mraise\u001b[39;00m \u001b[38;5;167;01mKeyError\u001b[39;00m(key) \u001b[38;5;28;01mfrom\u001b[39;00m \u001b[38;5;21;01merr\u001b[39;00m\n\u001b[1;32m   3813\u001b[0m \u001b[38;5;28;01mexcept\u001b[39;00m \u001b[38;5;167;01mTypeError\u001b[39;00m:\n\u001b[1;32m   3814\u001b[0m     \u001b[38;5;66;03m# If we have a listlike key, _check_indexing_error will raise\u001b[39;00m\n\u001b[1;32m   3815\u001b[0m     \u001b[38;5;66;03m#  InvalidIndexError. Otherwise we fall through and re-raise\u001b[39;00m\n\u001b[1;32m   3816\u001b[0m     \u001b[38;5;66;03m#  the TypeError.\u001b[39;00m\n\u001b[1;32m   3817\u001b[0m     \u001b[38;5;28mself\u001b[39m\u001b[38;5;241m.\u001b[39m_check_indexing_error(key)\n",
      "\u001b[0;31mKeyError\u001b[0m: 'timestamp'"
     ]
    }
   ],
   "source": [
    "#moving average\n",
    "\n",
    "import matplotlib.pyplot as plt\n",
    "\n",
    "def movingAverage(df):\n",
    "    df['date'] = pd.to_datetime(df['timestamp'], unit='ms')\n",
    "    plt.plot(df['date'],df['price'],'--o')\n",
    "    plt.show()\n",
    "\n",
    "\n",
    "movingAverage(df_ma['amzn'])\n",
    "movingAverage(df_ma['msft'])\n",
    "movingAverage(df_ma['binance'])\n",
    "movingAverage(df_ma['icm'])\n"
   ]
  },
  {
   "cell_type": "code",
   "execution_count": 100,
   "metadata": {},
   "outputs": [
    {
     "data": {
      "image/png": "[encoded data removed]",
      "text/plain": [
       "<Figure size 640x480 with 1 Axes>"
      ]
     },
     "metadata": {},
     "output_type": "display_data"
    },
    {
     "data": {
      "image/png": "[encoded data removed]",
      "text/plain": [
       "<Figure size 640x480 with 1 Axes>"
      ]
     },
     "metadata": {},
     "output_type": "display_data"
    },
    {
     "name": "stdout",
     "output_type": "stream",
     "text": [
      "[134, 9, 4814, 62, 93, 10726, 3512, 6509, 8188, 1383, 203, 1, 369, 7, 24, 74, 302, 91, 0, 3843, -206, 81, 502, 61, 1681, -294, 58, 347, 351, 126, 200, 14402, 0, 0, 0, 3121, 0, 82, 7028, 300, 8371, 226, 68, 2085, 22, 5591, 3439, 0, 1, 0, 1026, 1, 1, 6196, 4197, 2, 3, 3079, 1, 283, 407, -68, 6117, 12, 5046, 0, 0, 0, 0, 4759, 0, 0, 126, 382, 5678, 4794, 1, 0, 10, 11658, 20, 3009, 4119, 0, 0, 0, 67, 1, 3547, 0, 0, 0, 7191, 20, 158, 8219, 2020, 134, 213, 1909, 6505, 3373, 0, 0, 0, 1, 0, 0, 2110, 0, 0, 26344, 0, 0, 4199, 273, 0, 0, 0, 13, 194, 18, 4849, 0, 2, 9, 4, 0, 0, 0, 3500, 8, 8, 66, 2286, 3941, 1, 0, 4271, 4147, 4706, 10761, 2204, 1, 9772, 295, 178, 11, 3949, 61, 8968, 4546, 10744, 0, 1, 0, 0, 0, 3695, 6329, 184, 150, 196, 10546, 0, 1, 3773, 13, 16, 0, 0, 0, 7889, 8595, 1, 13, 99, 140, 2563, 0, 2586, 1, 0, 0, 0, 0, 14, 0, 61, 31, 30, 7489, 3, 7144, 342, 26, 86, 11, 7986, 0, 0, 0, 5554, 2104, 0, 0, 0, 13, 1, 2283, 0, 0, 0, 0, 0, 0, 0, 0, 0, 2960, 4, 931, 0, 0, 2385, 1, 0, 275, 4, 18, -110, 169, 27, 207, 4068, 10884, 214, 191, 13583, 4225, 3, 96, 19, 592, 0, 0, 0, 0, 0, 0, 0, 0, 0, 0, 0, 1, 0, 0, 0, 0, 509, 292, 781, 17, 4, 279, 527, 8, 781, 405, 372, 162, 263, 135, 73, 52, 0, 0, 0, 16, 89, 71, 842, 878, 118, 6602, 9213, 0, 0, 3246, 0, 0, 0, 0, 392, 5002, 560, 0, 0, 0, 0, 0, 0, 0, 0, 1, 1, 0, 0, 0, 0, 0, 10, 154, 0, 0, 453, 32, 34, 3873, 0, 0, 1, 0, 0, 0, 0, 1, 0, 0, 0, 106, 2761, 382, 69, 5026, 96, 0, 0, 20, 227, 171, 24, 3, 8, 0, 45, 1815, 34, 10071, 3674, 169, 25329, 4, 0, 0, 0, 0, 1, 0, 0, 0, 179, 4200, 4762, 74, 8, 8867, 52, 58, 99, 57, 1, 565, 262, 434, 0, 0, 0, 0, 0, 847, 559, 323, 117, 4651, 103, 68, 10049, 0, 0, 0, 0, 0, 0, 0, 0, 0, 1, 0, 0, 0, 0, 0, 0, 0, 0, 23, 180, 381, 49, 216, 6590, 333, 43, 0, 2567, 7284, 5870, 328, 3233, 2, 0, 0, 0, 5948, -652, 652, -652, 2595, -315, 12474, 195, 108, 117, 92, 3040, 5, 3539, 288, 115, 4037, 390, 62, 9514, -735, 84, 39, 5576, 43, 49, 96, 5305, 917, 0, 0, 0, 13421, 0, 0, 0, 2392, 6359, -508, 1, 17747, 2918, 0, 0, 1, 4799, 4, 10, 489, 0, 0, 202, 28, 0, 2, 0, 1, 2188, 164, 41, 5932, 145, 170, 3354, 8019, 3138, 2184, 2, 0, 0, 0, 2764, 0, 0, 1, 7, 3, 68, 3145, 1001, 28, -958, 1080, 5, 0, 0, 0, 0, 1, 124, 4842, 0, 224, 679, 294, 71, 194, 200, 1309, 0, 8, 0, 0, 0, 0, 0, 0, 663, 23, 11021, 16, 6977, 159, 5917, 6130, 130, 12, 83, 266, 481, 0, 0, 19641, 452, -370, 4913, 136, 0, 0, 0, 1, 1, 0, 84, 3990, 92, 105, 0, 20, 52, 33, 194, 0, 0, 1, 2, 10931, 12301, -274, 5733, 0, 832, 7590, 0, 0, 0, 0, 0, 112, 269, -159, 95, 137, 0, 151, 311, 7689, 4306, 4660, 2037, 7321, 1138, 1680, 11524, 4843, 1808, 0, 0, 0, 0, 0, 0, 0, 3866, 2224, 140, 70, 10, 244, 2125, 1, 0, 0, -232, 5, 1646, -1468, 1, 0, 2439, 1, 0, 47, 1, 2, 0, 11, -348, 7037, 154, 367, 6641, 13, 4281, 4551, 22, 59, 303, 19, 6823, 0, 1, 0, 8765, 280, 16, 1803, 47, 3518, 0, 0, 0, 7969, 0, 0, 2597, 305, 315, 104, 6142, 2, 8144, 0, 7193, 0, 0, 0, 0, 0, 0, 0, 0, 1, 0, 0, 9, 67, 3574, 2266, 1961, 0, 1546, 5, 0, 1, 5356, 544, 9353, -468, 0, 675, 264, 96, 0, 216, 265, 69, 0, 0, 0, 0, 0, 0, 0, 8510, 58, 6, 6, 335, 306, 0, 1962, 1998, 0, 7172, 0, 0, 0, 0, 8001, 0, 0, 0, 0, 0, 0, 0, 0, 0, 75, 22, 3160, 24, 574, 228, 0, 1576, -170, 1, 0, 0, 1, 0, 31, 4138, 1, 2, 1, 24, 446, 56, 170, 576, 89, 64, 0, 0, 0, 0, 0, 0, 0, 0, 1, 2, 2, 4, 12, 0, 0, 0, 1, 0, 0, 0, 0, 0, 0, 0, 0, 0, 0, 0, 0, 0, 1, 1, 0, 1, 7, 2, 0, 0, 0, 0, 3, 675, 9768, 1, 0, 0, 0, 2066, 1884, 0, 10, 7, 125, 352, 2, 0, 0, 268, 1, 5024, 0, 0, 0, 1, 0, 0, 0, 12799, 2412, 6, 0, 0, 0, 0, 1, 0, 0, 0, 0, 127, 9, 106, 60, 2378, 1, 177, 3973, 0, 0, 400, -315, 5786, 2765, 0, 0, 0, 1, 0, 0, 0, 0, 11701, 19, 49, 445, 4767, 0, 4, 6527, 0, 0, 0, 7426, 0, 1, 28, 2495, 101, 0, 0, 110, 5711, 0, 4, 1, 10194, 1, 0, 1982, 44, 332, 0, 0, 0, 6879, 12, 251, 7898, 3, 32, 83, 3850, 2042, 66, 3949, 115, 4, 2986, 11644, 2, 12, 110, -366, 28, 3700, 53, 4328, 646, 0, 0, 0, 1, 0, 0, 632, 5065, 2853, 0, 15575, 65, 1285, 0, 0, 0, 4393, 5818, 5522, 4939, 0, 4323, -609, 705, -503, 135, 410, 4280, 130, 4844, 0, 0, 0, 110, 0, -107, 0, 0, 0, 0, 0, 0, 0, 0, 0, 0, 0, 0, 0, 0, 4, 0, 8900, 0, 1, 13995, 0, -943, 7627, 230, 434, 13642, 227, 31, 348, -138, 0, 0, 0, 0, 0, 0, 0, 1, 0, 1, 1, 9, 39, 72, 65, 0, 0, 0, 0, 23, 1, 5720, 2, 78, 5515, 0, 0, 0, 1, 241, 10, 69, 2, 1, 241, 4368, 1, 5, 57, 3674, 286, 10801, 6, 1788, 1453, 7959, 82, 251, 743, 2511, 9, 3475, 156, 11, 453, 3033, 23, 80, 0, 0, 0, 0, 0, 0, 0, 1, 0, 0, 0, 0, 0, 1, 0, 0, 0, 1, 0, 0, 0, 0, 0, 0, 0, 12, 0, 0, 0, 4, 0, 0, 2, 1, 0, 1177, 2385, 7201, 2015, 37, 84, 5205, 0, 0, 0, 0, 0, 0, 0, 1, 0, 0, 0, 0, 0, 0, 0, 5612, 0, 1, 0, 0, 0, 0, 4081, 116, 10, 8, 0, 3553, 4404, 506, 4534, 0, 9, 14741, 151, 12950, 27, 6121, 4477, 3088, 3685, 108, 0, 4, 7642, 718, 4649, 10, 3535, 0, 1, 100, 228, 130, 11082, 15488, 2227, 0, 63, 135, 4969, 0, 0, 0, 0, 326, 112, 1, 63, 0, 0, 154, 4, 40, 90, 311, 4541, 69, 8024, 27, 17394, 4229, 0, 1, 7, 0, 4568, 0, 0, 0, 0, 0, 0, 0, 0, 0, 0, 0, 0, 0, 0, 0, 0, 0, 0, 0, 6408, 0, 0, 0, 12308, 150, 309, 124, 90, 201, 7000, 0, 0, 1, 0, 3039, 215, 117, 1, 0, 0, 1, 0, 4605, 0, 0, 0, 0, 2412, 4040, 653, -210, 0, 57, 86, 249, 250, 2701, 2066, 14, 34, 257, 1, 4121, 19, -295, 532, 0, 0, 467, 1, 7, 0, 154, 2106, 5119, 1, 0, 5, 202, 6, 5, 1, 732, 7, 90, 5, 95, 68, 92, 3, 159, 117, 123, 258, 502, 272, 713, 200, 983, 0, 0, 0, 0, 1, 0, 0, 974, 49, 314, 153, 94]\n",
      "[0.0022333333333333333, 0.00015, 0.08023333333333334, 0.0010333333333333334, 0.00155, 0.17876666666666666, 0.05853333333333333, 0.10848333333333333, 0.13646666666666665, 0.02305, 0.0033833333333333332, 1.6666666666666667e-05, 0.00615, 0.00011666666666666667, 0.0004, 0.0012333333333333332, 0.005033333333333333, 0.0015166666666666666, 0.0, 0.06405, -0.0034333333333333334, 0.00135, 0.008366666666666666, 0.0010166666666666666, 0.028016666666666665, -0.0049, 0.0009666666666666667, 0.005783333333333333, 0.00585, 0.0021, 0.0033333333333333335, 0.24003333333333332, 0.0, 0.0, 0.0, 0.05201666666666667, 0.0, 0.0013666666666666666, 0.11713333333333334, 0.005, 0.13951666666666668, 0.003766666666666667, 0.0011333333333333334, 0.03475, 0.00036666666666666667, 0.09318333333333334, 0.05731666666666667, 0.0, 1.6666666666666667e-05, 0.0, 0.0171, 1.6666666666666667e-05, 1.6666666666666667e-05, 0.10326666666666667, 0.06995, 3.3333333333333335e-05, 5e-05, 0.05131666666666666, 1.6666666666666667e-05, 0.004716666666666667, 0.006783333333333333, -0.0011333333333333334, 0.10195, 0.0002, 0.0841, 0.0, 0.0, 0.0, 0.0, 0.07931666666666666, 0.0, 0.0, 0.0021, 0.006366666666666666, 0.09463333333333333, 0.0799, 1.6666666666666667e-05, 0.0, 0.00016666666666666666, 0.1943, 0.0003333333333333333, 0.05015, 0.06865, 0.0, 0.0, 0.0, 0.0011166666666666666, 1.6666666666666667e-05, 0.059116666666666665, 0.0, 0.0, 0.0, 0.11985, 0.0003333333333333333, 0.0026333333333333334, 0.13698333333333335, 0.033666666666666664, 0.0022333333333333333, 0.00355, 0.03181666666666667, 0.10841666666666666, 0.056216666666666665, 0.0, 0.0, 0.0, 1.6666666666666667e-05, 0.0, 0.0, 0.035166666666666666, 0.0, 0.0, 0.43906666666666666, 0.0, 0.0, 0.06998333333333333, 0.00455, 0.0, 0.0, 0.0, 0.00021666666666666666, 0.0032333333333333333, 0.0003, 0.08081666666666666, 0.0, 3.3333333333333335e-05, 0.00015, 6.666666666666667e-05, 0.0, 0.0, 0.0, 0.058333333333333334, 0.00013333333333333334, 0.00013333333333333334, 0.0011, 0.0381, 0.06568333333333333, 1.6666666666666667e-05, 0.0, 0.07118333333333333, 0.06911666666666667, 0.07843333333333333, 0.17935, 0.03673333333333333, 1.6666666666666667e-05, 0.16286666666666666, 0.004916666666666666, 0.0029666666666666665, 0.00018333333333333334, 0.06581666666666666, 0.0010166666666666666, 0.14946666666666666, 0.07576666666666666, 0.17906666666666668, 0.0, 1.6666666666666667e-05, 0.0, 0.0, 0.0, 0.06158333333333333, 0.10548333333333333, 0.0030666666666666668, 0.0025, 0.003266666666666667, 0.17576666666666665, 0.0, 1.6666666666666667e-05, 0.06288333333333333, 0.00021666666666666666, 0.0002666666666666667, 0.0, 0.0, 0.0, 0.13148333333333334, 0.14325, 1.6666666666666667e-05, 0.00021666666666666666, 0.00165, 0.0023333333333333335, 0.04271666666666667, 0.0, 0.0431, 1.6666666666666667e-05, 0.0, 0.0, 0.0, 0.0, 0.00023333333333333333, 0.0, 0.0010166666666666666, 0.0005166666666666667, 0.0005, 0.12481666666666667, 5e-05, 0.11906666666666667, 0.0057, 0.0004333333333333333, 0.0014333333333333333, 0.00018333333333333334, 0.1331, 0.0, 0.0, 0.0, 0.09256666666666667, 0.03506666666666667, 0.0, 0.0, 0.0, 0.00021666666666666666, 1.6666666666666667e-05, 0.03805, 0.0, 0.0, 0.0, 0.0, 0.0, 0.0, 0.0, 0.0, 0.0, 0.04933333333333333, 6.666666666666667e-05, 0.015516666666666666, 0.0, 0.0, 0.03975, 1.6666666666666667e-05, 0.0, 0.004583333333333333, 6.666666666666667e-05, 0.0003, -0.0018333333333333333, 0.0028166666666666665, 0.00045, 0.00345, 0.0678, 0.1814, 0.0035666666666666668, 0.003183333333333333, 0.22638333333333333, 0.07041666666666667, 5e-05, 0.0016, 0.00031666666666666665, 0.009866666666666666, 0.0, 0.0, 0.0, 0.0, 0.0, 0.0, 0.0, 0.0, 0.0, 0.0, 0.0, 1.6666666666666667e-05, 0.0, 0.0, 0.0, 0.0, 0.008483333333333334, 0.004866666666666667, 0.013016666666666666, 0.00028333333333333335, 6.666666666666667e-05, 0.00465, 0.008783333333333334, 0.00013333333333333334, 0.013016666666666666, 0.00675, 0.0062, 0.0027, 0.004383333333333334, 0.00225, 0.0012166666666666667, 0.0008666666666666666, 0.0, 0.0, 0.0, 0.0002666666666666667, 0.0014833333333333332, 0.0011833333333333333, 0.014033333333333333, 0.014633333333333333, 0.0019666666666666665, 0.11003333333333333, 0.15355, 0.0, 0.0, 0.0541, 0.0, 0.0, 0.0, 0.0, 0.006533333333333334, 0.08336666666666667, 0.009333333333333334, 0.0, 0.0, 0.0, 0.0, 0.0, 0.0, 0.0, 0.0, 1.6666666666666667e-05, 1.6666666666666667e-05, 0.0, 0.0, 0.0, 0.0, 0.0, 0.00016666666666666666, 0.0025666666666666667, 0.0, 0.0, 0.00755, 0.0005333333333333334, 0.0005666666666666667, 0.06455, 0.0, 0.0, 1.6666666666666667e-05, 0.0, 0.0, 0.0, 0.0, 1.6666666666666667e-05, 0.0, 0.0, 0.0, 0.0017666666666666666, 0.046016666666666664, 0.006366666666666666, 0.00115, 0.08376666666666667, 0.0016, 0.0, 0.0, 0.0003333333333333333, 0.0037833333333333334, 0.00285, 0.0004, 5e-05, 0.00013333333333333334, 0.0, 0.00075, 0.03025, 0.0005666666666666667, 0.16785, 0.061233333333333334, 0.0028166666666666665, 0.42215, 6.666666666666667e-05, 0.0, 0.0, 0.0, 0.0, 1.6666666666666667e-05, 0.0, 0.0, 0.0, 0.0029833333333333335, 0.07, 0.07936666666666667, 0.0012333333333333332, 0.00013333333333333334, 0.14778333333333332, 0.0008666666666666666, 0.0009666666666666667, 0.00165, 0.00095, 1.6666666666666667e-05, 0.009416666666666667, 0.004366666666666666, 0.007233333333333333, 0.0, 0.0, 0.0, 0.0, 0.0, 0.014116666666666666, 0.009316666666666666, 0.005383333333333334, 0.00195, 0.07751666666666666, 0.0017166666666666667, 0.0011333333333333334, 0.16748333333333335, 0.0, 0.0, 0.0, 0.0, 0.0, 0.0, 0.0, 0.0, 0.0, 1.6666666666666667e-05, 0.0, 0.0, 0.0, 0.0, 0.0, 0.0, 0.0, 0.0, 0.00038333333333333334, 0.003, 0.00635, 0.0008166666666666667, 0.0036, 0.10983333333333334, 0.00555, 0.0007166666666666667, 0.0, 0.04278333333333333, 0.1214, 0.09783333333333333, 0.0054666666666666665, 0.05388333333333333, 3.3333333333333335e-05, 0.0, 0.0, 0.0, 0.09913333333333334, -0.010866666666666667, 0.010866666666666667, -0.010866666666666667, 0.04325, -0.00525, 0.2079, 0.00325, 0.0018, 0.00195, 0.0015333333333333334, 0.050666666666666665, 8.333333333333333e-05, 0.05898333333333333, 0.0048, 0.0019166666666666666, 0.06728333333333333, 0.0065, 0.0010333333333333334, 0.15856666666666666, -0.01225, 0.0014, 0.00065, 0.09293333333333334, 0.0007166666666666667, 0.0008166666666666667, 0.0016, 0.08841666666666667, 0.015283333333333333, 0.0, 0.0, 0.0, 0.22368333333333335, 0.0, 0.0, 0.0, 0.03986666666666667, 0.10598333333333333, -0.008466666666666667, 1.6666666666666667e-05, 0.29578333333333334, 0.048633333333333334, 0.0, 0.0, 1.6666666666666667e-05, 0.07998333333333334, 6.666666666666667e-05, 0.00016666666666666666, 0.00815, 0.0, 0.0, 0.0033666666666666667, 0.00046666666666666666, 0.0, 3.3333333333333335e-05, 0.0, 1.6666666666666667e-05, 0.03646666666666667, 0.0027333333333333333, 0.0006833333333333333, 0.09886666666666667, 0.002416666666666667, 0.0028333333333333335, 0.0559, 0.13365, 0.0523, 0.0364, 3.3333333333333335e-05, 0.0, 0.0, 0.0, 0.046066666666666665, 0.0, 0.0, 1.6666666666666667e-05, 0.00011666666666666667, 5e-05, 0.0011333333333333334, 0.05241666666666667, 0.016683333333333335, 0.00046666666666666666, -0.015966666666666667, 0.018, 8.333333333333333e-05, 0.0, 0.0, 0.0, 0.0, 1.6666666666666667e-05, 0.0020666666666666667, 0.0807, 0.0, 0.0037333333333333333, 0.011316666666666666, 0.0049, 0.0011833333333333333, 0.0032333333333333333, 0.0033333333333333335, 0.021816666666666668, 0.0, 0.00013333333333333334, 0.0, 0.0, 0.0, 0.0, 0.0, 0.0, 0.01105, 0.00038333333333333334, 0.18368333333333334, 0.0002666666666666667, 0.11628333333333334, 0.00265, 0.09861666666666667, 0.10216666666666667, 0.0021666666666666666, 0.0002, 0.0013833333333333334, 0.004433333333333333, 0.008016666666666667, 0.0, 0.0, 0.32735, 0.007533333333333334, -0.006166666666666667, 0.08188333333333334, 0.002266666666666667, 0.0, 0.0, 0.0, 1.6666666666666667e-05, 1.6666666666666667e-05, 0.0, 0.0014, 0.0665, 0.0015333333333333334, 0.00175, 0.0, 0.0003333333333333333, 0.0008666666666666666, 0.00055, 0.0032333333333333333, 0.0, 0.0, 1.6666666666666667e-05, 3.3333333333333335e-05, 0.18218333333333334, 0.20501666666666668, -0.004566666666666667, 0.09555, 0.0, 0.013866666666666666, 0.1265, 0.0, 0.0, 0.0, 0.0, 0.0, 0.0018666666666666666, 0.004483333333333333, -0.00265, 0.0015833333333333333, 0.0022833333333333334, 0.0, 0.0025166666666666666, 0.005183333333333333, 0.12815, 0.07176666666666667, 0.07766666666666666, 0.03395, 0.12201666666666666, 0.018966666666666666, 0.028, 0.19206666666666666, 0.08071666666666667, 0.030133333333333335, 0.0, 0.0, 0.0, 0.0, 0.0, 0.0, 0.0, 0.06443333333333333, 0.037066666666666664, 0.0023333333333333335, 0.0011666666666666668, 0.00016666666666666666, 0.004066666666666666, 0.035416666666666666, 1.6666666666666667e-05, 0.0, 0.0, -0.0038666666666666667, 8.333333333333333e-05, 0.027433333333333334, -0.024466666666666668, 1.6666666666666667e-05, 0.0, 0.04065, 1.6666666666666667e-05, 0.0, 0.0007833333333333334, 1.6666666666666667e-05, 3.3333333333333335e-05, 0.0, 0.00018333333333333334, -0.0058, 0.11728333333333334, 0.0025666666666666667, 0.006116666666666667, 0.11068333333333333, 0.00021666666666666666, 0.07135, 0.07585, 0.00036666666666666667, 0.0009833333333333332, 0.00505, 0.00031666666666666665, 0.11371666666666666, 0.0, 1.6666666666666667e-05, 0.0, 0.14608333333333334, 0.004666666666666667, 0.0002666666666666667, 0.03005, 0.0007833333333333334, 0.058633333333333336, 0.0, 0.0, 0.0, 0.13281666666666667, 0.0, 0.0, 0.04328333333333333, 0.005083333333333333, 0.00525, 0.0017333333333333333, 0.10236666666666666, 3.3333333333333335e-05, 0.13573333333333334, 0.0, 0.11988333333333333, 0.0, 0.0, 0.0, 0.0, 0.0, 0.0, 0.0, 0.0, 1.6666666666666667e-05, 0.0, 0.0, 0.00015, 0.0011166666666666666, 0.059566666666666664, 0.037766666666666664, 0.032683333333333335, 0.0, 0.025766666666666667, 8.333333333333333e-05, 0.0, 1.6666666666666667e-05, 0.08926666666666666, 0.009066666666666667, 0.15588333333333335, -0.0078, 0.0, 0.01125, 0.0044, 0.0016, 0.0, 0.0036, 0.004416666666666667, 0.00115, 0.0, 0.0, 0.0, 0.0, 0.0, 0.0, 0.0, 0.14183333333333334, 0.0009666666666666667, 0.0001, 0.0001, 0.005583333333333333, 0.0051, 0.0, 0.0327, 0.0333, 0.0, 0.11953333333333334, 0.0, 0.0, 0.0, 0.0, 0.13335, 0.0, 0.0, 0.0, 0.0, 0.0, 0.0, 0.0, 0.0, 0.0, 0.00125, 0.00036666666666666667, 0.05266666666666667, 0.0004, 0.009566666666666666, 0.0038, 0.0, 0.026266666666666667, -0.0028333333333333335, 1.6666666666666667e-05, 0.0, 0.0, 1.6666666666666667e-05, 0.0, 0.0005166666666666667, 0.06896666666666666, 1.6666666666666667e-05, 3.3333333333333335e-05, 1.6666666666666667e-05, 0.0004, 0.0074333333333333335, 0.0009333333333333333, 0.0028333333333333335, 0.0096, 0.0014833333333333332, 0.0010666666666666667, 0.0, 0.0, 0.0, 0.0, 0.0, 0.0, 0.0, 0.0, 1.6666666666666667e-05, 3.3333333333333335e-05, 3.3333333333333335e-05, 6.666666666666667e-05, 0.0002, 0.0, 0.0, 0.0, 1.6666666666666667e-05, 0.0, 0.0, 0.0, 0.0, 0.0, 0.0, 0.0, 0.0, 0.0, 0.0, 0.0, 0.0, 0.0, 1.6666666666666667e-05, 1.6666666666666667e-05, 0.0, 1.6666666666666667e-05, 0.00011666666666666667, 3.3333333333333335e-05, 0.0, 0.0, 0.0, 0.0, 5e-05, 0.01125, 0.1628, 1.6666666666666667e-05, 0.0, 0.0, 0.0, 0.03443333333333334, 0.0314, 0.0, 0.00016666666666666666, 0.00011666666666666667, 0.0020833333333333333, 0.005866666666666667, 3.3333333333333335e-05, 0.0, 0.0, 0.0044666666666666665, 1.6666666666666667e-05, 0.08373333333333334, 0.0, 0.0, 0.0, 1.6666666666666667e-05, 0.0, 0.0, 0.0, 0.21331666666666665, 0.0402, 0.0001, 0.0, 0.0, 0.0, 0.0, 1.6666666666666667e-05, 0.0, 0.0, 0.0, 0.0, 0.002116666666666667, 0.00015, 0.0017666666666666666, 0.001, 0.03963333333333333, 1.6666666666666667e-05, 0.00295, 0.06621666666666666, 0.0, 0.0, 0.006666666666666667, -0.00525, 0.09643333333333333, 0.04608333333333333, 0.0, 0.0, 0.0, 1.6666666666666667e-05, 0.0, 0.0, 0.0, 0.0, 0.19501666666666667, 0.00031666666666666665, 0.0008166666666666667, 0.007416666666666667, 0.07945, 0.0, 6.666666666666667e-05, 0.10878333333333333, 0.0, 0.0, 0.0, 0.12376666666666666, 0.0, 1.6666666666666667e-05, 0.00046666666666666666, 0.04158333333333333, 0.0016833333333333333, 0.0, 0.0, 0.0018333333333333333, 0.09518333333333333, 0.0, 6.666666666666667e-05, 1.6666666666666667e-05, 0.1699, 1.6666666666666667e-05, 0.0, 0.03303333333333333, 0.0007333333333333333, 0.005533333333333334, 0.0, 0.0, 0.0, 0.11465, 0.0002, 0.004183333333333333, 0.13163333333333332, 5e-05, 0.0005333333333333334, 0.0013833333333333334, 0.06416666666666666, 0.03403333333333333, 0.0011, 0.06581666666666666, 0.0019166666666666666, 6.666666666666667e-05, 0.04976666666666667, 0.19406666666666667, 3.3333333333333335e-05, 0.0002, 0.0018333333333333333, -0.0061, 0.00046666666666666666, 0.06166666666666667, 0.0008833333333333333, 0.07213333333333333, 0.010766666666666667, 0.0, 0.0, 0.0, 1.6666666666666667e-05, 0.0, 0.0, 0.010533333333333334, 0.08441666666666667, 0.04755, 0.0, 0.25958333333333333, 0.0010833333333333333, 0.021416666666666667, 0.0, 0.0, 0.0, 0.07321666666666667, 0.09696666666666667, 0.09203333333333333, 0.08231666666666666, 0.0, 0.07205, -0.01015, 0.01175, -0.008383333333333333, 0.00225, 0.006833333333333334, 0.07133333333333333, 0.0021666666666666666, 0.08073333333333334, 0.0, 0.0, 0.0, 0.0018333333333333333, 0.0, -0.0017833333333333334, 0.0, 0.0, 0.0, 0.0, 0.0, 0.0, 0.0, 0.0, 0.0, 0.0, 0.0, 0.0, 0.0, 0.0, 6.666666666666667e-05, 0.0, 0.14833333333333334, 0.0, 1.6666666666666667e-05, 0.23325, 0.0, -0.015716666666666667, 0.12711666666666666, 0.003833333333333333, 0.007233333333333333, 0.22736666666666666, 0.0037833333333333334, 0.0005166666666666667, 0.0058, -0.0023, 0.0, 0.0, 0.0, 0.0, 0.0, 0.0, 0.0, 1.6666666666666667e-05, 0.0, 1.6666666666666667e-05, 1.6666666666666667e-05, 0.00015, 0.00065, 0.0012, 0.0010833333333333333, 0.0, 0.0, 0.0, 0.0, 0.00038333333333333334, 1.6666666666666667e-05, 0.09533333333333334, 3.3333333333333335e-05, 0.0013, 0.09191666666666666, 0.0, 0.0, 0.0, 1.6666666666666667e-05, 0.004016666666666667, 0.00016666666666666666, 0.00115, 3.3333333333333335e-05, 1.6666666666666667e-05, 0.004016666666666667, 0.0728, 1.6666666666666667e-05, 8.333333333333333e-05, 0.00095, 0.061233333333333334, 0.0047666666666666664, 0.18001666666666666, 0.0001, 0.0298, 0.024216666666666668, 0.13265, 0.0013666666666666666, 0.004183333333333333, 0.012383333333333333, 0.04185, 0.00015, 0.057916666666666665, 0.0026, 0.00018333333333333334, 0.00755, 0.05055, 0.00038333333333333334, 0.0013333333333333333, 0.0, 0.0, 0.0, 0.0, 0.0, 0.0, 0.0, 1.6666666666666667e-05, 0.0, 0.0, 0.0, 0.0, 0.0, 1.6666666666666667e-05, 0.0, 0.0, 0.0, 1.6666666666666667e-05, 0.0, 0.0, 0.0, 0.0, 0.0, 0.0, 0.0, 0.0002, 0.0, 0.0, 0.0, 6.666666666666667e-05, 0.0, 0.0, 3.3333333333333335e-05, 1.6666666666666667e-05, 0.0, 0.019616666666666668, 0.03975, 0.12001666666666666, 0.03358333333333333, 0.0006166666666666666, 0.0014, 0.08675, 0.0, 0.0, 0.0, 0.0, 0.0, 0.0, 0.0, 1.6666666666666667e-05, 0.0, 0.0, 0.0, 0.0, 0.0, 0.0, 0.0, 0.09353333333333333, 0.0, 1.6666666666666667e-05, 0.0, 0.0, 0.0, 0.0, 0.06801666666666667, 0.0019333333333333333, 0.00016666666666666666, 0.00013333333333333334, 0.0, 0.05921666666666667, 0.0734, 0.008433333333333333, 0.07556666666666667, 0.0, 0.00015, 0.24568333333333334, 0.0025166666666666666, 0.21583333333333332, 0.00045, 0.10201666666666667, 0.07461666666666666, 0.05146666666666667, 0.06141666666666667, 0.0018, 0.0, 6.666666666666667e-05, 0.12736666666666666, 0.011966666666666667, 0.07748333333333333, 0.00016666666666666666, 0.058916666666666666, 0.0, 1.6666666666666667e-05, 0.0016666666666666668, 0.0038, 0.0021666666666666666, 0.1847, 0.2581333333333333, 0.037116666666666666, 0.0, 0.00105, 0.00225, 0.08281666666666666, 0.0, 0.0, 0.0, 0.0, 0.005433333333333333, 0.0018666666666666666, 1.6666666666666667e-05, 0.00105, 0.0, 0.0, 0.0025666666666666667, 6.666666666666667e-05, 0.0006666666666666666, 0.0015, 0.005183333333333333, 0.07568333333333334, 0.00115, 0.13373333333333334, 0.00045, 0.2899, 0.07048333333333333, 0.0, 1.6666666666666667e-05, 0.00011666666666666667, 0.0, 0.07613333333333333, 0.0, 0.0, 0.0, 0.0, 0.0, 0.0, 0.0, 0.0, 0.0, 0.0, 0.0, 0.0, 0.0, 0.0, 0.0, 0.0, 0.0, 0.0, 0.0, 0.1068, 0.0, 0.0, 0.0, 0.20513333333333333, 0.0025, 0.00515, 0.0020666666666666667, 0.0015, 0.00335, 0.11666666666666667, 0.0, 0.0, 1.6666666666666667e-05, 0.0, 0.05065, 0.0035833333333333333, 0.00195, 1.6666666666666667e-05, 0.0, 0.0, 1.6666666666666667e-05, 0.0, 0.07675, 0.0, 0.0, 0.0, 0.0, 0.0402, 0.06733333333333333, 0.010883333333333333, -0.0035, 0.0, 0.00095, 0.0014333333333333333, 0.00415, 0.004166666666666667, 0.04501666666666667, 0.03443333333333334, 0.00023333333333333333, 0.0005666666666666667, 0.0042833333333333334, 1.6666666666666667e-05, 0.06868333333333333, 0.00031666666666666665, -0.004916666666666666, 0.008866666666666667, 0.0, 0.0, 0.007783333333333333, 1.6666666666666667e-05, 0.00011666666666666667, 0.0, 0.0025666666666666667, 0.0351, 0.08531666666666667, 1.6666666666666667e-05, 0.0, 8.333333333333333e-05, 0.0033666666666666667, 0.0001, 8.333333333333333e-05, 1.6666666666666667e-05, 0.0122, 0.00011666666666666667, 0.0015, 8.333333333333333e-05, 0.0015833333333333333, 0.0011333333333333334, 0.0015333333333333334, 5e-05, 0.00265, 0.00195, 0.00205, 0.0043, 0.008366666666666666, 0.004533333333333334, 0.011883333333333333, 0.0033333333333333335, 0.016383333333333333, 0.0, 0.0, 0.0, 0.0, 1.6666666666666667e-05, 0.0, 0.0, 0.016233333333333332, 0.0008166666666666667, 0.005233333333333334, 0.00255, 0.0015666666666666667]\n"
     ]
    },
    {
     "data": {
      "image/png": "[encoded data removed]",
      "text/plain": [
       "<Figure size 640x480 with 1 Axes>"
      ]
     },
     "metadata": {},
     "output_type": "display_data"
    },
    {
     "data": {
      "image/png": "[encoded data removed]",
      "text/plain": [
       "<Figure size 640x480 with 1 Axes>"
      ]
     },
     "metadata": {},
     "output_type": "display_data"
    },
    {
     "data": {
      "image/png": "[encoded data removed]",
      "text/plain": [
       "<Figure size 640x480 with 1 Axes>"
      ]
     },
     "metadata": {},
     "output_type": "display_data"
    },
    {
     "name": "stdout",
     "output_type": "stream",
     "text": [
      "[115, 103, 13, 82, 4875, 10931, 248, 295, 2591, 281, 0, 38, 3, 2572, 3919, 82, 0, 3124, 1, 4, 6511, 497, 385, 3763, 41, 601, 238, 232, 2075, 56, 109, 908, 9, 5319, 1, 2409, 0, 0, 0, 0, 0, 563, 15060, 8644, 31, 39, 769, 1708, 0, 0, 0, 0, 0, 0, 0, 0, 5337, 4648, 1, 13582, 10290, 0, 0, 6170, 1, 0, 252, 72, 5886, 153, 153, 307, -177, 4066, 58, 7231, 1, 0, 4547, 3117, 4087, 44, 1, 2, 3732, 6, 5181, 1865, 170, 184, 96, 6360, 1536, 226, 10636, 3281, 27, 10298, 0, 0, 1, 0, 5745, 7190, 99, 2, -628, 88, 2123, 1, 7740, 0, 0, 0, 0, 35, 0, 1, 5351, 0, 0, 4, 0, 6, 5, 0, 3103, 0, 251, 339, 10390, 8, 3924, 11355, 4331, 2200, 0, 0, 0, 0, 0, 13597, 196, 29, 405, 13528, 3938, 21, 1, 148, 10390, 30, 80, 25, 0, 71, 0, 14, 5988, 668, -90, 3617, 1, 4525, 0, 0, 0, 19897, 2510, 55, 3084, 0, 3236, -663, 13, 64, 665, 0, 3695, 62, 5, 0, 20, 3207, 31, 2423, 4568, 340, 15811, 0, 0, 0, 0, 5433, 1, 0, 0, 0, 0, 0, 0, 0, 0, 0, 0, 0, 0, 0, 759, 0, 0, 1, 5, 2125, 0, 0, 0, 0, 227, 79, -63, 0, 3, 23, 60, 182, 16, 71, 1, 0, 0, 7, 4261, 15, 10868, 0, 0, 0, 0, 0, 0, 0, 1, 0, 0, 0, 0, 0, 0, 0, 0, 0, 0, 0, 0, 2, 222, 164, 13638, 5933, 417, 0, 180, 397, 0, 1245, 15, 1181, 413, 12, 149, 447, -43, 620, 304, 199, 185, 269, 6648, 3559, 0, 0, 1, 8118, 10, 73, 0, 0, 1, 0, 1, 6330, 0, 0, 0, 0, 0, 0, 0, 0, 1, 0, 0, 0, 0, 1, 7443, 506, -167, 5278, 157, 4325, 7864, 0, 3539, 773, -327, 7704, 17649, 4129, 4826, 35, 20, 9188, 1, 1, 0, 2, 4, 646, 88, 1, 29, 114, 407, 0, 242, 2, 587, 204, 20, 279, 38, 185, 3, 40, 68, 801, 0, 1, 0, 0, 0, 0, 6, 558, 3571, 0, 10326, 312, 7384, -253, 75, 2381, 82, 16832, 12562, 0, 0, 1, 7930, 3132, 3815, 4616, 14474, 2, 190, 283, 4999, 0, 0, 0, 63, 4089, 5609, 6980, 0, 1, 0, 5677, 5430, 0, -595, 13034, 74, 7697, 0, 0, 0, 0, 26, 22, 204, 303, 2449, 309, 0, 0, 0, 6, 6, 6158, 2554, 43, 63, 57, 0, 1299, 0, 0, 7113, 8657, 75, 21, 137, 2796, 923, 130, 1576, 3866, -368, 604, 14, 0, 4, 291, 9, 683, 64, 664, 451, 146, 642, 15050, 0, 0, 8409, 72, 16870, 4245, 1, 10945, 226, 4092, 11290, 439, 4274, 0, 3, 5, 13261, 430, 283, 7434, 149, 756, 5016, 3179, 7725, 8238, 2029, 20996, 1, 1, 0, 5, 6, 4120, 1, 0, 0, 0, 2165, 353, 1, 116, 1923, 0, 0, 0, 0, -3, 0, 0, 0, 3, 1, 0, -4, 1, 3, -3, 0, 0, 0, 0, 0, 563, 4063, 25, 7683, 0, 0, 1, 8019, 200, 4549, 457, 0, 3850, 102, 74, 120, 2530, 2027, 3328, 0, 0, 0, 0, 3494, 459, 13217, 3263, 104, 2918, 6, 0, 2531, 543, 8268, 13056, 52, 9015, 215, 9706, 2, 256, 678, 8575, 6398, 8722, 0, 0, 0, 0, 0, 0, 0, 0, 1, 0, 23, 4636, 1, 107, 1, 21, 3541, 1824, 0, 0, 1, 0, 2, 4475, 535, 578, 0, 0, 0, 1, 0, 1, 0, 0, 0, 0, 0, 0, 0, 6, 0, 0, 2, 1, 1, 0, 1, 351, 0, 91, 142, 4023, 7825, -386, 2431, 79, 1, 201, 140, 11, 0, 0, 0, 0, 0, 0, 0, 0, 0, 0, 0, 1, 0, 0, 0, 0, 0, 60, 223, 251, 4766, 1, 12793, 0, 0, 0, 0, 198, 614, 0, 0, 0, 0, 0, 0, 1, 0, 4, 0, 0, 0, 1, 1, 6, 0, 0, 0, 0, 0, 0, 0, 0, 0, 0, 0, 0, 0, 0, 0, 0, 0, 0, 0, 0, 1, 0, 0, 0, 0, 0, 0, 0, 8, 0, 0, 0, 0, 0, 0, 0, 1, 0, 0, 0, 0, 0, 0, 0, 0, 0, 1, 1, 0, 1, 1, 0, 0, 1, 2, 1, 0, 0, 0, 0, 1712, 2776, 4032, 15367, 0, 0, 0, 0, 0, 0, 0, 0, 2, 0, 1, 5098, 0, 21460, 11643, 6580, 243, 1, 316, 20816, 0, 3818, 317, 3240, 5059, 13, 6504, 7865, 148, 1267, 0, 53, 2590, 0, 4753, 2511, 0, 1, 7805, 0, 0, 0, 3, 172, 5197, 11242, 365, 1, 5664, 8263, 344, 623, 0, 5, 6949, 2364, 0, 13964, 1, 0, 1, 0, -505, 0, 0, 0, 0, 0, 53, 0, 0, 0, 2, 1, 163, 0, 0, 0, 885, 0, 0, 0, 1275, 0, 0, 0, 3459, 6624, 174, -95, 3898, 308, 2, 13613, 13, 28, 0, 0, 0, 0, 0, 0, 0, 0, 0, 0, 3, 0, 1, 0, 0, 77, 20, 202, 230, 140, 1, 20274, 0, 0, 0, 1, 0, 0, 0, 0, 0, 0, 0, 7352, 14971, 3297, 4009, 2724, 96, 1, 0, 2, 98, 0, 0, 146, 0, 2038, 1592, 465, 0, 0, 7, 14194, 0, 4, 104, 35, 92, 118, 207, 1, 4948, 0, 1342, 2310, 0, 3599, 0, 97, 185, 339, 0, 0, 0, 0, 0, 0, 0, 4129, 0, 0, 0, 0, 0, 0, 0, 0, 0, 2, 715, -366, 4, 2, 8, 3, 50, 11655, 78, 7850, 75, 76, 15693, 3450, 0, 1, 0, 0, 0, 0, 1, 0, 0, 0, 0, 2, 2, 141, 7482, -86, 0, 0, 0, 2, 150, 149, 111, 2702, 198, 337, 0, 0, 0, 0, 0, 0, 0, 0, 0, 0, 1, 0, 58, 7668, 647, 10, 212, 135, 19775, 0, 3366, 473, 5293, 5963, 2354, 66, 5503, 371, 63, 5670, 7270, 23, 17286, 300, 0, 0, 0, 0, 0, 0, 11253, 1, 7935, 0, 0, 7775, 302, 90, 98, 59, 63, 604, 452, 94, 49, 770, 28, 5645, 2774, 194, 39, 234, 6996, 49, 127, 0, 22, 4814, 2, 3179, 1841, 2984, 160, 0, 0, 0, 0, 0, 1, 1270, -618, 9, 41, 0, 0, 0, 208, 237, 800, 147, 2192, 0, 5110, 4, 0, 2, 109, 561, 253, 25, 7, 375, 401, 54, 0, 0, 65, 157, 0, 433, 725, 1, 410, 0, 0, 0, 4, 73, 491, 29, 24, 1, 1721, -80, 379, 319]\n",
      "[0.0019166666666666666, 0.0017166666666666667, 0.00021666666666666666, 0.0013666666666666666, 0.08125, 0.18218333333333334, 0.0041333333333333335, 0.004916666666666666, 0.04318333333333333, 0.004683333333333334, 0.0, 0.0006333333333333333, 5e-05, 0.042866666666666664, 0.06531666666666666, 0.0013666666666666666, 0.0, 0.052066666666666664, 1.6666666666666667e-05, 6.666666666666667e-05, 0.10851666666666666, 0.008283333333333334, 0.006416666666666667, 0.06271666666666667, 0.0006833333333333333, 0.010016666666666667, 0.003966666666666667, 0.0038666666666666667, 0.034583333333333334, 0.0009333333333333333, 0.0018166666666666667, 0.015133333333333334, 0.00015, 0.08865, 1.6666666666666667e-05, 0.04015, 0.0, 0.0, 0.0, 0.0, 0.0, 0.009383333333333334, 0.251, 0.14406666666666668, 0.0005166666666666667, 0.00065, 0.012816666666666667, 0.028466666666666668, 0.0, 0.0, 0.0, 0.0, 0.0, 0.0, 0.0, 0.0, 0.08895, 0.07746666666666667, 1.6666666666666667e-05, 0.22636666666666666, 0.1715, 0.0, 0.0, 0.10283333333333333, 1.6666666666666667e-05, 0.0, 0.0042, 0.0012, 0.0981, 0.00255, 0.00255, 0.005116666666666667, -0.00295, 0.06776666666666667, 0.0009666666666666667, 0.12051666666666666, 1.6666666666666667e-05, 0.0, 0.07578333333333333, 0.05195, 0.06811666666666667, 0.0007333333333333333, 1.6666666666666667e-05, 3.3333333333333335e-05, 0.0622, 0.0001, 0.08635, 0.031083333333333334, 0.0028333333333333335, 0.0030666666666666668, 0.0016, 0.106, 0.0256, 0.003766666666666667, 0.17726666666666666, 0.054683333333333334, 0.00045, 0.17163333333333333, 0.0, 0.0, 1.6666666666666667e-05, 0.0, 0.09575, 0.11983333333333333, 0.00165, 3.3333333333333335e-05, -0.010466666666666668, 0.0014666666666666667, 0.035383333333333336, 1.6666666666666667e-05, 0.129, 0.0, 0.0, 0.0, 0.0, 0.0005833333333333334, 0.0, 1.6666666666666667e-05, 0.08918333333333334, 0.0, 0.0, 6.666666666666667e-05, 0.0, 0.0001, 8.333333333333333e-05, 0.0, 0.05171666666666667, 0.0, 0.004183333333333333, 0.00565, 0.17316666666666666, 0.00013333333333333334, 0.0654, 0.18925, 0.07218333333333334, 0.03666666666666667, 0.0, 0.0, 0.0, 0.0, 0.0, 0.22661666666666666, 0.003266666666666667, 0.00048333333333333334, 0.00675, 0.22546666666666668, 0.06563333333333334, 0.00035, 1.6666666666666667e-05, 0.0024666666666666665, 0.17316666666666666, 0.0005, 0.0013333333333333333, 0.0004166666666666667, 0.0, 0.0011833333333333333, 0.0, 0.00023333333333333333, 0.0998, 0.011133333333333334, -0.0015, 0.060283333333333335, 1.6666666666666667e-05, 0.07541666666666667, 0.0, 0.0, 0.0, 0.33161666666666667, 0.041833333333333333, 0.0009166666666666666, 0.0514, 0.0, 0.05393333333333333, -0.01105, 0.00021666666666666666, 0.0010666666666666667, 0.011083333333333334, 0.0, 0.06158333333333333, 0.0010333333333333334, 8.333333333333333e-05, 0.0, 0.0003333333333333333, 0.05345, 0.0005166666666666667, 0.040383333333333334, 0.07613333333333333, 0.005666666666666667, 0.2635166666666667, 0.0, 0.0, 0.0, 0.0, 0.09055, 1.6666666666666667e-05, 0.0, 0.0, 0.0, 0.0, 0.0, 0.0, 0.0, 0.0, 0.0, 0.0, 0.0, 0.0, 0.0, 0.01265, 0.0, 0.0, 1.6666666666666667e-05, 8.333333333333333e-05, 0.035416666666666666, 0.0, 0.0, 0.0, 0.0, 0.0037833333333333334, 0.0013166666666666667, -0.00105, 0.0, 5e-05, 0.00038333333333333334, 0.001, 0.003033333333333333, 0.0002666666666666667, 0.0011833333333333333, 1.6666666666666667e-05, 0.0, 0.0, 0.00011666666666666667, 0.07101666666666667, 0.00025, 0.18113333333333334, 0.0, 0.0, 0.0, 0.0, 0.0, 0.0, 0.0, 1.6666666666666667e-05, 0.0, 0.0, 0.0, 0.0, 0.0, 0.0, 0.0, 0.0, 0.0, 0.0, 0.0, 0.0, 3.3333333333333335e-05, 0.0037, 0.0027333333333333333, 0.2273, 0.09888333333333334, 0.00695, 0.0, 0.003, 0.0066166666666666665, 0.0, 0.02075, 0.00025, 0.019683333333333334, 0.006883333333333333, 0.0002, 0.0024833333333333335, 0.00745, -0.0007166666666666667, 0.010333333333333333, 0.005066666666666666, 0.0033166666666666665, 0.0030833333333333333, 0.004483333333333333, 0.1108, 0.05931666666666666, 0.0, 0.0, 1.6666666666666667e-05, 0.1353, 0.00016666666666666666, 0.0012166666666666667, 0.0, 0.0, 1.6666666666666667e-05, 0.0, 1.6666666666666667e-05, 0.1055, 0.0, 0.0, 0.0, 0.0, 0.0, 0.0, 0.0, 0.0, 1.6666666666666667e-05, 0.0, 0.0, 0.0, 0.0, 1.6666666666666667e-05, 0.12405, 0.008433333333333333, -0.0027833333333333334, 0.08796666666666667, 0.002616666666666667, 0.07208333333333333, 0.13106666666666666, 0.0, 0.05898333333333333, 0.012883333333333333, -0.00545, 0.1284, 0.29415, 0.06881666666666666, 0.08043333333333333, 0.0005833333333333334, 0.0003333333333333333, 0.15313333333333334, 1.6666666666666667e-05, 1.6666666666666667e-05, 0.0, 3.3333333333333335e-05, 6.666666666666667e-05, 0.010766666666666667, 0.0014666666666666667, 1.6666666666666667e-05, 0.00048333333333333334, 0.0019, 0.006783333333333333, 0.0, 0.004033333333333333, 3.3333333333333335e-05, 0.009783333333333333, 0.0034, 0.0003333333333333333, 0.00465, 0.0006333333333333333, 0.0030833333333333333, 5e-05, 0.0006666666666666666, 0.0011333333333333334, 0.01335, 0.0, 1.6666666666666667e-05, 0.0, 0.0, 0.0, 0.0, 0.0001, 0.0093, 0.05951666666666667, 0.0, 0.1721, 0.0052, 0.12306666666666667, -0.004216666666666666, 0.00125, 0.039683333333333334, 0.0013666666666666666, 0.28053333333333336, 0.20936666666666667, 0.0, 0.0, 1.6666666666666667e-05, 0.13216666666666665, 0.0522, 0.06358333333333334, 0.07693333333333334, 0.24123333333333333, 3.3333333333333335e-05, 0.0031666666666666666, 0.004716666666666667, 0.08331666666666666, 0.0, 0.0, 0.0, 0.00105, 0.06815, 0.09348333333333333, 0.11633333333333333, 0.0, 1.6666666666666667e-05, 0.0, 0.09461666666666667, 0.0905, 0.0, -0.009916666666666667, 0.21723333333333333, 0.0012333333333333332, 0.12828333333333333, 0.0, 0.0, 0.0, 0.0, 0.0004333333333333333, 0.00036666666666666667, 0.0034, 0.00505, 0.04081666666666667, 0.00515, 0.0, 0.0, 0.0, 0.0001, 0.0001, 0.10263333333333333, 0.04256666666666667, 0.0007166666666666667, 0.00105, 0.00095, 0.0, 0.02165, 0.0, 0.0, 0.11855, 0.14428333333333335, 0.00125, 0.00035, 0.0022833333333333334, 0.0466, 0.015383333333333334, 0.0021666666666666666, 0.026266666666666667, 0.06443333333333333, -0.0061333333333333335, 0.010066666666666666, 0.00023333333333333333, 0.0, 6.666666666666667e-05, 0.00485, 0.00015, 0.011383333333333334, 0.0010666666666666667, 0.011066666666666667, 0.007516666666666666, 0.0024333333333333334, 0.0107, 0.25083333333333335, 0.0, 0.0, 0.14015, 0.0012, 0.2811666666666667, 0.07075, 1.6666666666666667e-05, 0.18241666666666667, 0.003766666666666667, 0.0682, 0.18816666666666668, 0.007316666666666667, 0.07123333333333333, 0.0, 5e-05, 8.333333333333333e-05, 0.22101666666666667, 0.007166666666666667, 0.004716666666666667, 0.1239, 0.0024833333333333335, 0.0126, 0.0836, 0.052983333333333334, 0.12875, 0.1373, 0.03381666666666667, 0.3499333333333333, 1.6666666666666667e-05, 1.6666666666666667e-05, 0.0, 8.333333333333333e-05, 0.0001, 0.06866666666666667, 1.6666666666666667e-05, 0.0, 0.0, 0.0, 0.036083333333333335, 0.005883333333333333, 1.6666666666666667e-05, 0.0019333333333333333, 0.03205, 0.0, 0.0, 0.0, 0.0, -5e-05, 0.0, 0.0, 0.0, 5e-05, 1.6666666666666667e-05, 0.0, -6.666666666666667e-05, 1.6666666666666667e-05, 5e-05, -5e-05, 0.0, 0.0, 0.0, 0.0, 0.0, 0.009383333333333334, 0.06771666666666666, 0.0004166666666666667, 0.12805, 0.0, 0.0, 1.6666666666666667e-05, 0.13365, 0.0033333333333333335, 0.07581666666666667, 0.0076166666666666666, 0.0, 0.06416666666666666, 0.0017, 0.0012333333333333332, 0.002, 0.042166666666666665, 0.03378333333333333, 0.055466666666666664, 0.0, 0.0, 0.0, 0.0, 0.05823333333333333, 0.00765, 0.22028333333333333, 0.05438333333333333, 0.0017333333333333333, 0.048633333333333334, 0.0001, 0.0, 0.04218333333333334, 0.00905, 0.1378, 0.2176, 0.0008666666666666666, 0.15025, 0.0035833333333333333, 0.16176666666666667, 3.3333333333333335e-05, 0.004266666666666667, 0.0113, 0.14291666666666666, 0.10663333333333333, 0.14536666666666667, 0.0, 0.0, 0.0, 0.0, 0.0, 0.0, 0.0, 0.0, 1.6666666666666667e-05, 0.0, 0.00038333333333333334, 0.07726666666666666, 1.6666666666666667e-05, 0.0017833333333333334, 1.6666666666666667e-05, 0.00035, 0.05901666666666667, 0.0304, 0.0, 0.0, 1.6666666666666667e-05, 0.0, 3.3333333333333335e-05, 0.07458333333333333, 0.008916666666666666, 0.009633333333333334, 0.0, 0.0, 0.0, 1.6666666666666667e-05, 0.0, 1.6666666666666667e-05, 0.0, 0.0, 0.0, 0.0, 0.0, 0.0, 0.0, 0.0001, 0.0, 0.0, 3.3333333333333335e-05, 1.6666666666666667e-05, 1.6666666666666667e-05, 0.0, 1.6666666666666667e-05, 0.00585, 0.0, 0.0015166666666666666, 0.0023666666666666667, 0.06705, 0.13041666666666665, -0.0064333333333333334, 0.040516666666666666, 0.0013166666666666667, 1.6666666666666667e-05, 0.00335, 0.0023333333333333335, 0.00018333333333333334, 0.0, 0.0, 0.0, 0.0, 0.0, 0.0, 0.0, 0.0, 0.0, 0.0, 0.0, 1.6666666666666667e-05, 0.0, 0.0, 0.0, 0.0, 0.0, 0.001, 0.0037166666666666667, 0.004183333333333333, 0.07943333333333333, 1.6666666666666667e-05, 0.21321666666666667, 0.0, 0.0, 0.0, 0.0, 0.0033, 0.010233333333333334, 0.0, 0.0, 0.0, 0.0, 0.0, 0.0, 1.6666666666666667e-05, 0.0, 6.666666666666667e-05, 0.0, 0.0, 0.0, 1.6666666666666667e-05, 1.6666666666666667e-05, 0.0001, 0.0, 0.0, 0.0, 0.0, 0.0, 0.0, 0.0, 0.0, 0.0, 0.0, 0.0, 0.0, 0.0, 0.0, 0.0, 0.0, 0.0, 0.0, 0.0, 0.0, 1.6666666666666667e-05, 0.0, 0.0, 0.0, 0.0, 0.0, 0.0, 0.0, 0.00013333333333333334, 0.0, 0.0, 0.0, 0.0, 0.0, 0.0, 0.0, 1.6666666666666667e-05, 0.0, 0.0, 0.0, 0.0, 0.0, 0.0, 0.0, 0.0, 0.0, 1.6666666666666667e-05, 1.6666666666666667e-05, 0.0, 1.6666666666666667e-05, 1.6666666666666667e-05, 0.0, 0.0, 1.6666666666666667e-05, 3.3333333333333335e-05, 1.6666666666666667e-05, 0.0, 0.0, 0.0, 0.0, 0.028533333333333334, 0.046266666666666664, 0.0672, 0.25611666666666666, 0.0, 0.0, 0.0, 0.0, 0.0, 0.0, 0.0, 0.0, 3.3333333333333335e-05, 0.0, 1.6666666666666667e-05, 0.08496666666666666, 0.0, 0.3576666666666667, 0.19405, 0.10966666666666666, 0.00405, 1.6666666666666667e-05, 0.005266666666666667, 0.3469333333333333, 0.0, 0.06363333333333333, 0.0052833333333333335, 0.054, 0.08431666666666666, 0.00021666666666666666, 0.1084, 0.13108333333333333, 0.0024666666666666665, 0.021116666666666666, 0.0, 0.0008833333333333333, 0.043166666666666666, 0.0, 0.07921666666666667, 0.04185, 0.0, 1.6666666666666667e-05, 0.13008333333333333, 0.0, 0.0, 0.0, 5e-05, 0.0028666666666666667, 0.08661666666666666, 0.18736666666666665, 0.006083333333333333, 1.6666666666666667e-05, 0.0944, 0.13771666666666665, 0.005733333333333333, 0.010383333333333333, 0.0, 8.333333333333333e-05, 0.11581666666666666, 0.0394, 0.0, 0.23273333333333332, 1.6666666666666667e-05, 0.0, 1.6666666666666667e-05, 0.0, -0.008416666666666666, 0.0, 0.0, 0.0, 0.0, 0.0, 0.0008833333333333333, 0.0, 0.0, 0.0, 3.3333333333333335e-05, 1.6666666666666667e-05, 0.0027166666666666667, 0.0, 0.0, 0.0, 0.01475, 0.0, 0.0, 0.0, 0.02125, 0.0, 0.0, 0.0, 0.05765, 0.1104, 0.0029, -0.0015833333333333333, 0.06496666666666667, 0.0051333333333333335, 3.3333333333333335e-05, 0.22688333333333333, 0.00021666666666666666, 0.00046666666666666666, 0.0, 0.0, 0.0, 0.0, 0.0, 0.0, 0.0, 0.0, 0.0, 0.0, 5e-05, 0.0, 1.6666666666666667e-05, 0.0, 0.0, 0.0012833333333333334, 0.0003333333333333333, 0.0033666666666666667, 0.003833333333333333, 0.0023333333333333335, 1.6666666666666667e-05, 0.3379, 0.0, 0.0, 0.0, 1.6666666666666667e-05, 0.0, 0.0, 0.0, 0.0, 0.0, 0.0, 0.0, 0.12253333333333333, 0.24951666666666666, 0.05495, 0.06681666666666666, 0.0454, 0.0016, 1.6666666666666667e-05, 0.0, 3.3333333333333335e-05, 0.0016333333333333334, 0.0, 0.0, 0.0024333333333333334, 0.0, 0.033966666666666666, 0.026533333333333332, 0.00775, 0.0, 0.0, 0.00011666666666666667, 0.23656666666666668, 0.0, 6.666666666666667e-05, 0.0017333333333333333, 0.0005833333333333334, 0.0015333333333333334, 0.0019666666666666665, 0.00345, 1.6666666666666667e-05, 0.08246666666666666, 0.0, 0.022366666666666667, 0.0385, 0.0, 0.05998333333333333, 0.0, 0.0016166666666666666, 0.0030833333333333333, 0.00565, 0.0, 0.0, 0.0, 0.0, 0.0, 0.0, 0.0, 0.06881666666666666, 0.0, 0.0, 0.0, 0.0, 0.0, 0.0, 0.0, 0.0, 0.0, 3.3333333333333335e-05, 0.011916666666666667, -0.0061, 6.666666666666667e-05, 3.3333333333333335e-05, 0.00013333333333333334, 5e-05, 0.0008333333333333334, 0.19425, 0.0013, 0.13083333333333333, 0.00125, 0.0012666666666666666, 0.26155, 0.0575, 0.0, 1.6666666666666667e-05, 0.0, 0.0, 0.0, 0.0, 1.6666666666666667e-05, 0.0, 0.0, 0.0, 0.0, 3.3333333333333335e-05, 3.3333333333333335e-05, 0.00235, 0.1247, -0.0014333333333333333, 0.0, 0.0, 0.0, 3.3333333333333335e-05, 0.0025, 0.0024833333333333335, 0.00185, 0.045033333333333335, 0.0033, 0.0056166666666666665, 0.0, 0.0, 0.0, 0.0, 0.0, 0.0, 0.0, 0.0, 0.0, 0.0, 1.6666666666666667e-05, 0.0, 0.0009666666666666667, 0.1278, 0.010783333333333334, 0.00016666666666666666, 0.003533333333333333, 0.00225, 0.32958333333333334, 0.0, 0.0561, 0.007883333333333332, 0.08821666666666667, 0.09938333333333334, 0.039233333333333335, 0.0011, 0.09171666666666667, 0.006183333333333333, 0.00105, 0.0945, 0.12116666666666667, 0.00038333333333333334, 0.2881, 0.005, 0.0, 0.0, 0.0, 0.0, 0.0, 0.0, 0.18755, 1.6666666666666667e-05, 0.13225, 0.0, 0.0, 0.12958333333333333, 0.005033333333333333, 0.0015, 0.0016333333333333334, 0.0009833333333333332, 0.00105, 0.010066666666666666, 0.007533333333333334, 0.0015666666666666667, 0.0008166666666666667, 0.012833333333333334, 0.00046666666666666666, 0.09408333333333334, 0.046233333333333335, 0.0032333333333333333, 0.00065, 0.0039, 0.1166, 0.0008166666666666667, 0.002116666666666667, 0.0, 0.00036666666666666667, 0.08023333333333334, 3.3333333333333335e-05, 0.052983333333333334, 0.030683333333333333, 0.04973333333333333, 0.0026666666666666666, 0.0, 0.0, 0.0, 0.0, 0.0, 1.6666666666666667e-05, 0.021166666666666667, -0.0103, 0.00015, 0.0006833333333333333, 0.0, 0.0, 0.0, 0.0034666666666666665, 0.00395, 0.013333333333333334, 0.00245, 0.036533333333333334, 0.0, 0.08516666666666667, 6.666666666666667e-05, 0.0, 3.3333333333333335e-05, 0.0018166666666666667, 0.00935, 0.004216666666666666, 0.0004166666666666667, 0.00011666666666666667, 0.00625, 0.006683333333333334, 0.0009, 0.0, 0.0, 0.0010833333333333333, 0.002616666666666667, 0.0, 0.007216666666666666, 0.012083333333333333, 1.6666666666666667e-05, 0.006833333333333334, 0.0, 0.0, 0.0, 6.666666666666667e-05, 0.0012166666666666667, 0.008183333333333334, 0.00048333333333333334, 0.0004, 1.6666666666666667e-05, 0.028683333333333335, -0.0013333333333333333, 0.006316666666666667, 0.005316666666666667]\n"
     ]
    },
    {
     "data": {
      "image/png": "[encoded data removed]",
      "text/plain": [
       "<Figure size 640x480 with 1 Axes>"
      ]
     },
     "metadata": {},
     "output_type": "display_data"
    },
    {
     "data": {
      "image/png": "[encoded data removed]",
      "text/plain": [
       "<Figure size 640x480 with 1 Axes>"
      ]
     },
     "metadata": {},
     "output_type": "display_data"
    },
    {
     "data": {
      "image/png": "[encoded data removed]",
      "text/plain": [
       "<Figure size 640x480 with 1 Axes>"
      ]
     },
     "metadata": {},
     "output_type": "display_data"
    },
    {
     "name": "stdout",
     "output_type": "stream",
     "text": [
      "[4040, 0, 0, 0, 12, 0, 1, 0, 9, 0, 28, 3644, 0, 0, 1, 1, 13, 0, 0, 0, 0, 5490, -117, 50, 0, 0, 1, 0, 0, 0, 0, 0, 0, 4, 0, 1, 1, 0, 1, 1, 9, 4259, 0, 10, 0, 0, 6826, 107, 17, 2297, 0, 0, 0, 0, 0, 0, 0, 16, 0, 14, 0, 0, 0, 0, 0, 0, 0, 0, 0, 0, 0, 0, 0, 1, 0, 0, 0, 0, 0, 0, 0, 0, 0, 0, 0, 1, 0, 1, 9, 58, 8, 0, 0, 0, 3, 0, 0, 0, 11, 2, 3, 1, 2, 1, 0, 0, 0, 0, 1, 0, 0, 0, 0, 1, 1, 0, 0, 1, 0, 0, 1, 0, 0, 1, 1, 1, 0, 0, 0, 0, 0, 1, 0, 1, 1, 2, 0, 2, 0, 2, 6, 1, 0, 10, 2, 0, 2, 4, 5, 10, 60, 65, 10, 14, 23, 1, 0, 2, 7, 5, 4, 2, 0, 25, 9, 3, 5, 6, 8, 0, 0, 0, 6, 1, 11, 104, 0, 0, 0, 0, 0, 0, 0, 0, 0, 1, 1, 5, 0, 2662, 3381, 52, 132, 96, 304, 36, 4840, 66, 59, 24, 0, 3198, 0, 1306, 0, 19, 0, 0, 0, 0, 0, 1, 0, 264, 75, 429, -163, 225, 146, 14, 3433, 0, 1, 0, 49, 93, 0, 235, 551, 41, 298, 0, 511, 246, 17, 0, 0, 0, 0, 0, 0, 0, 0, 528, -336, 0, 275, 570, 0, 0, 0, 2, 40, 0, 298, 5881, 2960, 0, 0, 0, 0, 0, 0, 0, 0, 0, 0, 0, 2, 0, 0, 0, 0, 0, 1, 0, 0, 0, 0, 0, 0, 0, 0, 0, 0, 4, 0, 0, 0, 0, 3, 1, 0, 3, 4, 2, 0, 0, 1, 0, 0, 0, 0, 0, 0, 0, 24, 8230, 0, 0, 0, 0, 0, 271, 3907, 0, 0, 0, 9594, 0, 0, 1, 0, 0, 10049, 43, 11126, 6848, 0, 1, 0, 541, 449, 5881, 88, 10098, 5718, 70, 64, 15, 73, 1, 173, 4066, 424, 3719, 0, 0, 0, 8056, 0, 0, 0, 2, 0, 0, 109, 6924, 46, 14, 15265, 0, 0, 0, 0, 2383, 0, 0, 0, 0, 0, 7, 0, 1, 0, 0, 1, 1, 1515, 180, 1, 0, 1, 1, 76, 0, 0, 0, 0, 0, 0, 0, 0, 0, 0, 0, 0, 0, 0, 0, 0, 0, 0, 0, 0, 0, 0, 0, 0, 0, 0, 0, 0, 0, 0, 6, 0, 1, 0, 0, 1, 64, 1664, 6, 20, 48, 0, 25, 0, 37, 202, 55, 0, 1724, 54, 0, 121, 6413, 0, 0, 18, 183, 71, 97, 2962, 2, 1, 19, 3, 0, 7, 0, 6253, 11, 10, 0, 5, 6363, 0, 0, 0, 3133, 0, 0, 0, 0, 0, 0, 0, 0, 0, 0, 0, 0, 0, 0, 0, 0, 2, 0, 0, 1, 50, 372, 1961, 0, 0, 0, 0, 0, 4415, 129, 2386, 7631, 140, 38, 102, 183, 38, 8364, 67, 225, 0, 79, 12046, 0, 0, 1, 0, 0, 0, 2199, 296, 4564, 100, 3344, 0, 0, 0, 3152, 2644, 57, 0, 1384, 4253, 0, 2786, 0, 0, 0, 1328, 0, 0, 0, 0, 0, 0, 0, 0, 1, 0, 0, 0, 0, 0, 4, 0, 0, 0, 0, 0, 0, 0, 0, 0, 3, 0, 4, 0, 0, 0, 0, 7, 2, 0, 0, 0, 0, 0, 0, 0, 0, 34, 0, 0, 0, 130, 18, 0, 40, 0, 129, 72, 21, 0, 3269, 0, 0, 0, 117, 153, 3545, 0, 0, 3, 8, 8, 1, 0, 0, 0, 1, 100, 47, 247, 101, 5091, 0, 0, 0, 4, 5, 2, 0, 0, 0, 0, 0, 0, 3844, 4646, 0, 0, 0, 0, 0, 4198, 17318, 10476, 3708, 0, 28, 5012, 0, 0, 0, 0, 0, 5494, 0, 0, 2895, 117, 0, 0, 2615, 0, 0, 0, 0, 0, 0, 0, 0, 0, 0, 0, 0, 0, 0, 0, 0, 0, 0, 0, 2, 21, 20, 0, 55, 0, 458, 0, 5343, 37, 329, -129, -485, 0, 0, 0, 0, 0, 0, 0, 0, 0, 0, 0, 0, 0, 0, 0, 0, 0, 2, 0, 0, 1, 0, 12, 726, 0, 0, 0, 8, 7, 54, 0, 0, 1, 0, 0, 0, 1, 0, 6, 1900, 7591, 2, 0, 9907, 0, 0, 16275, 0, -649, 1326, 4, 12, 0, 0, 6, 3, 7, 0, 2637, 213, 57, 0, 0, 0, 8859, 5, 0, 6125, 90, 171, 244, 3739, 0, 0, 0, 6355, 3, 2, 0, 0, 0, 839, 3, 0, 0, 0, 0, 0, 0, 0, 0, 0, 0, 18, 0, 0, 0, 0, 0, 14, 0, 0, 2240, 4464, 0, 2, 397, 465, 919, -550, 9, 19, 637, 71, 803, 245, 204, 312, 209, 470, 826, 179, -108, 0, 0, 0, 204, 81, 5, 333, 3, 89, 931, 507, 143, 0, 247, 684, 0, -535, 242, 1430, 0, 0, 0, 0, 0, 4471, 137, 296, 11695, 212, 525, 117, 4968, 2, 1, 1, 1, 3, 0, 0, 0, 0, 3, 5, 568, 0, 1, 0, 0, 0, 2, 0, 0, 0, 0, 0, 0, 0, 0, 0, 0, 601, 72, -222, 54, 295, 3782, 45, 2668, 0, 0, 1, 0, 0, 0, 0, 0, 1, 0, 1, 0, 0, 0, 0, 0, 1, 0, 0, 636, -636, 1, 0, 0, 0, 0, 0, 1, 0, 0, 0, 0, 1, 0, 0, 0, 0, 1, 0, 0, 0, 0, 0, 0, 0, 0, 0, 0, 0, 0, 1, 0, 0, 0, 0, 0, 0, 0, 1, 0, 4, 0, 0, 4, 3, 6, 0, 0, 0, 6, 0, 3, 0, 108, 48, 48, 9, 0, 0, 0, 1, 0, 0, 1, 0, 0, 0, 0, 1, 0, 2, 2, 28, 181, 5500, 2030, 0, 0, 0, 0, 0, 0, 4, 0, 0, 2, 5, 0, 0, 0, 0, 0, 0, 0, 0, 0, 0, 20, 0, 0, 0, 0, 0, 0, 0, 13, 0, 0, 0, 0, 0, 16, 5, 1, 1, 0, 1, 19, 0, 0, 2, 0, 0, 0, 0, 0, 0, 5, 0, 0, 1, 0, 1, 0, 22, 21, 0, 0, 0, 163, 1984, 10, 5130, 0, 0, 0, 0, 0, 0, 0, 0, 0, 0, 2695, 4225, -676, 756, 0, 0, 0, 0, 0, 0, 0, 0, 0, -227, 7, 7622, 0, 3, 8, 103, 0, 5397, 0, 0, 0, 0, 0, 0, 0, 0, 0, 0, 0, 5036, 0, 2037, 249, 8806, 0, 0, 0, 0, 4, 0, 0, 0, 0, 4, 4980, 5185, 0, 0, 0, 0, 0, 6, 0, 24, 0, 0, 15, 0, 1, 4266, 0, 0, 0, 0, 239, 0, 5, 0, 0, 0, 5, 5, 1, 88, 0, 0, 0, 0, 195, 569, 188, 78, 117, 5, 5, 3, 5, 4, 5, 3, 307, 357, 162, 0, 0, 0, 0, 216, 184, 76, 240, 927, 0, 162, 0, 0, 0, 0, 42, 6720, 0, 0, 6805, 283, 210, 91, 82, 9618, 7296, 6046, 159, 281, 5180, 0, 3, 0, 0, 0, 0, 0, 0, 0, 0, 0, 0, 0, 0, 0, 0, 0, 0, 1656, 0, 5, 3781, 0, 12671, 39, 152, 3000, 0, 0, 0, 0, 0, 0, 1, 0, 0, 0, 0, 0, 0, 0, 0, 0, 0, 0, 0, 0, 0, 0, 0, 0, 0, 0, 0, 0, 0, 0, 0, 0, 0, 0, 0, 0, 0, 0, 0, 0, 0, 0, 1, 0, 0, 1, 0, 0, 2, 0, 0, 0, 0, 2, 283, 3338, 0, 4411, 0, 121, 243, 0, 0, 248, 3302, 0, 0, 0, 0, 0, 0, 5385, 5555, 688, 4827, 2596, 0, 0, 1547, 5, 2315, 63, 3405, 24, 35, 10099, 0, 3, -302, 17, 2628, 0, 0, 0, 0, 0, 0, 0, 6, 24, 24, 0, 0, 0, 3, 0, 0, 0, 714, 0, -357, 11496, 0, 0, 0, 0, 0, 0, 0, 0, 0, 0, 0, 1, 0, 0, 0, 0, 0, 0, 0, 1, 0, 0, -358, 358, 3395, 162, 0, -200, 2209, 652, 7628, 0, 0, 0, 0, 343, 218, 58, 28, 0, 0, 0, 0, 36, 1717, 1, 13, 37, 0, 34, 30, 0, 176, 321, 23, 28, 124, 0, 122, 175, 382, 5142, 3011, 0, 0, 1, 657, -458, 3794, 52, 0, 0, 4507, 0, 0, 0, 0, 1, 0, 0, 0, 0, 0, 0, 0, 0, 0, 0, 0, 0, 0, 0, 1, 1, 0, 4, 0, 1, 5, 0, 0, 0, 0, 6, 16, 0, 62, 0, 37, 1, 0, 42, 29, 0, 8499, 3646, -661, 5850, 0, 0, 0, 0, 0, 0, 0, 0, 0, 0, 0, 0, 0, 0, 0, 0, 0, 0, 0, 0, 0, 0, 0, 0, 0, 1, 0, 0, 0, 0, 0, 0, 0, 1, 0, 0, 0, 0, 2, 0, 2, 675, 121, 330, 4, 2, 15, 2, 1, 1, 1, 0, 0, 1, 1, 1, 0, 1, 0, 1, 1, 2, 2, 1, 1, 6, 1, 112, 729, 398, 1058, 6855, 0, 0, 0, 0, 0, 0, 0, 0, 0, 0, 0, 0, 0, 0, 0, 0, 0, 0, 0, 0, 0, 8514, 2911, 0, 0, 0, 0, 5532, 0, 6621, 0, 0, 492, 0, 673, 1, 1, 198, 0, 0, 0, 0, 1790, 31, 3851, 0, 0, 0, 0, 23, 3, 0, 3, 0, 3310, 0, 4239, 6097, 52, 4746, 412, -329, 761, 150, 3528, 86, 4987, 0, 0, 0, 0, 3, 46, 6077, 69, 347, 45, 61, -200, 0, 11926, 5732, 9, 8070, 128, 143, 2, 1, 5, 1, -34, 0, 0, 0, 0, 0, 0, 0, 0, 0, 0, 0, 0, 0, 0, 0, 0, 0, 0, 0, 0, 0, 0, 0, 0, 0, 0, 0, 0, 0, 0, 0, 0, 0, 0, 0, 0, 0, 0, 0, 37, -37, 3, 0, 0, 0, 0, 0, 0, 2, 50, -47, 265, 0, -102, 397, 149, 0, 0, 0, 0, 2, 248, 33, 0, 19, 0, 0, 0, 0, 0, 0, 0, 0, 0, 0, 0, 0, 0, 0, 0, 0, 4873, 1, 2, 0, 14, 0, 0, 0, 38, 0, 0, 0, 0, 2, 121, 0, 6, 0, 1, 0, 0, 2, 5, 6, -104, 0, 0, 0, 521, 0, -521, 0, 521, 0, 7, 0, 0, 0, 0, 0, 0, 0, 0, 0, 0, 0, 0, 0, 10, 0, 0, 0, 0, 0, 0, 0, 0, 0, 0, 0, 0, 0, 148, 3, 24, -24, 0, 1, 4, 0, 0, 3, 1, 0, 147, -103, 192, 0, 0, 0, 0, 0, 2, 0, 0, 0, 0, 0, 0, 0, 36, 0, 0, 0, 0, 0, 0, 0, 0, 151, 0, 0, 0, 0, 0, 0, 0, 0, 0, 2, 0, 0, 0, 0, 0, 0, 0, 0, -207, 0, 0, 0, 0, 0, 0, 0, 0, 0, 0, 207, 0, 37, 462, 0, 0, 0, 0, 0, 0, 0, 0, 0, -161, 0, 115, 58, -38, -117, 0, 431, 0, 0, 24, 0, 0, 17, 0, 0, 0, 0, 0, 0, 1, 0, 0, 0, 0, 0, 0, 0, 0, 0, 0, 0, 0, 0, 0, 0, 0, 0, 0, 0, 0, 0, 0, 0, 0, 0, 0, 0, 0, 0, 0, 595, 0, 218, 0, 0, 179, 0, -53, 75, 0, 0, 23, 0, 0, 0, 0, 0, 0, 0, 0, 0, 0, 0, 0, 0, 0, 0, 0, 0, 0, 0, 0, 0, 0, 0, 31, 0, 0, 178, 2, 0, 2, 3, 578, 0, 697, 0, 1, 2, 0, 1, 0, 7, 0, -17, 1, 0, 0, 0, 0, 0, 0, 21, 2, 0, 0, 0, 0, 0, 0, 407, 38, 683, 12, 51, 56, 39, 1302, 60, 0, 12, 702, 0, 0, 0, 1, 0, 1, 6, 0, 12, 0, 0, 0, 0, 1, 2, 4, 0, 0, 0, 0, 0, 0, 15, 108, -107, 0, 1, 109, 1, 2, 0, -110, 112, -112, 0, 112, -111, 0, 0, 112, -111, 0, 111, 1, -112, 113, -111, 1, 0, 0, 0, 1, 1, 0, 1, 1, 0, 2, 0, 1, 0, 0, 1035, 141, 34, 1460, 0, 4, 0, 0, 0, 13, 3, 3, 0, 1, 0, 0, 211, 15, 3702, 0, 3893, 0, 7, 7360, 0, 4, 0, 0, 1983, 2, 489, 4166, 0, 0, 2489, 76, 0, 0, 0, 0, 0, 128, 140, 5, 59, 0, 0, 0, 0, 0, 0, 293, 158, 4241, 0, 0, 1, 0, 0, 0, 3, 0, 0, 0, 1805, 0, 3812, 160, 1345, 1, 0, 0, 30, 0, 0, 0, 0, 0, 74, 0, 1, 0, 0, -28, 22, 26, 0, 0, 67, 3, 0, 1, 10, 0, 0, 12, 11, 4, 0, 8, 0, 0, 0, 0, 0, 378, 0, 0, 0, 1, 0, 0, 1, 1, 1, 45, 41, 32, 26, 120, 134, 55, 135, 75, 120, 0, 3, 1, 0, 1, 0, 0, 0, 0, 2, 0, 1, 4, 0, 0, 0, 0, 1, 1, 1748, 0, 0, 0, 0, 0, 0, 0, 0, 0, 1, 2, -613, 915, 0, 1, 0, 6, 0, -296, 0, 0, 0, 0, 0, 0, 306, -305, 310, -306, -370, 0, 0, 0, 0, 0, 0, 0, 0, 0, 0, 0, 0, 0, 0, 0, 0, 0, 0, 0, 146, 11, 0, 620, 0, 0, -620, 0, 620, 0, -620, 622, 0, 0, 7, 2, 0, 0, 0, 0, 0, 0, 0, 23, 10, 6, 0, 0, 2, 15, 17, 0, 0, 0, 0, 2, 36, 29, 39, -795, 0, 0, 0, 867, 3, 0, 19, -883, 0, 0, 0, 1, 0, 0, 0, 0, 0, 0, 0, 0, 0, 0, 0, 0, 1, 1745, 0, 0, -1611, 1, 3, 0, 0, 1, 0, 1, 0, 0, 0, 3, 0, 0, 0, 0, 0, 0, 0, 0, 1609, 0, 0, 0, 13, 38, 0, 0, 32, 3, 0, 5, -1700, 0, 0, 0, 0, 0, 0, 0, 0, 1712, 319, 2, 60, 48, -2123, 1, 0, 0, 0, 0, 0, 2610, 4, 43, 32, 3, 0, -463, 1, 128, 66, 3, 2327, 0, 42, -88, 1855, 0, 0, 1290, 1445, 511, -509, 0, 536, 14, 2, -491, 77, 69, 58, 50, 80, 63, 101, 38, 457, 0, 465, -464, 577, 138, 1, 4, 0, 0, 1473, 3729, 0, 0, 0, 0, 0, 0, 1, 169, 4, 0, 0, 0, 0, 8280, 0, 0, 0, 0, 0, 20, 1, 0, 0, 0, 0, 1, 0, 4, 0, 0, 0, 17, 0, 0, 0, 2, 1, 0, 1, 0, 0, 0, 516, 28, 242, 3879, 333, 119, 105, 0, 2595, 1, 0, 1, 1, 0, 0, 1, 0, 0, 0, 0, 0, 0, 0, 0, 0, 0, 0, 0, 0, 0, 0, 0, 0, 0, 1, 0, 0, 2, 0, 242, 0, 1420, 9, 113, 161, 3192, 3438, -7, 1, 0, 0, 0, 0, 158, 18, 11, 57, 168, 1880, 351, 7077, 0, 0, 6760, 6, 338, 0, 0, 97, 74, 9542, 0, 0, 0, 26, 0, 1, 7850, 0, 0, 238, 0, 0, 0, 0, 0, 0, 1, 0, 0, 0, 0, 0, 0, 0, 0, 0, 0, 0, 0, 0, 0, 1211, 0, 0, 0, 0, 0, 0, 2596, 0, 3, 0, 1, 1, 0, 4, 6, 0, 10, 0, 0, 301, 109, 24, 0, 36, 22, 0, 3063, 18, 129, 0, 0, 0, 858, 0, 0, 9, 9, 7, 0, 1415, 7, 0, 19, 0, 21, 0, 270, 8685, 250, 4118, 0, 0, 0, 0, 1, 0, 4, 1, 2, 1, 2, 2, 0, 5166, 2, 0, 34, 19, 2, 0, -315, 1102, 0, 53, -1084, 538, 3, 2, 10, 0, 0, 1, 0, 19, 0, 0, 0, 0, 0, 133, 22, 0, 4, 545, 0, 0, 0, 0, 0, 0, 81, 24, 106, 4617, 0, 0, 0, 4128, 2051, 1, 254, 2049, 0, 68, 12, 0, 1827, 66, 3669, 1, 1, 2019, 3080, 0, 8, 4, 5, 0, 1, 0, 0, 0, 3, 0, 0, 3, 0, 4245, 0, 0, 1, 0, 0, 0, 1, 0, 0, 0, 0, 0, 0, 0, 0, 0, 0, 0, 0, 0, 0, 0, 2, 0, 0, 2, 1, 3, 0, 0, 0, 0, 1, 0, 1, 622, 2956, 237, 337, -117, 1926, 0, 0, 0, 0, -247, 4811, 359, 23, 1121, 0, 0, 0, 0, 0, 0, 0, 66, 3868, 7448, 2768, 0, 139, 508, 10707, 0, 0, 7695, 3, 1570, 0, 0, 0, 0, 11, 1, 252, 2238, 0, 426, 0, 4254, 42, -260, 2643, 1, 7, 3078, 3853, 0, 0, 0, 36, 1, 0, 0, 5716, 0, 0, 0, 0, 0, 0, 0, 0, 0, 3, 0, 0, 0, 12, 0, 1, 0, 5072, 541, 4952, 936, 0, 15103, 192, 7731, 0, 0, 0, 10104, 0, 0, 0, 1, 0, 0, 2, 0, 0, 0, 0, 0, 0, 0, 0, 1, 0, 0, 0, 0, 0, 0, 0, 0, 0, 0, 0, 0, 0, 0, 0, 4, 0, 0, 0, 0, 0, 0, 0, 0, 12, 0, 0, 0, 0, 0, 3, 0, 0, 0, 0, 0, 0, 7, 0, 0, 0, 10, 5, 4, 1, 0, 0, 1, 1, 8, 19, 14, 45, 30, 502, -242, 291, 2377, 168, -321, 0, 4, 0, 0, 0, 0, 0, 2, 1114, 14, 39, 0, 7213, 139, 4117, 4074, 5943, 278, 1, 1, 0, 2, 2815, 0, 0, 0, 293, 0, 5116, 5904, 0, 0, 0, 0, 0, 0, 0, 2, 0, 0, 0, 1, 391, 25, 0, -409, 5, 0, 0, 5, 5, 28, 2, 41, 0, 0, 0, 0, 0, 0, 0, 0, 0, 0, 0, 0, 0, 0, 546, 0, 0, 0, 0, 0, 0, 1, 0, 0, 0, 0, 0, 0, 0, 0, 0, 0, 0, 0, 0, 0, 0, 0, 0, -11, 0, 0, 0, 157, 0, 6, 0, 0, 0, 2964, 97, 107, 3760, 0, 0, 372, 0, 0, 0, 0, 0, 0, 0, 0, 0, 0, 0, 30, 45, 292, 305, 0, 360, 0, 0, 0, 0, 0, 0, 0, 2, 0, 0, 0, 0, 0, 0, 0, 56, 9, 45, 52, 28, 5, 29, 116, 0, 258, 12, 44, 4605, -107, 0, 0, 107, 0, -84, 0, 0, 0, 84, 0, 0, 0, 357, 0, 0, 0, 0, 0, 0, 0, 0, 0, 0, 0, 0, 0, 0, 0, 0, 0, 0, 0, 0, 0, 0, 0, 0, 0, 0, 0, 0, 0, 0, 0, 0, 0, 0, 0, 4992, 1934, 0, 0, 5849, 0, 1, 5644, 12, 8, 0, 0, 5231, 376, 11156, 20, 152, 1691, 0, 0, 2, 0, 0, 0, 0, 0, 0, 0, 0, 2, 0, 0, 0, 0, 0, 0, 0, 0, 0, 0, 2, 0, 3, 0, 0, 0, 0, 0, 0, 0, 0, 0, 0, 0, 1, 0, 0, 3242, 4205, 4563, 0, 0, 518, 0, 0, 0, 0, 0, 0, 0, 0, 0, 0, 1, 0, 0, 0, 0, 0, 0, 1999, 20, 2286, 3, 0, -108, 0, 1, 0, 0, 0, 1, 106, 0, 0, 0, 0, 1, 107, 1, 1, 6115, 0, 0, 0, 1, 0, 0, 0, 0, 0, 0, 0, 97, 0, 0, 0, 0, 0, 0, 0, 0, 0, 0, 0, 0, 0, 0, 0, 0, 0, 0, 0, 0, 0, 0, 0, 0, 0, 0, 6, 0, 0, 0, 1, 0, 0, 2, 0, 0, 0, 0, 0, 0, 0, 0, 0, 0, 0, 0, 0, 0, 0, 0, 0, 0, 0, 0, 0, 0, 0, 0, 0, 0, 0, 0, 0, 0, 0, 0, 7050, 2723, 0, 0, 0, 0, 0, 2540, 0, 0, 0, 2, 10928, 0, 130, 16, 395, 7002, 73, 0, 0, 0, 6624, 86, 123, 6199, 6212, 0, -440, 69, 16047, 3092, 0, 0, 0, 11, 11, 5, 0, 0, 8, 0, 270, 0, 0, 3402, 4, 0, 2, 0, 2715, 5169, 1, 21, 0, 0, 390, 147, 3, 6755, 143, 2838, 4, 0, 5, 6, 32, 2304, 0, 1604, 5370, 0, 0, 0, 0, 9493, 212, 6535, 0, 0, 0, 0, 0, 1, 0, 0, 0, 0, 0, 0, 0, 2847, 3395, 4618, 281, 0, 0, 0, 0, 0, 0, 0, 0, 0, 306, 0, 0, 0, 0, 0, 0, 0, 0, 1, 0, 0, 3, 8, 19362, 6992, 0, 0, 0, 0, 0, 0, 0, 2762, 0, 0, 3180, 0, 0, 99, 9, 2210, 0, 0, 0, 0, 0, 0, 0, 0, 0, 0, 0, 0, 0, 0, 0, 0, 0, 0, 0, 0, 0, 2, 0, 0, 0, 0, 2, 32, 0, 0, 0, 0, 0, 0, 0, 0, 0, 68, 1, 0, 29, 27, 144, 0, 0, 52, 150, 334, 32, 7691, 2910, 3332, 104, 364, 7492, 0, 1, 680, 248, 0, 0, 78, 0, 275, 29, 4197, 4, 0, 0, 6, 4052, 5379, 0, 2, 0, 1, 5971, 3632, 5152, 0, 147, 41, 6018, 0, 0, 5, 2382, 217, 42, 0, 0, 0, 5359, 5149, 0, 15, 0, 0, 124, 4804, 3120, 0, 0, 0, 4, -75, 0, 0, 0, 0, 0, 0, 209, 51, 1880, 0, 0, 0, 0, 3245, 12067, 47, 13502, 2, 3, 28, 1, 664, 0, 0, 0, 0, 0, 0, 1, 0, 0, 16, 0, 0, 0, 5214, 7819, 100, 634, 0, 953, 6554, 0, 0, 0, 0, 0, 0, 0, 2759, 74, 162, 242, 2, 20, 0, 9861, 0, 0, 1291, 569, 500, 91, 0, 0, 0, 0, 0, 0, 0, 0, 0, 0, 0, 0, 0, 0, 0, 0, 0, 0, 0, 1418, 1, 0, 0, 0, 0, 0, 1487, 1661, 0, 0, 0, 0, 0, 0, 0, 1, 0, 0, 0, 0, 0, 0, 0, 2, 0, 0, 0, 10, 2984, 12, 120, 23, 1, 0, 0, 2, 1, 0, 0, 0, 0, 0, 2, 0, 2, 16, 171, 12, 1127, 53, -266, 171, 215, 0, 57, 0, 0, 0, 0, 1, 1, 0, 0, 3, 0, 0, 6, 0, 1, 19, 11, 28, 0, 61, 29, 0, 3, 1, 0, 0, 4, 0, 1, 3, 41, 0, 0, 30, 0, 71, 42, 91, 66, 52, 0, 3, 0, 10, 0, 17, 25, 107, 2024, 0, 5986, -132, 7, 202, 539, 117, 0, 0, 0, 0, 0, 0, 0, 3, 0, 0, 58, 25, 184, 0, 0, 0, 0, 0, 112, 0, 55, 2, 505, 1423, -383, 0, 187, 1551, 212, 182, 329, 421, 0, 0, 0, 3, 0]\n",
      "[0.06733333333333333, 0.0, 0.0, 0.0, 0.0002, 0.0, 1.6666666666666667e-05, 0.0, 0.00015, 0.0, 0.00046666666666666666, 0.060733333333333334, 0.0, 0.0, 1.6666666666666667e-05, 1.6666666666666667e-05, 0.00021666666666666666, 0.0, 0.0, 0.0, 0.0, 0.0915, -0.00195, 0.0008333333333333334, 0.0, 0.0, 1.6666666666666667e-05, 0.0, 0.0, 0.0, 0.0, 0.0, 0.0, 6.666666666666667e-05, 0.0, 1.6666666666666667e-05, 1.6666666666666667e-05, 0.0, 1.6666666666666667e-05, 1.6666666666666667e-05, 0.00015, 0.07098333333333333, 0.0, 0.00016666666666666666, 0.0, 0.0, 0.11376666666666667, 0.0017833333333333334, 0.00028333333333333335, 0.038283333333333336, 0.0, 0.0, 0.0, 0.0, 0.0, 0.0, 0.0, 0.0002666666666666667, 0.0, 0.00023333333333333333, 0.0, 0.0, 0.0, 0.0, 0.0, 0.0, 0.0, 0.0, 0.0, 0.0, 0.0, 0.0, 0.0, 1.6666666666666667e-05, 0.0, 0.0, 0.0, 0.0, 0.0, 0.0, 0.0, 0.0, 0.0, 0.0, 0.0, 1.6666666666666667e-05, 0.0, 1.6666666666666667e-05, 0.00015, 0.0009666666666666667, 0.00013333333333333334, 0.0, 0.0, 0.0, 5e-05, 0.0, 0.0, 0.0, 0.00018333333333333334, 3.3333333333333335e-05, 5e-05, 1.6666666666666667e-05, 3.3333333333333335e-05, 1.6666666666666667e-05, 0.0, 0.0, 0.0, 0.0, 1.6666666666666667e-05, 0.0, 0.0, 0.0, 0.0, 1.6666666666666667e-05, 1.6666666666666667e-05, 0.0, 0.0, 1.6666666666666667e-05, 0.0, 0.0, 1.6666666666666667e-05, 0.0, 0.0, 1.6666666666666667e-05, 1.6666666666666667e-05, 1.6666666666666667e-05, 0.0, 0.0, 0.0, 0.0, 0.0, 1.6666666666666667e-05, 0.0, 1.6666666666666667e-05, 1.6666666666666667e-05, 3.3333333333333335e-05, 0.0, 3.3333333333333335e-05, 0.0, 3.3333333333333335e-05, 0.0001, 1.6666666666666667e-05, 0.0, 0.00016666666666666666, 3.3333333333333335e-05, 0.0, 3.3333333333333335e-05, 6.666666666666667e-05, 8.333333333333333e-05, 0.00016666666666666666, 0.001, 0.0010833333333333333, 0.00016666666666666666, 0.00023333333333333333, 0.00038333333333333334, 1.6666666666666667e-05, 0.0, 3.3333333333333335e-05, 0.00011666666666666667, 8.333333333333333e-05, 6.666666666666667e-05, 3.3333333333333335e-05, 0.0, 0.0004166666666666667, 0.00015, 5e-05, 8.333333333333333e-05, 0.0001, 0.00013333333333333334, 0.0, 0.0, 0.0, 0.0001, 1.6666666666666667e-05, 0.00018333333333333334, 0.0017333333333333333, 0.0, 0.0, 0.0, 0.0, 0.0, 0.0, 0.0, 0.0, 0.0, 1.6666666666666667e-05, 1.6666666666666667e-05, 8.333333333333333e-05, 0.0, 0.044366666666666665, 0.05635, 0.0008666666666666666, 0.0022, 0.0016, 0.005066666666666666, 0.0006, 0.08066666666666666, 0.0011, 0.0009833333333333332, 0.0004, 0.0, 0.0533, 0.0, 0.021766666666666667, 0.0, 0.00031666666666666665, 0.0, 0.0, 0.0, 0.0, 0.0, 1.6666666666666667e-05, 0.0, 0.0044, 0.00125, 0.00715, -0.0027166666666666667, 0.00375, 0.0024333333333333334, 0.00023333333333333333, 0.057216666666666666, 0.0, 1.6666666666666667e-05, 0.0, 0.0008166666666666667, 0.00155, 0.0, 0.003916666666666666, 0.009183333333333333, 0.0006833333333333333, 0.004966666666666667, 0.0, 0.008516666666666667, 0.0041, 0.00028333333333333335, 0.0, 0.0, 0.0, 0.0, 0.0, 0.0, 0.0, 0.0, 0.0088, -0.0056, 0.0, 0.004583333333333333, 0.0095, 0.0, 0.0, 0.0, 3.3333333333333335e-05, 0.0006666666666666666, 0.0, 0.004966666666666667, 0.09801666666666667, 0.04933333333333333, 0.0, 0.0, 0.0, 0.0, 0.0, 0.0, 0.0, 0.0, 0.0, 0.0, 0.0, 3.3333333333333335e-05, 0.0, 0.0, 0.0, 0.0, 0.0, 1.6666666666666667e-05, 0.0, 0.0, 0.0, 0.0, 0.0, 0.0, 0.0, 0.0, 0.0, 0.0, 6.666666666666667e-05, 0.0, 0.0, 0.0, 0.0, 5e-05, 1.6666666666666667e-05, 0.0, 5e-05, 6.666666666666667e-05, 3.3333333333333335e-05, 0.0, 0.0, 1.6666666666666667e-05, 0.0, 0.0, 0.0, 0.0, 0.0, 0.0, 0.0, 0.0004, 0.13716666666666666, 0.0, 0.0, 0.0, 0.0, 0.0, 0.004516666666666667, 0.06511666666666667, 0.0, 0.0, 0.0, 0.1599, 0.0, 0.0, 1.6666666666666667e-05, 0.0, 0.0, 0.16748333333333335, 0.0007166666666666667, 0.18543333333333334, 0.11413333333333334, 0.0, 1.6666666666666667e-05, 0.0, 0.009016666666666666, 0.007483333333333333, 0.09801666666666667, 0.0014666666666666667, 0.1683, 0.0953, 0.0011666666666666668, 0.0010666666666666667, 0.00025, 0.0012166666666666667, 1.6666666666666667e-05, 0.0028833333333333332, 0.06776666666666667, 0.007066666666666666, 0.061983333333333335, 0.0, 0.0, 0.0, 0.13426666666666667, 0.0, 0.0, 0.0, 3.3333333333333335e-05, 0.0, 0.0, 0.0018166666666666667, 0.1154, 0.0007666666666666667, 0.00023333333333333333, 0.2544166666666667, 0.0, 0.0, 0.0, 0.0, 0.039716666666666664, 0.0, 0.0, 0.0, 0.0, 0.0, 0.00011666666666666667, 0.0, 1.6666666666666667e-05, 0.0, 0.0, 1.6666666666666667e-05, 1.6666666666666667e-05, 0.02525, 0.003, 1.6666666666666667e-05, 0.0, 1.6666666666666667e-05, 1.6666666666666667e-05, 0.0012666666666666666, 0.0, 0.0, 0.0, 0.0, 0.0, 0.0, 0.0, 0.0, 0.0, 0.0, 0.0, 0.0, 0.0, 0.0, 0.0, 0.0, 0.0, 0.0, 0.0, 0.0, 0.0, 0.0, 0.0, 0.0, 0.0, 0.0, 0.0, 0.0, 0.0, 0.0, 0.0001, 0.0, 1.6666666666666667e-05, 0.0, 0.0, 1.6666666666666667e-05, 0.0010666666666666667, 0.027733333333333332, 0.0001, 0.0003333333333333333, 0.0008, 0.0, 0.0004166666666666667, 0.0, 0.0006166666666666666, 0.0033666666666666667, 0.0009166666666666666, 0.0, 0.028733333333333333, 0.0009, 0.0, 0.0020166666666666666, 0.10688333333333333, 0.0, 0.0, 0.0003, 0.00305, 0.0011833333333333333, 0.0016166666666666666, 0.04936666666666667, 3.3333333333333335e-05, 1.6666666666666667e-05, 0.00031666666666666665, 5e-05, 0.0, 0.00011666666666666667, 0.0, 0.10421666666666667, 0.00018333333333333334, 0.00016666666666666666, 0.0, 8.333333333333333e-05, 0.10605, 0.0, 0.0, 0.0, 0.05221666666666667, 0.0, 0.0, 0.0, 0.0, 0.0, 0.0, 0.0, 0.0, 0.0, 0.0, 0.0, 0.0, 0.0, 0.0, 0.0, 0.0, 3.3333333333333335e-05, 0.0, 0.0, 1.6666666666666667e-05, 0.0008333333333333334, 0.0062, 0.032683333333333335, 0.0, 0.0, 0.0, 0.0, 0.0, 0.07358333333333333, 0.00215, 0.039766666666666665, 0.12718333333333334, 0.0023333333333333335, 0.0006333333333333333, 0.0017, 0.00305, 0.0006333333333333333, 0.1394, 0.0011166666666666666, 0.00375, 0.0, 0.0013166666666666667, 0.20076666666666668, 0.0, 0.0, 1.6666666666666667e-05, 0.0, 0.0, 0.0, 0.03665, 0.004933333333333333, 0.07606666666666667, 0.0016666666666666668, 0.055733333333333336, 0.0, 0.0, 0.0, 0.052533333333333335, 0.044066666666666664, 0.00095, 0.0, 0.023066666666666666, 0.07088333333333334, 0.0, 0.04643333333333333, 0.0, 0.0, 0.0, 0.022133333333333335, 0.0, 0.0, 0.0, 0.0, 0.0, 0.0, 0.0, 0.0, 1.6666666666666667e-05, 0.0, 0.0, 0.0, 0.0, 0.0, 6.666666666666667e-05, 0.0, 0.0, 0.0, 0.0, 0.0, 0.0, 0.0, 0.0, 0.0, 5e-05, 0.0, 6.666666666666667e-05, 0.0, 0.0, 0.0, 0.0, 0.00011666666666666667, 3.3333333333333335e-05, 0.0, 0.0, 0.0, 0.0, 0.0, 0.0, 0.0, 0.0, 0.0005666666666666667, 0.0, 0.0, 0.0, 0.0021666666666666666, 0.0003, 0.0, 0.0006666666666666666, 0.0, 0.00215, 0.0012, 0.00035, 0.0, 0.054483333333333335, 0.0, 0.0, 0.0, 0.00195, 0.00255, 0.059083333333333335, 0.0, 0.0, 5e-05, 0.00013333333333333334, 0.00013333333333333334, 1.6666666666666667e-05, 0.0, 0.0, 0.0, 1.6666666666666667e-05, 0.0016666666666666668, 0.0007833333333333334, 0.004116666666666667, 0.0016833333333333333, 0.08485, 0.0, 0.0, 0.0, 6.666666666666667e-05, 8.333333333333333e-05, 3.3333333333333335e-05, 0.0, 0.0, 0.0, 0.0, 0.0, 0.0, 0.06406666666666666, 0.07743333333333334, 0.0, 0.0, 0.0, 0.0, 0.0, 0.06996666666666666, 0.28863333333333335, 0.1746, 0.0618, 0.0, 0.00046666666666666666, 0.08353333333333333, 0.0, 0.0, 0.0, 0.0, 0.0, 0.09156666666666667, 0.0, 0.0, 0.04825, 0.00195, 0.0, 0.0, 0.043583333333333335, 0.0, 0.0, 0.0, 0.0, 0.0, 0.0, 0.0, 0.0, 0.0, 0.0, 0.0, 0.0, 0.0, 0.0, 0.0, 0.0, 0.0, 0.0, 0.0, 3.3333333333333335e-05, 0.00035, 0.0003333333333333333, 0.0, 0.0009166666666666666, 0.0, 0.007633333333333333, 0.0, 0.08905, 0.0006166666666666666, 0.005483333333333333, -0.00215, -0.008083333333333333, 0.0, 0.0, 0.0, 0.0, 0.0, 0.0, 0.0, 0.0, 0.0, 0.0, 0.0, 0.0, 0.0, 0.0, 0.0, 0.0, 0.0, 3.3333333333333335e-05, 0.0, 0.0, 1.6666666666666667e-05, 0.0, 0.0002, 0.0121, 0.0, 0.0, 0.0, 0.00013333333333333334, 0.00011666666666666667, 0.0009, 0.0, 0.0, 1.6666666666666667e-05, 0.0, 0.0, 0.0, 1.6666666666666667e-05, 0.0, 0.0001, 0.03166666666666667, 0.12651666666666667, 3.3333333333333335e-05, 0.0, 0.16511666666666666, 0.0, 0.0, 0.27125, 0.0, -0.010816666666666667, 0.0221, 6.666666666666667e-05, 0.0002, 0.0, 0.0, 0.0001, 5e-05, 0.00011666666666666667, 0.0, 0.04395, 0.00355, 0.00095, 0.0, 0.0, 0.0, 0.14765, 8.333333333333333e-05, 0.0, 0.10208333333333333, 0.0015, 0.00285, 0.004066666666666666, 0.062316666666666666, 0.0, 0.0, 0.0, 0.10591666666666667, 5e-05, 3.3333333333333335e-05, 0.0, 0.0, 0.0, 0.013983333333333334, 5e-05, 0.0, 0.0, 0.0, 0.0, 0.0, 0.0, 0.0, 0.0, 0.0, 0.0, 0.0003, 0.0, 0.0, 0.0, 0.0, 0.0, 0.00023333333333333333, 0.0, 0.0, 0.037333333333333336, 0.0744, 0.0, 3.3333333333333335e-05, 0.0066166666666666665, 0.00775, 0.015316666666666666, -0.009166666666666667, 0.00015, 0.00031666666666666665, 0.010616666666666667, 0.0011833333333333333, 0.013383333333333334, 0.004083333333333333, 0.0034, 0.0052, 0.0034833333333333335, 0.007833333333333333, 0.013766666666666667, 0.0029833333333333335, -0.0018, 0.0, 0.0, 0.0, 0.0034, 0.00135, 8.333333333333333e-05, 0.00555, 5e-05, 0.0014833333333333332, 0.015516666666666666, 0.00845, 0.0023833333333333332, 0.0, 0.004116666666666667, 0.0114, 0.0, -0.008916666666666666, 0.004033333333333333, 0.023833333333333335, 0.0, 0.0, 0.0, 0.0, 0.0, 0.07451666666666666, 0.0022833333333333334, 0.004933333333333333, 0.19491666666666665, 0.003533333333333333, 0.00875, 0.00195, 0.0828, 3.3333333333333335e-05, 1.6666666666666667e-05, 1.6666666666666667e-05, 1.6666666666666667e-05, 5e-05, 0.0, 0.0, 0.0, 0.0, 5e-05, 8.333333333333333e-05, 0.009466666666666667, 0.0, 1.6666666666666667e-05, 0.0, 0.0, 0.0, 3.3333333333333335e-05, 0.0, 0.0, 0.0, 0.0, 0.0, 0.0, 0.0, 0.0, 0.0, 0.0, 0.010016666666666667, 0.0012, -0.0037, 0.0009, 0.004916666666666666, 0.06303333333333333, 0.00075, 0.04446666666666667, 0.0, 0.0, 1.6666666666666667e-05, 0.0, 0.0, 0.0, 0.0, 0.0, 1.6666666666666667e-05, 0.0, 1.6666666666666667e-05, 0.0, 0.0, 0.0, 0.0, 0.0, 1.6666666666666667e-05, 0.0, 0.0, 0.0106, -0.0106, 1.6666666666666667e-05, 0.0, 0.0, 0.0, 0.0, 0.0, 1.6666666666666667e-05, 0.0, 0.0, 0.0, 0.0, 1.6666666666666667e-05, 0.0, 0.0, 0.0, 0.0, 1.6666666666666667e-05, 0.0, 0.0, 0.0, 0.0, 0.0, 0.0, 0.0, 0.0, 0.0, 0.0, 0.0, 0.0, 1.6666666666666667e-05, 0.0, 0.0, 0.0, 0.0, 0.0, 0.0, 0.0, 1.6666666666666667e-05, 0.0, 6.666666666666667e-05, 0.0, 0.0, 6.666666666666667e-05, 5e-05, 0.0001, 0.0, 0.0, 0.0, 0.0001, 0.0, 5e-05, 0.0, 0.0018, 0.0008, 0.0008, 0.00015, 0.0, 0.0, 0.0, 1.6666666666666667e-05, 0.0, 0.0, 1.6666666666666667e-05, 0.0, 0.0, 0.0, 0.0, 1.6666666666666667e-05, 0.0, 3.3333333333333335e-05, 3.3333333333333335e-05, 0.00046666666666666666, 0.0030166666666666666, 0.09166666666666666, 0.03383333333333333, 0.0, 0.0, 0.0, 0.0, 0.0, 0.0, 6.666666666666667e-05, 0.0, 0.0, 3.3333333333333335e-05, 8.333333333333333e-05, 0.0, 0.0, 0.0, 0.0, 0.0, 0.0, 0.0, 0.0, 0.0, 0.0, 0.0003333333333333333, 0.0, 0.0, 0.0, 0.0, 0.0, 0.0, 0.0, 0.00021666666666666666, 0.0, 0.0, 0.0, 0.0, 0.0, 0.0002666666666666667, 8.333333333333333e-05, 1.6666666666666667e-05, 1.6666666666666667e-05, 0.0, 1.6666666666666667e-05, 0.00031666666666666665, 0.0, 0.0, 3.3333333333333335e-05, 0.0, 0.0, 0.0, 0.0, 0.0, 0.0, 8.333333333333333e-05, 0.0, 0.0, 1.6666666666666667e-05, 0.0, 1.6666666666666667e-05, 0.0, 0.00036666666666666667, 0.00035, 0.0, 0.0, 0.0, 0.0027166666666666667, 0.03306666666666667, 0.00016666666666666666, 0.0855, 0.0, 0.0, 0.0, 0.0, 0.0, 0.0, 0.0, 0.0, 0.0, 0.0, 0.04491666666666667, 0.07041666666666667, -0.011266666666666666, 0.0126, 0.0, 0.0, 0.0, 0.0, 0.0, 0.0, 0.0, 0.0, 0.0, -0.0037833333333333334, 0.00011666666666666667, 0.12703333333333333, 0.0, 5e-05, 0.00013333333333333334, 0.0017166666666666667, 0.0, 0.08995, 0.0, 0.0, 0.0, 0.0, 0.0, 0.0, 0.0, 0.0, 0.0, 0.0, 0.0, 0.08393333333333333, 0.0, 0.03395, 0.00415, 0.14676666666666666, 0.0, 0.0, 0.0, 0.0, 6.666666666666667e-05, 0.0, 0.0, 0.0, 0.0, 6.666666666666667e-05, 0.083, 0.08641666666666667, 0.0, 0.0, 0.0, 0.0, 0.0, 0.0001, 0.0, 0.0004, 0.0, 0.0, 0.00025, 0.0, 1.6666666666666667e-05, 0.0711, 0.0, 0.0, 0.0, 0.0, 0.0039833333333333335, 0.0, 8.333333333333333e-05, 0.0, 0.0, 0.0, 8.333333333333333e-05, 8.333333333333333e-05, 1.6666666666666667e-05, 0.0014666666666666667, 0.0, 0.0, 0.0, 0.0, 0.00325, 0.009483333333333333, 0.0031333333333333335, 0.0013, 0.00195, 8.333333333333333e-05, 8.333333333333333e-05, 5e-05, 8.333333333333333e-05, 6.666666666666667e-05, 8.333333333333333e-05, 5e-05, 0.005116666666666667, 0.00595, 0.0027, 0.0, 0.0, 0.0, 0.0, 0.0036, 0.0030666666666666668, 0.0012666666666666666, 0.004, 0.01545, 0.0, 0.0027, 0.0, 0.0, 0.0, 0.0, 0.0007, 0.112, 0.0, 0.0, 0.11341666666666667, 0.004716666666666667, 0.0035, 0.0015166666666666666, 0.0013666666666666666, 0.1603, 0.1216, 0.10076666666666667, 0.00265, 0.004683333333333334, 0.08633333333333333, 0.0, 5e-05, 0.0, 0.0, 0.0, 0.0, 0.0, 0.0, 0.0, 0.0, 0.0, 0.0, 0.0, 0.0, 0.0, 0.0, 0.0, 0.0, 0.0276, 0.0, 8.333333333333333e-05, 0.06301666666666667, 0.0, 0.21118333333333333, 0.00065, 0.002533333333333333, 0.05, 0.0, 0.0, 0.0, 0.0, 0.0, 0.0, 1.6666666666666667e-05, 0.0, 0.0, 0.0, 0.0, 0.0, 0.0, 0.0, 0.0, 0.0, 0.0, 0.0, 0.0, 0.0, 0.0, 0.0, 0.0, 0.0, 0.0, 0.0, 0.0, 0.0, 0.0, 0.0, 0.0, 0.0, 0.0, 0.0, 0.0, 0.0, 0.0, 0.0, 0.0, 0.0, 0.0, 0.0, 1.6666666666666667e-05, 0.0, 0.0, 1.6666666666666667e-05, 0.0, 0.0, 3.3333333333333335e-05, 0.0, 0.0, 0.0, 0.0, 3.3333333333333335e-05, 0.004716666666666667, 0.05563333333333333, 0.0, 0.07351666666666666, 0.0, 0.0020166666666666666, 0.00405, 0.0, 0.0, 0.0041333333333333335, 0.05503333333333333, 0.0, 0.0, 0.0, 0.0, 0.0, 0.0, 0.08975, 0.09258333333333334, 0.011466666666666667, 0.08045, 0.04326666666666667, 0.0, 0.0, 0.02578333333333333, 8.333333333333333e-05, 0.03858333333333333, 0.00105, 0.05675, 0.0004, 0.0005833333333333334, 0.16831666666666667, 0.0, 5e-05, -0.005033333333333333, 0.00028333333333333335, 0.0438, 0.0, 0.0, 0.0, 0.0, 0.0, 0.0, 0.0, 0.0001, 0.0004, 0.0004, 0.0, 0.0, 0.0, 5e-05, 0.0, 0.0, 0.0, 0.0119, 0.0, -0.00595, 0.1916, 0.0, 0.0, 0.0, 0.0, 0.0, 0.0, 0.0, 0.0, 0.0, 0.0, 0.0, 1.6666666666666667e-05, 0.0, 0.0, 0.0, 0.0, 0.0, 0.0, 0.0, 1.6666666666666667e-05, 0.0, 0.0, -0.005966666666666667, 0.005966666666666667, 0.05658333333333333, 0.0027, 0.0, -0.0033333333333333335, 0.036816666666666664, 0.010866666666666667, 0.12713333333333332, 0.0, 0.0, 0.0, 0.0, 0.005716666666666667, 0.0036333333333333335, 0.0009666666666666667, 0.00046666666666666666, 0.0, 0.0, 0.0, 0.0, 0.0006, 0.028616666666666665, 1.6666666666666667e-05, 0.00021666666666666666, 0.0006166666666666666, 0.0, 0.0005666666666666667, 0.0005, 0.0, 0.0029333333333333334, 0.00535, 0.00038333333333333334, 0.00046666666666666666, 0.0020666666666666667, 0.0, 0.002033333333333333, 0.002916666666666667, 0.006366666666666666, 0.0857, 0.05018333333333334, 0.0, 0.0, 1.6666666666666667e-05, 0.01095, -0.007633333333333333, 0.06323333333333334, 0.0008666666666666666, 0.0, 0.0, 0.07511666666666666, 0.0, 0.0, 0.0, 0.0, 1.6666666666666667e-05, 0.0, 0.0, 0.0, 0.0, 0.0, 0.0, 0.0, 0.0, 0.0, 0.0, 0.0, 0.0, 0.0, 0.0, 1.6666666666666667e-05, 1.6666666666666667e-05, 0.0, 6.666666666666667e-05, 0.0, 1.6666666666666667e-05, 8.333333333333333e-05, 0.0, 0.0, 0.0, 0.0, 0.0001, 0.0002666666666666667, 0.0, 0.0010333333333333334, 0.0, 0.0006166666666666666, 1.6666666666666667e-05, 0.0, 0.0007, 0.00048333333333333334, 0.0, 0.14165, 0.06076666666666666, -0.011016666666666666, 0.0975, 0.0, 0.0, 0.0, 0.0, 0.0, 0.0, 0.0, 0.0, 0.0, 0.0, 0.0, 0.0, 0.0, 0.0, 0.0, 0.0, 0.0, 0.0, 0.0, 0.0, 0.0, 0.0, 0.0, 0.0, 0.0, 1.6666666666666667e-05, 0.0, 0.0, 0.0, 0.0, 0.0, 0.0, 0.0, 1.6666666666666667e-05, 0.0, 0.0, 0.0, 0.0, 3.3333333333333335e-05, 0.0, 3.3333333333333335e-05, 0.01125, 0.0020166666666666666, 0.0055, 6.666666666666667e-05, 3.3333333333333335e-05, 0.00025, 3.3333333333333335e-05, 1.6666666666666667e-05, 1.6666666666666667e-05, 1.6666666666666667e-05, 0.0, 0.0, 1.6666666666666667e-05, 1.6666666666666667e-05, 1.6666666666666667e-05, 0.0, 1.6666666666666667e-05, 0.0, 1.6666666666666667e-05, 1.6666666666666667e-05, 3.3333333333333335e-05, 3.3333333333333335e-05, 1.6666666666666667e-05, 1.6666666666666667e-05, 0.0001, 1.6666666666666667e-05, 0.0018666666666666666, 0.01215, 0.006633333333333333, 0.017633333333333334, 0.11425, 0.0, 0.0, 0.0, 0.0, 0.0, 0.0, 0.0, 0.0, 0.0, 0.0, 0.0, 0.0, 0.0, 0.0, 0.0, 0.0, 0.0, 0.0, 0.0, 0.0, 0.0, 0.1419, 0.048516666666666666, 0.0, 0.0, 0.0, 0.0, 0.0922, 0.0, 0.11035, 0.0, 0.0, 0.0082, 0.0, 0.011216666666666666, 1.6666666666666667e-05, 1.6666666666666667e-05, 0.0033, 0.0, 0.0, 0.0, 0.0, 0.029833333333333333, 0.0005166666666666667, 0.06418333333333333, 0.0, 0.0, 0.0, 0.0, 0.00038333333333333334, 5e-05, 0.0, 5e-05, 0.0, 0.05516666666666667, 0.0, 0.07065, 0.10161666666666666, 0.0008666666666666666, 0.0791, 0.006866666666666667, -0.005483333333333333, 0.012683333333333333, 0.0025, 0.0588, 0.0014333333333333333, 0.08311666666666667, 0.0, 0.0, 0.0, 0.0, 5e-05, 0.0007666666666666667, 0.10128333333333334, 0.00115, 0.005783333333333333, 0.00075, 0.0010166666666666666, -0.0033333333333333335, 0.0, 0.19876666666666667, 0.09553333333333333, 0.00015, 0.1345, 0.0021333333333333334, 0.0023833333333333332, 3.3333333333333335e-05, 1.6666666666666667e-05, 8.333333333333333e-05, 1.6666666666666667e-05, -0.0005666666666666667, 0.0, 0.0, 0.0, 0.0, 0.0, 0.0, 0.0, 0.0, 0.0, 0.0, 0.0, 0.0, 0.0, 0.0, 0.0, 0.0, 0.0, 0.0, 0.0, 0.0, 0.0, 0.0, 0.0, 0.0, 0.0, 0.0, 0.0, 0.0, 0.0, 0.0, 0.0, 0.0, 0.0, 0.0, 0.0, 0.0, 0.0, 0.0, 0.0, 0.0006166666666666666, -0.0006166666666666666, 5e-05, 0.0, 0.0, 0.0, 0.0, 0.0, 0.0, 3.3333333333333335e-05, 0.0008333333333333334, -0.0007833333333333334, 0.004416666666666667, 0.0, -0.0017, 0.0066166666666666665, 0.0024833333333333335, 0.0, 0.0, 0.0, 0.0, 3.3333333333333335e-05, 0.0041333333333333335, 0.00055, 0.0, 0.00031666666666666665, 0.0, 0.0, 0.0, 0.0, 0.0, 0.0, 0.0, 0.0, 0.0, 0.0, 0.0, 0.0, 0.0, 0.0, 0.0, 0.0, 0.08121666666666667, 1.6666666666666667e-05, 3.3333333333333335e-05, 0.0, 0.00023333333333333333, 0.0, 0.0, 0.0, 0.0006333333333333333, 0.0, 0.0, 0.0, 0.0, 3.3333333333333335e-05, 0.0020166666666666666, 0.0, 0.0001, 0.0, 1.6666666666666667e-05, 0.0, 0.0, 3.3333333333333335e-05, 8.333333333333333e-05, 0.0001, -0.0017333333333333333, 0.0, 0.0, 0.0, 0.008683333333333333, 0.0, -0.008683333333333333, 0.0, 0.008683333333333333, 0.0, 0.00011666666666666667, 0.0, 0.0, 0.0, 0.0, 0.0, 0.0, 0.0, 0.0, 0.0, 0.0, 0.0, 0.0, 0.0, 0.00016666666666666666, 0.0, 0.0, 0.0, 0.0, 0.0, 0.0, 0.0, 0.0, 0.0, 0.0, 0.0, 0.0, 0.0, 0.0024666666666666665, 5e-05, 0.0004, -0.0004, 0.0, 1.6666666666666667e-05, 6.666666666666667e-05, 0.0, 0.0, 5e-05, 1.6666666666666667e-05, 0.0, 0.00245, -0.0017166666666666667, 0.0032, 0.0, 0.0, 0.0, 0.0, 0.0, 3.3333333333333335e-05, 0.0, 0.0, 0.0, 0.0, 0.0, 0.0, 0.0, 0.0006, 0.0, 0.0, 0.0, 0.0, 0.0, 0.0, 0.0, 0.0, 0.0025166666666666666, 0.0, 0.0, 0.0, 0.0, 0.0, 0.0, 0.0, 0.0, 0.0, 3.3333333333333335e-05, 0.0, 0.0, 0.0, 0.0, 0.0, 0.0, 0.0, 0.0, -0.00345, 0.0, 0.0, 0.0, 0.0, 0.0, 0.0, 0.0, 0.0, 0.0, 0.0, 0.00345, 0.0, 0.0006166666666666666, 0.0077, 0.0, 0.0, 0.0, 0.0, 0.0, 0.0, 0.0, 0.0, 0.0, -0.002683333333333333, 0.0, 0.0019166666666666666, 0.0009666666666666667, -0.0006333333333333333, -0.00195, 0.0, 0.007183333333333333, 0.0, 0.0, 0.0004, 0.0, 0.0, 0.00028333333333333335, 0.0, 0.0, 0.0, 0.0, 0.0, 0.0, 1.6666666666666667e-05, 0.0, 0.0, 0.0, 0.0, 0.0, 0.0, 0.0, 0.0, 0.0, 0.0, 0.0, 0.0, 0.0, 0.0, 0.0, 0.0, 0.0, 0.0, 0.0, 0.0, 0.0, 0.0, 0.0, 0.0, 0.0, 0.0, 0.0, 0.0, 0.0, 0.0, 0.009916666666666667, 0.0, 0.0036333333333333335, 0.0, 0.0, 0.0029833333333333335, 0.0, -0.0008833333333333333, 0.00125, 0.0, 0.0, 0.00038333333333333334, 0.0, 0.0, 0.0, 0.0, 0.0, 0.0, 0.0, 0.0, 0.0, 0.0, 0.0, 0.0, 0.0, 0.0, 0.0, 0.0, 0.0, 0.0, 0.0, 0.0, 0.0, 0.0, 0.0, 0.0005166666666666667, 0.0, 0.0, 0.0029666666666666665, 3.3333333333333335e-05, 0.0, 3.3333333333333335e-05, 5e-05, 0.009633333333333334, 0.0, 0.011616666666666668, 0.0, 1.6666666666666667e-05, 3.3333333333333335e-05, 0.0, 1.6666666666666667e-05, 0.0, 0.00011666666666666667, 0.0, -0.00028333333333333335, 1.6666666666666667e-05, 0.0, 0.0, 0.0, 0.0, 0.0, 0.0, 0.00035, 3.3333333333333335e-05, 0.0, 0.0, 0.0, 0.0, 0.0, 0.0, 0.006783333333333333, 0.0006333333333333333, 0.011383333333333334, 0.0002, 0.00085, 0.0009333333333333333, 0.00065, 0.0217, 0.001, 0.0, 0.0002, 0.0117, 0.0, 0.0, 0.0, 1.6666666666666667e-05, 0.0, 1.6666666666666667e-05, 0.0001, 0.0, 0.0002, 0.0, 0.0, 0.0, 0.0, 1.6666666666666667e-05, 3.3333333333333335e-05, 6.666666666666667e-05, 0.0, 0.0, 0.0, 0.0, 0.0, 0.0, 0.00025, 0.0018, -0.0017833333333333334, 0.0, 1.6666666666666667e-05, 0.0018166666666666667, 1.6666666666666667e-05, 3.3333333333333335e-05, 0.0, -0.0018333333333333333, 0.0018666666666666666, -0.0018666666666666666, 0.0, 0.0018666666666666666, -0.00185, 0.0, 0.0, 0.0018666666666666666, -0.00185, 0.0, 0.00185, 1.6666666666666667e-05, -0.0018666666666666666, 0.0018833333333333334, -0.00185, 1.6666666666666667e-05, 0.0, 0.0, 0.0, 1.6666666666666667e-05, 1.6666666666666667e-05, 0.0, 1.6666666666666667e-05, 1.6666666666666667e-05, 0.0, 3.3333333333333335e-05, 0.0, 1.6666666666666667e-05, 0.0, 0.0, 0.01725, 0.00235, 0.0005666666666666667, 0.024333333333333332, 0.0, 6.666666666666667e-05, 0.0, 0.0, 0.0, 0.00021666666666666666, 5e-05, 5e-05, 0.0, 1.6666666666666667e-05, 0.0, 0.0, 0.0035166666666666666, 0.00025, 0.0617, 0.0, 0.06488333333333333, 0.0, 0.00011666666666666667, 0.12266666666666666, 0.0, 6.666666666666667e-05, 0.0, 0.0, 0.03305, 3.3333333333333335e-05, 0.00815, 0.06943333333333333, 0.0, 0.0, 0.04148333333333333, 0.0012666666666666666, 0.0, 0.0, 0.0, 0.0, 0.0, 0.0021333333333333334, 0.0023333333333333335, 8.333333333333333e-05, 0.0009833333333333332, 0.0, 0.0, 0.0, 0.0, 0.0, 0.0, 0.004883333333333333, 0.0026333333333333334, 0.07068333333333333, 0.0, 0.0, 1.6666666666666667e-05, 0.0, 0.0, 0.0, 5e-05, 0.0, 0.0, 0.0, 0.030083333333333333, 0.0, 0.06353333333333333, 0.0026666666666666666, 0.022416666666666668, 1.6666666666666667e-05, 0.0, 0.0, 0.0005, 0.0, 0.0, 0.0, 0.0, 0.0, 0.0012333333333333332, 0.0, 1.6666666666666667e-05, 0.0, 0.0, -0.00046666666666666666, 0.00036666666666666667, 0.0004333333333333333, 0.0, 0.0, 0.0011166666666666666, 5e-05, 0.0, 1.6666666666666667e-05, 0.00016666666666666666, 0.0, 0.0, 0.0002, 0.00018333333333333334, 6.666666666666667e-05, 0.0, 0.00013333333333333334, 0.0, 0.0, 0.0, 0.0, 0.0, 0.0063, 0.0, 0.0, 0.0, 1.6666666666666667e-05, 0.0, 0.0, 1.6666666666666667e-05, 1.6666666666666667e-05, 1.6666666666666667e-05, 0.00075, 0.0006833333333333333, 0.0005333333333333334, 0.0004333333333333333, 0.002, 0.0022333333333333333, 0.0009166666666666666, 0.00225, 0.00125, 0.002, 0.0, 5e-05, 1.6666666666666667e-05, 0.0, 1.6666666666666667e-05, 0.0, 0.0, 0.0, 0.0, 3.3333333333333335e-05, 0.0, 1.6666666666666667e-05, 6.666666666666667e-05, 0.0, 0.0, 0.0, 0.0, 1.6666666666666667e-05, 1.6666666666666667e-05, 0.029133333333333334, 0.0, 0.0, 0.0, 0.0, 0.0, 0.0, 0.0, 0.0, 0.0, 1.6666666666666667e-05, 3.3333333333333335e-05, -0.010216666666666667, 0.01525, 0.0, 1.6666666666666667e-05, 0.0, 0.0001, 0.0, -0.004933333333333333, 0.0, 0.0, 0.0, 0.0, 0.0, 0.0, 0.0051, -0.005083333333333333, 0.005166666666666667, -0.0051, -0.006166666666666667, 0.0, 0.0, 0.0, 0.0, 0.0, 0.0, 0.0, 0.0, 0.0, 0.0, 0.0, 0.0, 0.0, 0.0, 0.0, 0.0, 0.0, 0.0, 0.0, 0.0024333333333333334, 0.00018333333333333334, 0.0, 0.010333333333333333, 0.0, 0.0, -0.010333333333333333, 0.0, 0.010333333333333333, 0.0, -0.010333333333333333, 0.010366666666666666, 0.0, 0.0, 0.00011666666666666667, 3.3333333333333335e-05, 0.0, 0.0, 0.0, 0.0, 0.0, 0.0, 0.0, 0.00038333333333333334, 0.00016666666666666666, 0.0001, 0.0, 0.0, 3.3333333333333335e-05, 0.00025, 0.00028333333333333335, 0.0, 0.0, 0.0, 0.0, 3.3333333333333335e-05, 0.0006, 0.00048333333333333334, 0.00065, -0.01325, 0.0, 0.0, 0.0, 0.01445, 5e-05, 0.0, 0.00031666666666666665, -0.014716666666666666, 0.0, 0.0, 0.0, 1.6666666666666667e-05, 0.0, 0.0, 0.0, 0.0, 0.0, 0.0, 0.0, 0.0, 0.0, 0.0, 0.0, 0.0, 1.6666666666666667e-05, 0.029083333333333333, 0.0, 0.0, -0.02685, 1.6666666666666667e-05, 5e-05, 0.0, 0.0, 1.6666666666666667e-05, 0.0, 1.6666666666666667e-05, 0.0, 0.0, 0.0, 5e-05, 0.0, 0.0, 0.0, 0.0, 0.0, 0.0, 0.0, 0.0, 0.026816666666666666, 0.0, 0.0, 0.0, 0.00021666666666666666, 0.0006333333333333333, 0.0, 0.0, 0.0005333333333333334, 5e-05, 0.0, 8.333333333333333e-05, -0.028333333333333332, 0.0, 0.0, 0.0, 0.0, 0.0, 0.0, 0.0, 0.0, 0.028533333333333334, 0.005316666666666667, 3.3333333333333335e-05, 0.001, 0.0008, -0.035383333333333336, 1.6666666666666667e-05, 0.0, 0.0, 0.0, 0.0, 0.0, 0.0435, 6.666666666666667e-05, 0.0007166666666666667, 0.0005333333333333334, 5e-05, 0.0, -0.007716666666666667, 1.6666666666666667e-05, 0.0021333333333333334, 0.0011, 5e-05, 0.038783333333333336, 0.0, 0.0007, -0.0014666666666666667, 0.030916666666666665, 0.0, 0.0, 0.0215, 0.024083333333333335, 0.008516666666666667, -0.008483333333333334, 0.0, 0.008933333333333333, 0.00023333333333333333, 3.3333333333333335e-05, -0.008183333333333334, 0.0012833333333333334, 0.00115, 0.0009666666666666667, 0.0008333333333333334, 0.0013333333333333333, 0.00105, 0.0016833333333333333, 0.0006333333333333333, 0.0076166666666666666, 0.0, 0.00775, -0.007733333333333333, 0.009616666666666667, 0.0023, 1.6666666666666667e-05, 6.666666666666667e-05, 0.0, 0.0, 0.02455, 0.06215, 0.0, 0.0, 0.0, 0.0, 0.0, 0.0, 1.6666666666666667e-05, 0.0028166666666666665, 6.666666666666667e-05, 0.0, 0.0, 0.0, 0.0, 0.138, 0.0, 0.0, 0.0, 0.0, 0.0, 0.0003333333333333333, 1.6666666666666667e-05, 0.0, 0.0, 0.0, 0.0, 1.6666666666666667e-05, 0.0, 6.666666666666667e-05, 0.0, 0.0, 0.0, 0.00028333333333333335, 0.0, 0.0, 0.0, 3.3333333333333335e-05, 1.6666666666666667e-05, 0.0, 1.6666666666666667e-05, 0.0, 0.0, 0.0, 0.0086, 0.00046666666666666666, 0.004033333333333333, 0.06465, 0.00555, 0.0019833333333333335, 0.00175, 0.0, 0.04325, 1.6666666666666667e-05, 0.0, 1.6666666666666667e-05, 1.6666666666666667e-05, 0.0, 0.0, 1.6666666666666667e-05, 0.0, 0.0, 0.0, 0.0, 0.0, 0.0, 0.0, 0.0, 0.0, 0.0, 0.0, 0.0, 0.0, 0.0, 0.0, 0.0, 0.0, 0.0, 1.6666666666666667e-05, 0.0, 0.0, 3.3333333333333335e-05, 0.0, 0.004033333333333333, 0.0, 0.023666666666666666, 0.00015, 0.0018833333333333334, 0.002683333333333333, 0.0532, 0.0573, -0.00011666666666666667, 1.6666666666666667e-05, 0.0, 0.0, 0.0, 0.0, 0.0026333333333333334, 0.0003, 0.00018333333333333334, 0.00095, 0.0028, 0.03133333333333333, 0.00585, 0.11795, 0.0, 0.0, 0.11266666666666666, 0.0001, 0.005633333333333333, 0.0, 0.0, 0.0016166666666666666, 0.0012333333333333332, 0.15903333333333333, 0.0, 0.0, 0.0, 0.0004333333333333333, 0.0, 1.6666666666666667e-05, 0.13083333333333333, 0.0, 0.0, 0.003966666666666667, 0.0, 0.0, 0.0, 0.0, 0.0, 0.0, 1.6666666666666667e-05, 0.0, 0.0, 0.0, 0.0, 0.0, 0.0, 0.0, 0.0, 0.0, 0.0, 0.0, 0.0, 0.0, 0.0, 0.020183333333333334, 0.0, 0.0, 0.0, 0.0, 0.0, 0.0, 0.04326666666666667, 0.0, 5e-05, 0.0, 1.6666666666666667e-05, 1.6666666666666667e-05, 0.0, 6.666666666666667e-05, 0.0001, 0.0, 0.00016666666666666666, 0.0, 0.0, 0.005016666666666667, 0.0018166666666666667, 0.0004, 0.0, 0.0006, 0.00036666666666666667, 0.0, 0.05105, 0.0003, 0.00215, 0.0, 0.0, 0.0, 0.0143, 0.0, 0.0, 0.00015, 0.00015, 0.00011666666666666667, 0.0, 0.023583333333333335, 0.00011666666666666667, 0.0, 0.00031666666666666665, 0.0, 0.00035, 0.0, 0.0045, 0.14475, 0.004166666666666667, 0.06863333333333334, 0.0, 0.0, 0.0, 0.0, 1.6666666666666667e-05, 0.0, 6.666666666666667e-05, 1.6666666666666667e-05, 3.3333333333333335e-05, 1.6666666666666667e-05, 3.3333333333333335e-05, 3.3333333333333335e-05, 0.0, 0.0861, 3.3333333333333335e-05, 0.0, 0.0005666666666666667, 0.00031666666666666665, 3.3333333333333335e-05, 0.0, -0.00525, 0.018366666666666667, 0.0, 0.0008833333333333333, -0.01806666666666667, 0.008966666666666666, 5e-05, 3.3333333333333335e-05, 0.00016666666666666666, 0.0, 0.0, 1.6666666666666667e-05, 0.0, 0.00031666666666666665, 0.0, 0.0, 0.0, 0.0, 0.0, 0.0022166666666666667, 0.00036666666666666667, 0.0, 6.666666666666667e-05, 0.009083333333333334, 0.0, 0.0, 0.0, 0.0, 0.0, 0.0, 0.00135, 0.0004, 0.0017666666666666666, 0.07695, 0.0, 0.0, 0.0, 0.0688, 0.034183333333333336, 1.6666666666666667e-05, 0.004233333333333334, 0.03415, 0.0, 0.0011333333333333334, 0.0002, 0.0, 0.03045, 0.0011, 0.06115, 1.6666666666666667e-05, 1.6666666666666667e-05, 0.03365, 0.051333333333333335, 0.0, 0.00013333333333333334, 6.666666666666667e-05, 8.333333333333333e-05, 0.0, 1.6666666666666667e-05, 0.0, 0.0, 0.0, 5e-05, 0.0, 0.0, 5e-05, 0.0, 0.07075, 0.0, 0.0, 1.6666666666666667e-05, 0.0, 0.0, 0.0, 1.6666666666666667e-05, 0.0, 0.0, 0.0, 0.0, 0.0, 0.0, 0.0, 0.0, 0.0, 0.0, 0.0, 0.0, 0.0, 0.0, 0.0, 3.3333333333333335e-05, 0.0, 0.0, 3.3333333333333335e-05, 1.6666666666666667e-05, 5e-05, 0.0, 0.0, 0.0, 0.0, 1.6666666666666667e-05, 0.0, 1.6666666666666667e-05, 0.010366666666666666, 0.04926666666666667, 0.00395, 0.0056166666666666665, -0.00195, 0.0321, 0.0, 0.0, 0.0, 0.0, -0.004116666666666667, 0.08018333333333333, 0.0059833333333333336, 0.00038333333333333334, 0.018683333333333333, 0.0, 0.0, 0.0, 0.0, 0.0, 0.0, 0.0, 0.0011, 0.06446666666666667, 0.12413333333333333, 0.04613333333333333, 0.0, 0.0023166666666666665, 0.008466666666666667, 0.17845, 0.0, 0.0, 0.12825, 5e-05, 0.026166666666666668, 0.0, 0.0, 0.0, 0.0, 0.00018333333333333334, 1.6666666666666667e-05, 0.0042, 0.0373, 0.0, 0.0071, 0.0, 0.0709, 0.0007, -0.004333333333333333, 0.04405, 1.6666666666666667e-05, 0.00011666666666666667, 0.0513, 0.06421666666666667, 0.0, 0.0, 0.0, 0.0006, 1.6666666666666667e-05, 0.0, 0.0, 0.09526666666666667, 0.0, 0.0, 0.0, 0.0, 0.0, 0.0, 0.0, 0.0, 0.0, 5e-05, 0.0, 0.0, 0.0, 0.0002, 0.0, 1.6666666666666667e-05, 0.0, 0.08453333333333334, 0.009016666666666666, 0.08253333333333333, 0.0156, 0.0, 0.25171666666666664, 0.0032, 0.12885, 0.0, 0.0, 0.0, 0.1684, 0.0, 0.0, 0.0, 1.6666666666666667e-05, 0.0, 0.0, 3.3333333333333335e-05, 0.0, 0.0, 0.0, 0.0, 0.0, 0.0, 0.0, 0.0, 1.6666666666666667e-05, 0.0, 0.0, 0.0, 0.0, 0.0, 0.0, 0.0, 0.0, 0.0, 0.0, 0.0, 0.0, 0.0, 0.0, 0.0, 6.666666666666667e-05, 0.0, 0.0, 0.0, 0.0, 0.0, 0.0, 0.0, 0.0, 0.0002, 0.0, 0.0, 0.0, 0.0, 0.0, 5e-05, 0.0, 0.0, 0.0, 0.0, 0.0, 0.0, 0.00011666666666666667, 0.0, 0.0, 0.0, 0.00016666666666666666, 8.333333333333333e-05, 6.666666666666667e-05, 1.6666666666666667e-05, 0.0, 0.0, 1.6666666666666667e-05, 1.6666666666666667e-05, 0.00013333333333333334, 0.00031666666666666665, 0.00023333333333333333, 0.00075, 0.0005, 0.008366666666666666, -0.004033333333333333, 0.00485, 0.03961666666666667, 0.0028, -0.00535, 0.0, 6.666666666666667e-05, 0.0, 0.0, 0.0, 0.0, 0.0, 3.3333333333333335e-05, 0.018566666666666665, 0.00023333333333333333, 0.00065, 0.0, 0.12021666666666667, 0.0023166666666666665, 0.06861666666666667, 0.0679, 0.09905, 0.004633333333333333, 1.6666666666666667e-05, 1.6666666666666667e-05, 0.0, 3.3333333333333335e-05, 0.04691666666666667, 0.0, 0.0, 0.0, 0.004883333333333333, 0.0, 0.08526666666666667, 0.0984, 0.0, 0.0, 0.0, 0.0, 0.0, 0.0, 0.0, 3.3333333333333335e-05, 0.0, 0.0, 0.0, 1.6666666666666667e-05, 0.006516666666666666, 0.0004166666666666667, 0.0, -0.006816666666666667, 8.333333333333333e-05, 0.0, 0.0, 8.333333333333333e-05, 8.333333333333333e-05, 0.00046666666666666666, 3.3333333333333335e-05, 0.0006833333333333333, 0.0, 0.0, 0.0, 0.0, 0.0, 0.0, 0.0, 0.0, 0.0, 0.0, 0.0, 0.0, 0.0, 0.0, 0.0091, 0.0, 0.0, 0.0, 0.0, 0.0, 0.0, 1.6666666666666667e-05, 0.0, 0.0, 0.0, 0.0, 0.0, 0.0, 0.0, 0.0, 0.0, 0.0, 0.0, 0.0, 0.0, 0.0, 0.0, 0.0, 0.0, -0.00018333333333333334, 0.0, 0.0, 0.0, 0.002616666666666667, 0.0, 0.0001, 0.0, 0.0, 0.0, 0.0494, 0.0016166666666666666, 0.0017833333333333334, 0.06266666666666666, 0.0, 0.0, 0.0062, 0.0, 0.0, 0.0, 0.0, 0.0, 0.0, 0.0, 0.0, 0.0, 0.0, 0.0, 0.0005, 0.00075, 0.004866666666666667, 0.005083333333333333, 0.0, 0.006, 0.0, 0.0, 0.0, 0.0, 0.0, 0.0, 0.0, 3.3333333333333335e-05, 0.0, 0.0, 0.0, 0.0, 0.0, 0.0, 0.0, 0.0009333333333333333, 0.00015, 0.00075, 0.0008666666666666666, 0.00046666666666666666, 8.333333333333333e-05, 0.00048333333333333334, 0.0019333333333333333, 0.0, 0.0043, 0.0002, 0.0007333333333333333, 0.07675, -0.0017833333333333334, 0.0, 0.0, 0.0017833333333333334, 0.0, -0.0014, 0.0, 0.0, 0.0, 0.0014, 0.0, 0.0, 0.0, 0.00595, 0.0, 0.0, 0.0, 0.0, 0.0, 0.0, 0.0, 0.0, 0.0, 0.0, 0.0, 0.0, 0.0, 0.0, 0.0, 0.0, 0.0, 0.0, 0.0, 0.0, 0.0, 0.0, 0.0, 0.0, 0.0, 0.0, 0.0, 0.0, 0.0, 0.0, 0.0, 0.0, 0.0, 0.0, 0.0, 0.0832, 0.032233333333333336, 0.0, 0.0, 0.09748333333333334, 0.0, 1.6666666666666667e-05, 0.09406666666666667, 0.0002, 0.00013333333333333334, 0.0, 0.0, 0.08718333333333333, 0.006266666666666667, 0.18593333333333334, 0.0003333333333333333, 0.002533333333333333, 0.028183333333333335, 0.0, 0.0, 3.3333333333333335e-05, 0.0, 0.0, 0.0, 0.0, 0.0, 0.0, 0.0, 0.0, 3.3333333333333335e-05, 0.0, 0.0, 0.0, 0.0, 0.0, 0.0, 0.0, 0.0, 0.0, 0.0, 3.3333333333333335e-05, 0.0, 5e-05, 0.0, 0.0, 0.0, 0.0, 0.0, 0.0, 0.0, 0.0, 0.0, 0.0, 0.0, 1.6666666666666667e-05, 0.0, 0.0, 0.054033333333333336, 0.07008333333333333, 0.07605, 0.0, 0.0, 0.008633333333333333, 0.0, 0.0, 0.0, 0.0, 0.0, 0.0, 0.0, 0.0, 0.0, 0.0, 1.6666666666666667e-05, 0.0, 0.0, 0.0, 0.0, 0.0, 0.0, 0.03331666666666667, 0.0003333333333333333, 0.0381, 5e-05, 0.0, -0.0018, 0.0, 1.6666666666666667e-05, 0.0, 0.0, 0.0, 1.6666666666666667e-05, 0.0017666666666666666, 0.0, 0.0, 0.0, 0.0, 1.6666666666666667e-05, 0.0017833333333333334, 1.6666666666666667e-05, 1.6666666666666667e-05, 0.10191666666666667, 0.0, 0.0, 0.0, 1.6666666666666667e-05, 0.0, 0.0, 0.0, 0.0, 0.0, 0.0, 0.0, 0.0016166666666666666, 0.0, 0.0, 0.0, 0.0, 0.0, 0.0, 0.0, 0.0, 0.0, 0.0, 0.0, 0.0, 0.0, 0.0, 0.0, 0.0, 0.0, 0.0, 0.0, 0.0, 0.0, 0.0, 0.0, 0.0, 0.0, 0.0, 0.0001, 0.0, 0.0, 0.0, 1.6666666666666667e-05, 0.0, 0.0, 3.3333333333333335e-05, 0.0, 0.0, 0.0, 0.0, 0.0, 0.0, 0.0, 0.0, 0.0, 0.0, 0.0, 0.0, 0.0, 0.0, 0.0, 0.0, 0.0, 0.0, 0.0, 0.0, 0.0, 0.0, 0.0, 0.0, 0.0, 0.0, 0.0, 0.0, 0.0, 0.0, 0.0, 0.0, 0.1175, 0.04538333333333333, 0.0, 0.0, 0.0, 0.0, 0.0, 0.042333333333333334, 0.0, 0.0, 0.0, 3.3333333333333335e-05, 0.18213333333333334, 0.0, 0.0021666666666666666, 0.0002666666666666667, 0.006583333333333333, 0.1167, 0.0012166666666666667, 0.0, 0.0, 0.0, 0.1104, 0.0014333333333333333, 0.00205, 0.10331666666666667, 0.10353333333333334, 0.0, -0.007333333333333333, 0.00115, 0.26745, 0.051533333333333334, 0.0, 0.0, 0.0, 0.00018333333333333334, 0.00018333333333333334, 8.333333333333333e-05, 0.0, 0.0, 0.00013333333333333334, 0.0, 0.0045, 0.0, 0.0, 0.0567, 6.666666666666667e-05, 0.0, 3.3333333333333335e-05, 0.0, 0.04525, 0.08615, 1.6666666666666667e-05, 0.00035, 0.0, 0.0, 0.0065, 0.00245, 5e-05, 0.11258333333333333, 0.0023833333333333332, 0.0473, 6.666666666666667e-05, 0.0, 8.333333333333333e-05, 0.0001, 0.0005333333333333334, 0.0384, 0.0, 0.026733333333333335, 0.0895, 0.0, 0.0, 0.0, 0.0, 0.15821666666666667, 0.003533333333333333, 0.10891666666666666, 0.0, 0.0, 0.0, 0.0, 0.0, 1.6666666666666667e-05, 0.0, 0.0, 0.0, 0.0, 0.0, 0.0, 0.0, 0.04745, 0.05658333333333333, 0.07696666666666667, 0.004683333333333334, 0.0, 0.0, 0.0, 0.0, 0.0, 0.0, 0.0, 0.0, 0.0, 0.0051, 0.0, 0.0, 0.0, 0.0, 0.0, 0.0, 0.0, 0.0, 1.6666666666666667e-05, 0.0, 0.0, 5e-05, 0.00013333333333333334, 0.3227, 0.11653333333333334, 0.0, 0.0, 0.0, 0.0, 0.0, 0.0, 0.0, 0.046033333333333336, 0.0, 0.0, 0.053, 0.0, 0.0, 0.00165, 0.00015, 0.036833333333333336, 0.0, 0.0, 0.0, 0.0, 0.0, 0.0, 0.0, 0.0, 0.0, 0.0, 0.0, 0.0, 0.0, 0.0, 0.0, 0.0, 0.0, 0.0, 0.0, 0.0, 0.0, 3.3333333333333335e-05, 0.0, 0.0, 0.0, 0.0, 3.3333333333333335e-05, 0.0005333333333333334, 0.0, 0.0, 0.0, 0.0, 0.0, 0.0, 0.0, 0.0, 0.0, 0.0011333333333333334, 1.6666666666666667e-05, 0.0, 0.00048333333333333334, 0.00045, 0.0024, 0.0, 0.0, 0.0008666666666666666, 0.0025, 0.005566666666666667, 0.0005333333333333334, 0.12818333333333334, 0.0485, 0.05553333333333333, 0.0017333333333333333, 0.006066666666666666, 0.12486666666666667, 0.0, 1.6666666666666667e-05, 0.011333333333333334, 0.0041333333333333335, 0.0, 0.0, 0.0013, 0.0, 0.004583333333333333, 0.00048333333333333334, 0.06995, 6.666666666666667e-05, 0.0, 0.0, 0.0001, 0.06753333333333333, 0.08965, 0.0, 3.3333333333333335e-05, 0.0, 1.6666666666666667e-05, 0.09951666666666667, 0.060533333333333335, 0.08586666666666666, 0.0, 0.00245, 0.0006833333333333333, 0.1003, 0.0, 0.0, 8.333333333333333e-05, 0.0397, 0.0036166666666666665, 0.0007, 0.0, 0.0, 0.0, 0.08931666666666667, 0.08581666666666667, 0.0, 0.00025, 0.0, 0.0, 0.0020666666666666667, 0.08006666666666666, 0.052, 0.0, 0.0, 0.0, 6.666666666666667e-05, -0.00125, 0.0, 0.0, 0.0, 0.0, 0.0, 0.0, 0.0034833333333333335, 0.00085, 0.03133333333333333, 0.0, 0.0, 0.0, 0.0, 0.05408333333333333, 0.20111666666666667, 0.0007833333333333334, 0.22503333333333334, 3.3333333333333335e-05, 5e-05, 0.00046666666666666666, 1.6666666666666667e-05, 0.011066666666666667, 0.0, 0.0, 0.0, 0.0, 0.0, 0.0, 1.6666666666666667e-05, 0.0, 0.0, 0.0002666666666666667, 0.0, 0.0, 0.0, 0.0869, 0.13031666666666666, 0.0016666666666666668, 0.010566666666666667, 0.0, 0.015883333333333333, 0.10923333333333334, 0.0, 0.0, 0.0, 0.0, 0.0, 0.0, 0.0, 0.045983333333333334, 0.0012333333333333332, 0.0027, 0.004033333333333333, 3.3333333333333335e-05, 0.0003333333333333333, 0.0, 0.16435, 0.0, 0.0, 0.021516666666666667, 0.009483333333333333, 0.008333333333333333, 0.0015166666666666666, 0.0, 0.0, 0.0, 0.0, 0.0, 0.0, 0.0, 0.0, 0.0, 0.0, 0.0, 0.0, 0.0, 0.0, 0.0, 0.0, 0.0, 0.0, 0.0, 0.023633333333333333, 1.6666666666666667e-05, 0.0, 0.0, 0.0, 0.0, 0.0, 0.024783333333333334, 0.027683333333333334, 0.0, 0.0, 0.0, 0.0, 0.0, 0.0, 0.0, 1.6666666666666667e-05, 0.0, 0.0, 0.0, 0.0, 0.0, 0.0, 0.0, 3.3333333333333335e-05, 0.0, 0.0, 0.0, 0.00016666666666666666, 0.04973333333333333, 0.0002, 0.002, 0.00038333333333333334, 1.6666666666666667e-05, 0.0, 0.0, 3.3333333333333335e-05, 1.6666666666666667e-05, 0.0, 0.0, 0.0, 0.0, 0.0, 3.3333333333333335e-05, 0.0, 3.3333333333333335e-05, 0.0002666666666666667, 0.00285, 0.0002, 0.018783333333333332, 0.0008833333333333333, -0.004433333333333333, 0.00285, 0.0035833333333333333, 0.0, 0.00095, 0.0, 0.0, 0.0, 0.0, 1.6666666666666667e-05, 1.6666666666666667e-05, 0.0, 0.0, 5e-05, 0.0, 0.0, 0.0001, 0.0, 1.6666666666666667e-05, 0.00031666666666666665, 0.00018333333333333334, 0.00046666666666666666, 0.0, 0.0010166666666666666, 0.00048333333333333334, 0.0, 5e-05, 1.6666666666666667e-05, 0.0, 0.0, 6.666666666666667e-05, 0.0, 1.6666666666666667e-05, 5e-05, 0.0006833333333333333, 0.0, 0.0, 0.0005, 0.0, 0.0011833333333333333, 0.0007, 0.0015166666666666666, 0.0011, 0.0008666666666666666, 0.0, 5e-05, 0.0, 0.00016666666666666666, 0.0, 0.00028333333333333335, 0.0004166666666666667, 0.0017833333333333334, 0.03373333333333333, 0.0, 0.09976666666666667, -0.0022, 0.00011666666666666667, 0.0033666666666666667, 0.008983333333333333, 0.00195, 0.0, 0.0, 0.0, 0.0, 0.0, 0.0, 0.0, 5e-05, 0.0, 0.0, 0.0009666666666666667, 0.0004166666666666667, 0.0030666666666666668, 0.0, 0.0, 0.0, 0.0, 0.0, 0.0018666666666666666, 0.0, 0.0009166666666666666, 3.3333333333333335e-05, 0.008416666666666666, 0.023716666666666667, -0.006383333333333334, 0.0, 0.0031166666666666665, 0.02585, 0.003533333333333333, 0.003033333333333333, 0.005483333333333333, 0.007016666666666667, 0.0, 0.0, 0.0, 5e-05, 0.0]\n"
     ]
    },
    {
     "data": {
      "image/png": "[encoded data removed]",
      "text/plain": [
       "<Figure size 640x480 with 1 Axes>"
      ]
     },
     "metadata": {},
     "output_type": "display_data"
    },
    {
     "data": {
      "image/png": "[encoded data removed]",
      "text/plain": [
       "<Figure size 640x480 with 1 Axes>"
      ]
     },
     "metadata": {},
     "output_type": "display_data"
    },
    {
     "data": {
      "image/png": "[encoded data removed]",
      "text/plain": [
       "<Figure size 640x480 with 1 Axes>"
      ]
     },
     "metadata": {},
     "output_type": "display_data"
    },
    {
     "name": "stdout",
     "output_type": "stream",
     "text": [
      "[29745, 59448, 49406, 15840, 77558, 599, 143407, 8403, 64420, 67782, 1756, 48635, 202, 120997, 491, 2913, 601, -402, 206, 594, 400, 65415, 183, 14401, 27211, 39386, 119959, 10128, 147, 364, -833, 19636, 10221, 384, 213, 223, 14774, 582, 210, 66197, 21011, 25983, 2667, 5457, 479, 14041, 30155, 36205, 200, 197, 23210, 14191, 195, 36402, 13601, 6817, 75547, 81199, 35459, 593]\n",
      "[0.49575, 0.9908, 0.8234333333333334, 0.264, 1.2926333333333333, 0.009983333333333334, 2.3901166666666667, 0.14005, 1.0736666666666668, 1.1297, 0.029266666666666667, 0.8105833333333333, 0.0033666666666666667, 2.0166166666666667, 0.008183333333333334, 0.04855, 0.010016666666666667, -0.0067, 0.0034333333333333334, 0.0099, 0.006666666666666667, 1.09025, 0.00305, 0.24001666666666666, 0.4535166666666667, 0.6564333333333333, 1.9993166666666666, 0.1688, 0.00245, 0.006066666666666666, -0.013883333333333333, 0.32726666666666665, 0.17035, 0.0064, 0.00355, 0.0037166666666666667, 0.24623333333333333, 0.0097, 0.0035, 1.1032833333333334, 0.35018333333333335, 0.43305, 0.04445, 0.09095, 0.007983333333333334, 0.23401666666666668, 0.5025833333333334, 0.6034166666666667, 0.0033333333333333335, 0.0032833333333333334, 0.3868333333333333, 0.23651666666666665, 0.00325, 0.6067, 0.22668333333333332, 0.11361666666666667, 1.2591166666666667, 1.3533166666666667, 0.5909833333333333, 0.009883333333333333]\n"
     ]
    },
    {
     "data": {
      "image/png": "[encoded data removed]",
      "text/plain": [
       "<Figure size 640x480 with 1 Axes>"
      ]
     },
     "metadata": {},
     "output_type": "display_data"
    }
   ],
   "source": [
    "#delays\n",
    "import matplotlib.pyplot as plt\n",
    "\n",
    "\n",
    "def transactionDelayMs(df):\n",
    "    delaysMs = (df['Posttimestamp'] - df['Timestamp']).tolist()\n",
    "    delaysSec = [delay / 1000 for delay in delaysMs]\n",
    "    plt.hist(delaysSec, bins=30)\n",
    "    plt.show()\n",
    "    plt.plot(delaysSec)\n",
    "    plt.show()\n",
    "\n",
    "\n",
    "def candlestickDelayMs(df):\n",
    "    timestamps = df['Timestamp'].tolist()\n",
    "    before = timestamps[:-1]\n",
    "    after = timestamps[1:]\n",
    "    base = 60 * 1000 # ms for a minute\n",
    "    delays = [a - b for a, b in zip(after, before)]\n",
    "    delaysPercentage = [delay / base for delay in delays]\n",
    "    print(delays)\n",
    "    print(delaysPercentage)\n",
    "    #plt.plot(delays)\n",
    "    #plt.plot(delaysPercentage)\n",
    "    plt.hist(delaysPercentage)\n",
    "    plt.show()\n",
    "\n",
    "transactionDelayMs(df_logs['amzn'])\n",
    "candlestickDelayMs(df_logs['amzn'])\n",
    "\n",
    "transactionDelayMs(df_logs['msft'])\n",
    "candlestickDelayMs(df_logs['msft'])\n",
    "\n",
    "transactionDelayMs(df_logs['binance'])\n",
    "candlestickDelayMs(df_logs['binance'])\n",
    "\n",
    "transactionDelayMs(df_logs['icm'])\n",
    "candlestickDelayMs(df_logs['icm'])"
   ]
  }
 ],
 "metadata": {
  "kernelspec": {
   "display_name": ".venv",
   "language": "python",
   "name": "python3"
  },
  "language_info": {
   "codemirror_mode": {
    "name": "ipython",
    "version": 3
   },
   "file_extension": ".py",
   "mimetype": "text/x-python",
   "name": "python",
   "nbconvert_exporter": "python",
   "pygments_lexer": "ipython3",
   "version": "3.12.3"
  }
 },
 "nbformat": 4,
 "nbformat_minor": 2
}
